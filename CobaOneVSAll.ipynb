{
 "cells": [
  {
   "cell_type": "code",
   "execution_count": 36,
   "metadata": {},
   "outputs": [],
   "source": [
    "# Data manipulation and analysis\n",
    "import pandas as pd\n",
    "import numpy as np"
   ]
  },
  {
   "cell_type": "code",
   "execution_count": 37,
   "metadata": {},
   "outputs": [],
   "source": [
    "# Data visualization\n",
    "import matplotlib.pyplot as plt\n",
    "import seaborn as sns"
   ]
  },
  {
   "cell_type": "code",
   "execution_count": 38,
   "metadata": {},
   "outputs": [],
   "source": [
    "# Statistical analysis\n",
    "import scipy.stats as st\n",
    "from statsmodels.stats.outliers_influence import variance_inflation_factor\n",
    "import statsmodels.api as sm\n",
    "from statsmodels.stats.stattools import durbin_watson"
   ]
  },
  {
   "cell_type": "code",
   "execution_count": 39,
   "metadata": {},
   "outputs": [],
   "source": [
    "# Machine learning\n",
    "from sklearn.model_selection import train_test_split, RandomizedSearchCV, cross_val_score, StratifiedKFold\n",
    "from sklearn.svm import SVC\n",
    "from sklearn.neighbors import KNeighborsClassifier\n",
    "from sklearn.tree import DecisionTreeClassifier\n",
    "from sklearn.ensemble import RandomForestClassifier, BaggingClassifier, GradientBoostingClassifier, AdaBoostClassifier, ExtraTreesClassifier\n",
    "from sklearn.metrics import classification_report, precision_score, accuracy_score, recall_score, f1_score, confusion_matrix, make_scorer\n",
    "from sklearn.linear_model import LogisticRegression\n",
    "from sklearn.model_selection import GridSearchCV"
   ]
  },
  {
   "cell_type": "code",
   "execution_count": 40,
   "metadata": {},
   "outputs": [],
   "source": [
    "# Preprocessing\n",
    "from imblearn.over_sampling import SMOTENC, SMOTE\n",
    "from sklearn.decomposition import PCA\n",
    "from sklearn.preprocessing import MinMaxScaler, StandardScaler, OneHotEncoder, OrdinalEncoder"
   ]
  },
  {
   "cell_type": "code",
   "execution_count": 41,
   "metadata": {},
   "outputs": [],
   "source": [
    "# Timing\n",
    "import time\n",
    "import datetime as dt"
   ]
  },
  {
   "cell_type": "code",
   "execution_count": 42,
   "metadata": {},
   "outputs": [],
   "source": [
    "# Serialization\n",
    "import pickle\n",
    "import json"
   ]
  },
  {
   "cell_type": "code",
   "execution_count": 43,
   "metadata": {},
   "outputs": [],
   "source": [
    "# disable warnings\n",
    "import warnings\n",
    "warnings.filterwarnings('ignore') #turn off warning"
   ]
  },
  {
   "cell_type": "code",
   "execution_count": 44,
   "metadata": {},
   "outputs": [],
   "source": [
    "# Deep learning libraries\n",
    "import tensorflow as tf\n",
    "import tensorflow_hub as tf_hub\n",
    "from tensorflow.keras.models import Sequential, Model # architecture\n",
    "from tensorflow.keras.layers import Dense, Dropout, Input, concatenate # layer\n",
    "from tensorflow.keras.regularizers import l2\n",
    "from tensorflow.keras.callbacks import EarlyStopping\n",
    "from tensorflow.keras.utils import to_categorical"
   ]
  },
  {
   "cell_type": "markdown",
   "metadata": {},
   "source": [
    "# 1. Read"
   ]
  },
  {
   "cell_type": "code",
   "execution_count": 45,
   "metadata": {},
   "outputs": [
    {
     "name": "stdout",
     "output_type": "stream",
     "text": [
      "<class 'pandas.core.frame.DataFrame'>\n",
      "RangeIndex: 2205 entries, 0 to 2204\n",
      "Data columns (total 29 columns):\n",
      " #   Column                 Non-Null Count  Dtype  \n",
      "---  ------                 --------------  -----  \n",
      " 0   year_birth             2205 non-null   int64  \n",
      " 1   education              2205 non-null   object \n",
      " 2   marital_status         2205 non-null   object \n",
      " 3   income                 2205 non-null   float64\n",
      " 4   kidhome                2205 non-null   int64  \n",
      " 5   teenhome               2205 non-null   int64  \n",
      " 6   recency                2205 non-null   int64  \n",
      " 7   mnt_wines              2205 non-null   int64  \n",
      " 8   mnt_fruits             2205 non-null   int64  \n",
      " 9   mnt_meat_products      2205 non-null   int64  \n",
      " 10  mnt_fish_products      2205 non-null   int64  \n",
      " 11  mnt_sweet_products     2205 non-null   int64  \n",
      " 12  mnt_gold_prods         2205 non-null   int64  \n",
      " 13  num_deals_purchases    2205 non-null   int64  \n",
      " 14  num_web_purchases      2205 non-null   int64  \n",
      " 15  num_catalog_purchases  2205 non-null   int64  \n",
      " 16  num_store_purchases    2205 non-null   int64  \n",
      " 17  num_web_visits_month   2205 non-null   int64  \n",
      " 18  accepted_cmp3          2205 non-null   int64  \n",
      " 19  accepted_cmp4          2205 non-null   int64  \n",
      " 20  accepted_cmp5          2205 non-null   int64  \n",
      " 21  accepted_cmp1          2205 non-null   int64  \n",
      " 22  accepted_cmp2          2205 non-null   int64  \n",
      " 23  complain               2205 non-null   int64  \n",
      " 24  total_mnt              2205 non-null   int64  \n",
      " 25  generation             2205 non-null   object \n",
      " 26  customer_since         2205 non-null   int64  \n",
      " 27  Cluster_Labels         2205 non-null   int64  \n",
      " 28  response               2205 non-null   int64  \n",
      "dtypes: float64(1), int64(25), object(3)\n",
      "memory usage: 499.7+ KB\n"
     ]
    }
   ],
   "source": [
    "df_no = pd.read_csv(\"data_clustered.csv\", index_col=False)\n",
    "df_all = pd.read_csv(\"data_cleaned.csv\", index_col=False)\n",
    "df_yes = df_all[df_all['response'] == 1]\n",
    "df_yes['response'] = 3\n",
    "df_no['response'] = df_no['Cluster_Labels']\n",
    "df_yes['Cluster_Labels'] = -1\n",
    "# Create new features from amount features\n",
    "df_yes[\"total_mnt\"] = df_yes[\"mnt_wines\"] + df_yes[\"mnt_fruits\"] + df_yes[\"mnt_meat_products\"] + df_yes[\"mnt_fish_products\"] + df_yes[\"mnt_sweet_products\"] + df_yes[\"mnt_gold_prods\"]\n",
    "# Filter out rows where year_birth is less than 1928\n",
    "df_yes = df_yes[df_yes[\"year_birth\"] >= 1928]\n",
    "\n",
    "# Define generation labels and ranges\n",
    "generations = {\n",
    "    \"Silent Generation\": (1928, 1945),\n",
    "    \"Baby Boomers\": (1946, 1964),\n",
    "    \"Generation X\": (1965, 1980),\n",
    "    \"Millennials\": (1981, 1996)\n",
    "}\n",
    "\n",
    "# Create a function to assign generation label\n",
    "def assign_generation(year):\n",
    "    for gen, (start, end) in generations.items():\n",
    "        if start <= year <= end:\n",
    "            return gen\n",
    "\n",
    "# Apply the function to the year_birth feature\n",
    "df_yes[\"generation\"] = df_yes[\"year_birth\"].apply(assign_generation)\n",
    "df_yes[\"dt_customer\"] = pd.to_datetime(df_yes[\"dt_customer\"], format=\"%d-%m-%Y\")\n",
    "\n",
    "# Create new features from date features\n",
    "df_yes[\"customer_since\"] = (dt.datetime(2015, 1, 1) - df_yes[\"dt_customer\"]).dt.days\n",
    "# Drop unnecessary columns\n",
    "df_yes = df_yes.drop([\"Unnamed: 0\", \"id\", \"dt_customer\"], axis=1) ## these columns won't help the model\n",
    "df = pd.concat([df_no, df_yes], ignore_index=True)\n",
    "df.info()"
   ]
  },
  {
   "cell_type": "code",
   "execution_count": 46,
   "metadata": {},
   "outputs": [],
   "source": [
    "# Define the list of numerical columns\n",
    "num_col = ['year_birth', 'income', 'kidhome', 'teenhome','recency','mnt_wines','mnt_fruits',\n",
    "        'mnt_meat_products','mnt_fish_products','mnt_sweet_products','mnt_gold_prods',\n",
    "        'num_deals_purchases','num_web_purchases','num_catalog_purchases',\n",
    "        'num_store_purchases','num_web_visits_month', \"total_mnt\", \"customer_since\"]\n",
    "\n",
    "# Create a new DataFrame\n",
    "cor_num = pd.DataFrame(index=num_col, columns=[\"corr\", \"pval\", \"has_relation\"])\n",
    "\n",
    "# Loop through the numerical columns\n",
    "for col in num_col:\n",
    "    # Calculate the Kendall's tau correlation\n",
    "    corr_tau, pval_k = st.kendalltau(df[col], df['response'])\n",
    "    # Set the values in the DataFrame\n",
    "    cor_num.loc[col, \"corr\"] = corr_tau\n",
    "    cor_num.loc[col, \"pval\"] = pval_k\n",
    "    cor_num.loc[col, \"has_relation\"] = pval_k < 0.05"
   ]
  },
  {
   "cell_type": "code",
   "execution_count": 47,
   "metadata": {},
   "outputs": [
    {
     "data": {
      "text/html": [
       "<div>\n",
       "<style scoped>\n",
       "    .dataframe tbody tr th:only-of-type {\n",
       "        vertical-align: middle;\n",
       "    }\n",
       "\n",
       "    .dataframe tbody tr th {\n",
       "        vertical-align: top;\n",
       "    }\n",
       "\n",
       "    .dataframe thead th {\n",
       "        text-align: right;\n",
       "    }\n",
       "</style>\n",
       "<table border=\"1\" class=\"dataframe\">\n",
       "  <thead>\n",
       "    <tr style=\"text-align: right;\">\n",
       "      <th></th>\n",
       "      <th>corr</th>\n",
       "      <th>pval</th>\n",
       "      <th>has_relation</th>\n",
       "    </tr>\n",
       "  </thead>\n",
       "  <tbody>\n",
       "    <tr>\n",
       "      <th>year_birth</th>\n",
       "      <td>-0.084594</td>\n",
       "      <td>0.0</td>\n",
       "      <td>True</td>\n",
       "    </tr>\n",
       "    <tr>\n",
       "      <th>income</th>\n",
       "      <td>0.553872</td>\n",
       "      <td>0.0</td>\n",
       "      <td>True</td>\n",
       "    </tr>\n",
       "    <tr>\n",
       "      <th>kidhome</th>\n",
       "      <td>-0.430432</td>\n",
       "      <td>0.0</td>\n",
       "      <td>True</td>\n",
       "    </tr>\n",
       "    <tr>\n",
       "      <th>teenhome</th>\n",
       "      <td>-0.112761</td>\n",
       "      <td>0.0</td>\n",
       "      <td>True</td>\n",
       "    </tr>\n",
       "    <tr>\n",
       "      <th>recency</th>\n",
       "      <td>-0.086192</td>\n",
       "      <td>0.0</td>\n",
       "      <td>True</td>\n",
       "    </tr>\n",
       "    <tr>\n",
       "      <th>mnt_wines</th>\n",
       "      <td>0.540171</td>\n",
       "      <td>0.0</td>\n",
       "      <td>True</td>\n",
       "    </tr>\n",
       "    <tr>\n",
       "      <th>mnt_fruits</th>\n",
       "      <td>0.444975</td>\n",
       "      <td>0.0</td>\n",
       "      <td>True</td>\n",
       "    </tr>\n",
       "    <tr>\n",
       "      <th>mnt_meat_products</th>\n",
       "      <td>0.607979</td>\n",
       "      <td>0.0</td>\n",
       "      <td>True</td>\n",
       "    </tr>\n",
       "    <tr>\n",
       "      <th>mnt_fish_products</th>\n",
       "      <td>0.444868</td>\n",
       "      <td>0.0</td>\n",
       "      <td>True</td>\n",
       "    </tr>\n",
       "    <tr>\n",
       "      <th>mnt_sweet_products</th>\n",
       "      <td>0.431857</td>\n",
       "      <td>0.0</td>\n",
       "      <td>True</td>\n",
       "    </tr>\n",
       "    <tr>\n",
       "      <th>mnt_gold_prods</th>\n",
       "      <td>0.434207</td>\n",
       "      <td>0.0</td>\n",
       "      <td>True</td>\n",
       "    </tr>\n",
       "    <tr>\n",
       "      <th>num_deals_purchases</th>\n",
       "      <td>-0.050287</td>\n",
       "      <td>0.004736</td>\n",
       "      <td>True</td>\n",
       "    </tr>\n",
       "    <tr>\n",
       "      <th>num_web_purchases</th>\n",
       "      <td>0.443258</td>\n",
       "      <td>0.0</td>\n",
       "      <td>True</td>\n",
       "    </tr>\n",
       "    <tr>\n",
       "      <th>num_catalog_purchases</th>\n",
       "      <td>0.63338</td>\n",
       "      <td>0.0</td>\n",
       "      <td>True</td>\n",
       "    </tr>\n",
       "    <tr>\n",
       "      <th>num_store_purchases</th>\n",
       "      <td>0.467475</td>\n",
       "      <td>0.0</td>\n",
       "      <td>True</td>\n",
       "    </tr>\n",
       "    <tr>\n",
       "      <th>num_web_visits_month</th>\n",
       "      <td>-0.299313</td>\n",
       "      <td>0.0</td>\n",
       "      <td>True</td>\n",
       "    </tr>\n",
       "    <tr>\n",
       "      <th>total_mnt</th>\n",
       "      <td>0.626905</td>\n",
       "      <td>0.0</td>\n",
       "      <td>True</td>\n",
       "    </tr>\n",
       "    <tr>\n",
       "      <th>customer_since</th>\n",
       "      <td>0.150278</td>\n",
       "      <td>0.0</td>\n",
       "      <td>True</td>\n",
       "    </tr>\n",
       "  </tbody>\n",
       "</table>\n",
       "</div>"
      ],
      "text/plain": [
       "                           corr      pval has_relation\n",
       "year_birth            -0.084594       0.0         True\n",
       "income                 0.553872       0.0         True\n",
       "kidhome               -0.430432       0.0         True\n",
       "teenhome              -0.112761       0.0         True\n",
       "recency               -0.086192       0.0         True\n",
       "mnt_wines              0.540171       0.0         True\n",
       "mnt_fruits             0.444975       0.0         True\n",
       "mnt_meat_products      0.607979       0.0         True\n",
       "mnt_fish_products      0.444868       0.0         True\n",
       "mnt_sweet_products     0.431857       0.0         True\n",
       "mnt_gold_prods         0.434207       0.0         True\n",
       "num_deals_purchases   -0.050287  0.004736         True\n",
       "num_web_purchases      0.443258       0.0         True\n",
       "num_catalog_purchases   0.63338       0.0         True\n",
       "num_store_purchases    0.467475       0.0         True\n",
       "num_web_visits_month  -0.299313       0.0         True\n",
       "total_mnt              0.626905       0.0         True\n",
       "customer_since         0.150278       0.0         True"
      ]
     },
     "execution_count": 47,
     "metadata": {},
     "output_type": "execute_result"
    }
   ],
   "source": [
    "cor_num"
   ]
  },
  {
   "cell_type": "code",
   "execution_count": 48,
   "metadata": {},
   "outputs": [],
   "source": [
    "# Define the list of categorical columns\n",
    "cat_col = ['education','marital_status',\n",
    "        'accepted_cmp1','accepted_cmp2','accepted_cmp3',\n",
    "        'accepted_cmp4','accepted_cmp5','complain', 'generation']\n",
    "\n",
    "# Create a new DataFrame for categorical correlations\n",
    "cor_cat = pd.DataFrame(index=cat_col, columns=[\"pval\", \"has_relation\"])\n",
    "\n",
    "# Loop through the categorical columns\n",
    "for col in cat_col:\n",
    "    # Create a contingency table\n",
    "    contingency_table = pd.crosstab(df[col], df['response'])\n",
    "    \n",
    "    # Calculate the chi-square test\n",
    "    chi2, pval, _, _ = st.chi2_contingency(contingency_table)\n",
    "    \n",
    "    # Set the values in the DataFrame\n",
    "    cor_cat.loc[col, \"pval\"] = pval\n",
    "    cor_cat.loc[col, \"has_relation\"] = pval < 0.05"
   ]
  },
  {
   "cell_type": "code",
   "execution_count": 49,
   "metadata": {},
   "outputs": [
    {
     "data": {
      "text/html": [
       "<div>\n",
       "<style scoped>\n",
       "    .dataframe tbody tr th:only-of-type {\n",
       "        vertical-align: middle;\n",
       "    }\n",
       "\n",
       "    .dataframe tbody tr th {\n",
       "        vertical-align: top;\n",
       "    }\n",
       "\n",
       "    .dataframe thead th {\n",
       "        text-align: right;\n",
       "    }\n",
       "</style>\n",
       "<table border=\"1\" class=\"dataframe\">\n",
       "  <thead>\n",
       "    <tr style=\"text-align: right;\">\n",
       "      <th></th>\n",
       "      <th>pval</th>\n",
       "      <th>has_relation</th>\n",
       "    </tr>\n",
       "  </thead>\n",
       "  <tbody>\n",
       "    <tr>\n",
       "      <th>education</th>\n",
       "      <td>0.0</td>\n",
       "      <td>True</td>\n",
       "    </tr>\n",
       "    <tr>\n",
       "      <th>marital_status</th>\n",
       "      <td>0.0</td>\n",
       "      <td>True</td>\n",
       "    </tr>\n",
       "    <tr>\n",
       "      <th>accepted_cmp1</th>\n",
       "      <td>0.0</td>\n",
       "      <td>True</td>\n",
       "    </tr>\n",
       "    <tr>\n",
       "      <th>accepted_cmp2</th>\n",
       "      <td>0.0</td>\n",
       "      <td>True</td>\n",
       "    </tr>\n",
       "    <tr>\n",
       "      <th>accepted_cmp3</th>\n",
       "      <td>0.0</td>\n",
       "      <td>True</td>\n",
       "    </tr>\n",
       "    <tr>\n",
       "      <th>accepted_cmp4</th>\n",
       "      <td>0.0</td>\n",
       "      <td>True</td>\n",
       "    </tr>\n",
       "    <tr>\n",
       "      <th>accepted_cmp5</th>\n",
       "      <td>0.0</td>\n",
       "      <td>True</td>\n",
       "    </tr>\n",
       "    <tr>\n",
       "      <th>complain</th>\n",
       "      <td>0.90874</td>\n",
       "      <td>False</td>\n",
       "    </tr>\n",
       "    <tr>\n",
       "      <th>generation</th>\n",
       "      <td>0.0</td>\n",
       "      <td>True</td>\n",
       "    </tr>\n",
       "  </tbody>\n",
       "</table>\n",
       "</div>"
      ],
      "text/plain": [
       "                   pval has_relation\n",
       "education           0.0         True\n",
       "marital_status      0.0         True\n",
       "accepted_cmp1       0.0         True\n",
       "accepted_cmp2       0.0         True\n",
       "accepted_cmp3       0.0         True\n",
       "accepted_cmp4       0.0         True\n",
       "accepted_cmp5       0.0         True\n",
       "complain        0.90874        False\n",
       "generation          0.0         True"
      ]
     },
     "execution_count": 49,
     "metadata": {},
     "output_type": "execute_result"
    }
   ],
   "source": [
    "cor_cat"
   ]
  },
  {
   "cell_type": "code",
   "execution_count": 50,
   "metadata": {},
   "outputs": [
    {
     "data": {
      "text/plain": [
       "['income',\n",
       " 'kidhome',\n",
       " 'teenhome',\n",
       " 'mnt_wines',\n",
       " 'mnt_fruits',\n",
       " 'mnt_meat_products',\n",
       " 'mnt_fish_products',\n",
       " 'mnt_sweet_products',\n",
       " 'mnt_gold_prods',\n",
       " 'num_web_purchases',\n",
       " 'num_catalog_purchases',\n",
       " 'num_store_purchases',\n",
       " 'num_web_visits_month',\n",
       " 'total_mnt',\n",
       " 'customer_since',\n",
       " 'education',\n",
       " 'marital_status',\n",
       " 'accepted_cmp1',\n",
       " 'accepted_cmp2',\n",
       " 'accepted_cmp3',\n",
       " 'accepted_cmp4',\n",
       " 'accepted_cmp5',\n",
       " 'generation']"
      ]
     },
     "execution_count": 50,
     "metadata": {},
     "output_type": "execute_result"
    }
   ],
   "source": [
    "# Numerical columns\n",
    "num_col = cor_num[(cor_num['has_relation'] == True) & ((cor_num['corr'] >= 0.1) | (cor_num['corr'] <= -0.1))].index.tolist()\n",
    "\n",
    "\n",
    "# Categorical columns\n",
    "cat_col = cor_cat[cor_cat['has_relation'] == True].index.tolist()\n",
    "\n",
    "# Combine the lists\n",
    "col_to_keep = num_col + cat_col\n",
    "col_to_keep"
   ]
  },
  {
   "cell_type": "markdown",
   "metadata": {},
   "source": [
    "# 2. Split"
   ]
  },
  {
   "cell_type": "code",
   "execution_count": 51,
   "metadata": {},
   "outputs": [],
   "source": [
    "# separate X and y\n",
    "X = df\n",
    "y = df['response']"
   ]
  },
  {
   "cell_type": "code",
   "execution_count": 52,
   "metadata": {},
   "outputs": [
    {
     "data": {
      "text/plain": [
       "response\n",
       "0    935\n",
       "1    523\n",
       "2    414\n",
       "4    333\n",
       "Name: count, dtype: int64"
      ]
     },
     "execution_count": 52,
     "metadata": {},
     "output_type": "execute_result"
    }
   ],
   "source": [
    "y.value_counts()"
   ]
  },
  {
   "cell_type": "markdown",
   "metadata": {},
   "source": [
    "very imbalanced."
   ]
  },
  {
   "cell_type": "code",
   "execution_count": 53,
   "metadata": {},
   "outputs": [
    {
     "name": "stdout",
     "output_type": "stream",
     "text": [
      "Train Size : (1477, 29)\n",
      "Test Size : (728, 29)\n",
      "Train Size : (1477,)\n",
      "Test Size : (728,)\n"
     ]
    }
   ],
   "source": [
    "# split data train and test\n",
    "X_train, X_test, y_train, y_test = train_test_split(X, y, test_size = 0.33, stratify=y, random_state=77)\n",
    "\n",
    "print('Train Size :', X_train.shape)\n",
    "print('Test Size :', X_test.shape)\n",
    "print('Train Size :', y_train.shape)\n",
    "print('Test Size :', y_test.shape) "
   ]
  },
  {
   "cell_type": "code",
   "execution_count": 54,
   "metadata": {},
   "outputs": [],
   "source": [
    "# split based on data type\n",
    "X_train_cat = X_train[cat_col]\n",
    "X_train_num = X_train[num_col]\n",
    "X_test_cat = X_test[cat_col]\n",
    "X_test_num = X_test[num_col]"
   ]
  },
  {
   "cell_type": "markdown",
   "metadata": {},
   "source": [
    "## 4. Outlier Handling"
   ]
  },
  {
   "cell_type": "markdown",
   "metadata": {},
   "source": [
    "Outliers or extreme values can affect the mean of the data by very significantly, as some models are not robust towards outliers. Before detecting the outliers, we need to know the skewness of each columns to decide the method to use to identify outliers, as each type have very different distributions."
   ]
  },
  {
   "cell_type": "code",
   "execution_count": 55,
   "metadata": {},
   "outputs": [
    {
     "name": "stdout",
     "output_type": "stream",
     "text": [
      "Skewed Columns: ['kidhome', 'mnt_wines', 'mnt_fruits', 'mnt_meat_products', 'mnt_fish_products', 'mnt_sweet_products', 'mnt_gold_prods', 'num_web_purchases', 'num_catalog_purchases', 'num_store_purchases', 'total_mnt']\n",
      "Normal Columns: ['income', 'teenhome', 'num_web_visits_month', 'customer_since']\n"
     ]
    }
   ],
   "source": [
    "# menggunakan lambda, calculate skewness for each column\n",
    "skewness = X_train_num.apply(lambda x: st.skew(x))\n",
    "\n",
    "# Separate columns into skewed and normal based on the threshold (0.5)\n",
    "col_s = skewness[abs(skewness) > 0.5].index.tolist()\n",
    "col_n = skewness[abs(skewness) <= 0.5].index.tolist()\n",
    "\n",
    "# print separated columns\n",
    "print(\"Skewed Columns:\", col_s)\n",
    "print(\"Normal Columns:\", col_n)"
   ]
  },
  {
   "cell_type": "markdown",
   "metadata": {},
   "source": [
    "### 4.1. Normal Columns"
   ]
  },
  {
   "cell_type": "code",
   "execution_count": 56,
   "metadata": {},
   "outputs": [],
   "source": [
    "def calculate_zscores(data_frame, column_name):\n",
    "    \"\"\"\n",
    "    Calculate z-scores for a specific column in a DataFrame.\n",
    "    \"\"\"\n",
    "    # Calculate mean and standard deviation\n",
    "    mean_value = data_frame[column_name].mean()\n",
    "    std_dev = data_frame[column_name].std()\n",
    "\n",
    "    # Calculate z-scores\n",
    "    z_scores = (data_frame[column_name] - mean_value) / std_dev\n",
    "\n",
    "    return z_scores"
   ]
  },
  {
   "cell_type": "code",
   "execution_count": 57,
   "metadata": {},
   "outputs": [],
   "source": [
    "def outliers_percentage_zscore(data_frame, column_name):\n",
    "    \"\"\"\n",
    "    Identify outliers in a specified column of a DataFrame using z-scores,\n",
    "    calculate the percentage, and print the result.\n",
    "    \"\"\"\n",
    "    # Calculate z-scores\n",
    "    z_scores = calculate_zscores(data_frame, column_name)\n",
    "\n",
    "    # Identify outliers based on z-scores\n",
    "    outliers = data_frame[abs(z_scores) > 3]\n",
    "\n",
    "    # Calculate percentage of outliers\n",
    "    percentage_outliers = (len(outliers) / len(data_frame)) * 100\n",
    "\n",
    "    # Print the result\n",
    "    print(f'Column: {column_name}')\n",
    "    print(f'Percentage of outliers: {percentage_outliers:.2f}%')"
   ]
  },
  {
   "cell_type": "code",
   "execution_count": 58,
   "metadata": {},
   "outputs": [
    {
     "name": "stdout",
     "output_type": "stream",
     "text": [
      "Column: income\n",
      "Percentage of outliers: 0.00%\n",
      "Column: teenhome\n",
      "Percentage of outliers: 0.00%\n",
      "Column: num_web_visits_month\n",
      "Percentage of outliers: 0.47%\n",
      "Column: customer_since\n",
      "Percentage of outliers: 0.00%\n"
     ]
    }
   ],
   "source": [
    "# Loop through each feature\n",
    "for feature in col_n:\n",
    "    # Call the function\n",
    "    outliers_percentage_zscore(X_train_num, feature)"
   ]
  },
  {
   "cell_type": "code",
   "execution_count": 59,
   "metadata": {},
   "outputs": [
    {
     "data": {
      "image/png": "[encoded data removed]",
      "text/plain": [
       "<Figure size 800x500 with 4 Axes>"
      ]
     },
     "metadata": {},
     "output_type": "display_data"
    }
   ],
   "source": [
    "# Get the number of columns\n",
    "n_cols = len(col_n)\n",
    "\n",
    "# Create a figure and axes object\n",
    "fig, axes = plt.subplots(nrows=n_cols, ncols=1, figsize=(8, 5))\n",
    "\n",
    "# Loop over the columns and plot a histogram for each column\n",
    "for i, col in enumerate(col_n):\n",
    "    # Plot the histogram using seaborn\n",
    "    sns.histplot(data=X_train_num, x=col, ax=axes[i])\n",
    "    # Set the title and labels\n",
    "    axes[i].set_title(col + \" Histogram\")\n",
    "    axes[i].set_xlabel(col)\n",
    "    axes[i].set_ylabel(\"Frequency\")\n",
    "\n",
    "# Adjust the layout and show the plot\n",
    "plt.tight_layout()\n",
    "plt.show()"
   ]
  },
  {
   "cell_type": "markdown",
   "metadata": {},
   "source": [
    "I'm removing outliers in income."
   ]
  },
  {
   "cell_type": "code",
   "execution_count": 60,
   "metadata": {},
   "outputs": [],
   "source": [
    "def remove_outliers_zscore(data_frame, column_name, z_threshold=3):\n",
    "    \"\"\"\n",
    "    Remove outliers from a specified column of a DataFrame using z-scores.\n",
    "    \"\"\"\n",
    "    # Calculate z-scores\n",
    "    z_scores = calculate_zscores(data_frame, column_name)\n",
    "\n",
    "    # Identify outliers based on z-scores\n",
    "    outliers = data_frame[abs(z_scores) > z_threshold]\n",
    "\n",
    "    # Remove outliers from the DataFrame\n",
    "    data_frame_no_outliers = data_frame[abs(z_scores) <= z_threshold]\n",
    "\n",
    "    return data_frame_no_outliers\n",
    "\n",
    "X_train_num = remove_outliers_zscore(X_train_num, 'income')\n",
    "y_train = y_train.loc[X_train_num.index]\n",
    "X_train_cat = X_train_cat.loc[X_train_num.index]"
   ]
  },
  {
   "cell_type": "markdown",
   "metadata": {},
   "source": [
    "### 4.2. Skewed Columns"
   ]
  },
  {
   "cell_type": "code",
   "execution_count": 61,
   "metadata": {},
   "outputs": [],
   "source": [
    "def calculate_iqr(data_frame, column_name):\n",
    "    \"\"\"\n",
    "    Calculate the Interquartile Range (IQR) for a specific column in a DataFrame.\n",
    "    \"\"\"\n",
    "\n",
    "    # Calculate quartiles\n",
    "    Q1 = data_frame[column_name].quantile(0.25)\n",
    "    Q3 = data_frame[column_name].quantile(0.75)\n",
    "\n",
    "    # Calculate IQR\n",
    "    IQR = Q3 - Q1\n",
    "\n",
    "    # Define lower and upper bounds for outliers\n",
    "    lower_bound = Q1 - 1.5 * IQR\n",
    "    upper_bound = Q3 + 1.5 * IQR\n",
    "\n",
    "    return lower_bound, upper_bound"
   ]
  },
  {
   "cell_type": "code",
   "execution_count": 62,
   "metadata": {},
   "outputs": [],
   "source": [
    "def outliers_percentage(data_frame, column_name):\n",
    "    \"\"\"\n",
    "    Identify outliers in a specified column of a DataFrame, calculate the percentage,\n",
    "    and print the result along with upper and lower boundaries.\n",
    "    \"\"\"\n",
    "    # Calculate IQR\n",
    "    lower_bound, upper_bound = calculate_iqr(data_frame, column_name)\n",
    "\n",
    "    # Identify outliers\n",
    "    outliers = data_frame[(data_frame[column_name] < lower_bound) | (data_frame[column_name] > upper_bound)]\n",
    "\n",
    "    # Calculate percentage of outliers\n",
    "    percentage_outliers = (len(outliers) / len(data_frame)) * 100\n",
    "\n",
    "    # Print the result\n",
    "    print(f'Column: {column_name}')\n",
    "    print(f'Lower Boundary: {lower_bound:.2f}')\n",
    "    print(f'Upper Boundary: {upper_bound:.2f}')\n",
    "    print(f'Percentage of outliers: {percentage_outliers:.2f}%')"
   ]
  },
  {
   "cell_type": "code",
   "execution_count": 63,
   "metadata": {},
   "outputs": [
    {
     "name": "stdout",
     "output_type": "stream",
     "text": [
      "Column: kidhome\n",
      "Lower Boundary: -1.50\n",
      "Upper Boundary: 2.50\n",
      "Percentage of outliers: 0.00%\n",
      "Column: mnt_wines\n",
      "Lower Boundary: -712.50\n",
      "Upper Boundary: 1251.50\n",
      "Percentage of outliers: 1.56%\n",
      "Column: mnt_fruits\n",
      "Lower Boundary: -46.00\n",
      "Upper Boundary: 82.00\n",
      "Percentage of outliers: 10.09%\n",
      "Column: mnt_meat_products\n",
      "Lower Boundary: -317.00\n",
      "Upper Boundary: 571.00\n",
      "Percentage of outliers: 7.38%\n",
      "Column: mnt_fish_products\n",
      "Lower Boundary: -67.50\n",
      "Upper Boundary: 120.50\n",
      "Percentage of outliers: 10.83%\n",
      "Column: mnt_sweet_products\n",
      "Lower Boundary: -50.00\n",
      "Upper Boundary: 86.00\n",
      "Percentage of outliers: 10.29%\n",
      "Column: mnt_gold_prods\n",
      "Lower Boundary: -63.00\n",
      "Upper Boundary: 129.00\n",
      "Percentage of outliers: 9.28%\n",
      "Column: num_web_purchases\n",
      "Lower Boundary: -4.00\n",
      "Upper Boundary: 12.00\n",
      "Percentage of outliers: 0.14%\n",
      "Column: num_catalog_purchases\n",
      "Lower Boundary: -6.00\n",
      "Upper Boundary: 10.00\n",
      "Percentage of outliers: 0.81%\n",
      "Column: num_store_purchases\n",
      "Lower Boundary: -4.50\n",
      "Upper Boundary: 15.50\n",
      "Percentage of outliers: 0.00%\n",
      "Column: total_mnt\n",
      "Lower Boundary: -1412.50\n",
      "Upper Boundary: 2543.50\n",
      "Percentage of outliers: 0.00%\n"
     ]
    }
   ],
   "source": [
    "# Loop through each feature\n",
    "for feature in col_s:\n",
    "    # Call the function\n",
    "    outliers_percentage(X_train_num, feature)"
   ]
  },
  {
   "cell_type": "markdown",
   "metadata": {},
   "source": [
    "## 5. Feature Scaling"
   ]
  },
  {
   "cell_type": "code",
   "execution_count": 64,
   "metadata": {},
   "outputs": [
    {
     "data": {
      "text/html": [
       "<style>#sk-container-id-2 {color: black;background-color: white;}#sk-container-id-2 pre{padding: 0;}#sk-container-id-2 div.sk-toggleable {background-color: white;}#sk-container-id-2 label.sk-toggleable__label {cursor: pointer;display: block;width: 100%;margin-bottom: 0;padding: 0.3em;box-sizing: border-box;text-align: center;}#sk-container-id-2 label.sk-toggleable__label-arrow:before {content: \"▸\";float: left;margin-right: 0.25em;color: #696969;}#sk-container-id-2 label.sk-toggleable__label-arrow:hover:before {color: black;}#sk-container-id-2 div.sk-estimator:hover label.sk-toggleable__label-arrow:before {color: black;}#sk-container-id-2 div.sk-toggleable__content {max-height: 0;max-width: 0;overflow: hidden;text-align: left;background-color: #f0f8ff;}#sk-container-id-2 div.sk-toggleable__content pre {margin: 0.2em;color: black;border-radius: 0.25em;background-color: #f0f8ff;}#sk-container-id-2 input.sk-toggleable__control:checked~div.sk-toggleable__content {max-height: 200px;max-width: 100%;overflow: auto;}#sk-container-id-2 input.sk-toggleable__control:checked~label.sk-toggleable__label-arrow:before {content: \"▾\";}#sk-container-id-2 div.sk-estimator input.sk-toggleable__control:checked~label.sk-toggleable__label {background-color: #d4ebff;}#sk-container-id-2 div.sk-label input.sk-toggleable__control:checked~label.sk-toggleable__label {background-color: #d4ebff;}#sk-container-id-2 input.sk-hidden--visually {border: 0;clip: rect(1px 1px 1px 1px);clip: rect(1px, 1px, 1px, 1px);height: 1px;margin: -1px;overflow: hidden;padding: 0;position: absolute;width: 1px;}#sk-container-id-2 div.sk-estimator {font-family: monospace;background-color: #f0f8ff;border: 1px dotted black;border-radius: 0.25em;box-sizing: border-box;margin-bottom: 0.5em;}#sk-container-id-2 div.sk-estimator:hover {background-color: #d4ebff;}#sk-container-id-2 div.sk-parallel-item::after {content: \"\";width: 100%;border-bottom: 1px solid gray;flex-grow: 1;}#sk-container-id-2 div.sk-label:hover label.sk-toggleable__label {background-color: #d4ebff;}#sk-container-id-2 div.sk-serial::before {content: \"\";position: absolute;border-left: 1px solid gray;box-sizing: border-box;top: 0;bottom: 0;left: 50%;z-index: 0;}#sk-container-id-2 div.sk-serial {display: flex;flex-direction: column;align-items: center;background-color: white;padding-right: 0.2em;padding-left: 0.2em;position: relative;}#sk-container-id-2 div.sk-item {position: relative;z-index: 1;}#sk-container-id-2 div.sk-parallel {display: flex;align-items: stretch;justify-content: center;background-color: white;position: relative;}#sk-container-id-2 div.sk-item::before, #sk-container-id-2 div.sk-parallel-item::before {content: \"\";position: absolute;border-left: 1px solid gray;box-sizing: border-box;top: 0;bottom: 0;left: 50%;z-index: -1;}#sk-container-id-2 div.sk-parallel-item {display: flex;flex-direction: column;z-index: 1;position: relative;background-color: white;}#sk-container-id-2 div.sk-parallel-item:first-child::after {align-self: flex-end;width: 50%;}#sk-container-id-2 div.sk-parallel-item:last-child::after {align-self: flex-start;width: 50%;}#sk-container-id-2 div.sk-parallel-item:only-child::after {width: 0;}#sk-container-id-2 div.sk-dashed-wrapped {border: 1px dashed gray;margin: 0 0.4em 0.5em 0.4em;box-sizing: border-box;padding-bottom: 0.4em;background-color: white;}#sk-container-id-2 div.sk-label label {font-family: monospace;font-weight: bold;display: inline-block;line-height: 1.2em;}#sk-container-id-2 div.sk-label-container {text-align: center;}#sk-container-id-2 div.sk-container {/* jupyter's `normalize.less` sets `[hidden] { display: none; }` but bootstrap.min.css set `[hidden] { display: none !important; }` so we also need the `!important` here to be able to override the default hidden behavior on the sphinx rendered scikit-learn.org. See: https://github.com/scikit-learn/scikit-learn/issues/21755 */display: inline-block !important;position: relative;}#sk-container-id-2 div.sk-text-repr-fallback {display: none;}</style><div id=\"sk-container-id-2\" class=\"sk-top-container\"><div class=\"sk-text-repr-fallback\"><pre>StandardScaler()</pre><b>In a Jupyter environment, please rerun this cell to show the HTML representation or trust the notebook. <br />On GitHub, the HTML representation is unable to render, please try loading this page with nbviewer.org.</b></div><div class=\"sk-container\" hidden><div class=\"sk-item\"><div class=\"sk-estimator sk-toggleable\"><input class=\"sk-toggleable__control sk-hidden--visually\" id=\"sk-estimator-id-2\" type=\"checkbox\" checked><label for=\"sk-estimator-id-2\" class=\"sk-toggleable__label sk-toggleable__label-arrow\">StandardScaler</label><div class=\"sk-toggleable__content\"><pre>StandardScaler()</pre></div></div></div></div></div>"
      ],
      "text/plain": [
       "StandardScaler()"
      ]
     },
     "execution_count": 64,
     "metadata": {},
     "output_type": "execute_result"
    }
   ],
   "source": [
    "scaler_n = StandardScaler()\n",
    "scaler_n.fit(X_train_num)"
   ]
  },
  {
   "cell_type": "code",
   "execution_count": 65,
   "metadata": {},
   "outputs": [],
   "source": [
    "X_train_num_scaled = scaler_n.transform(X_train_num)\n",
    "X_test_num_scaled = scaler_n.transform(X_test_num)"
   ]
  },
  {
   "cell_type": "markdown",
   "metadata": {},
   "source": [
    "## 6. Feature Encoding"
   ]
  },
  {
   "cell_type": "code",
   "execution_count": 66,
   "metadata": {},
   "outputs": [
    {
     "name": "stdout",
     "output_type": "stream",
     "text": [
      "education\n",
      "['Graduation' '2n Cycle' 'Master' 'PhD' 'Basic']\n",
      "marital_status\n",
      "['Together' 'Married' 'Divorced' 'Single' 'Widow' 'YOLO' 'Absurd' 'Alone']\n",
      "accepted_cmp1\n",
      "[0 1]\n",
      "accepted_cmp2\n",
      "[0 1]\n",
      "accepted_cmp3\n",
      "[0 1]\n",
      "accepted_cmp4\n",
      "[0 1]\n",
      "accepted_cmp5\n",
      "[0 1]\n",
      "generation\n",
      "['Generation X' 'Baby Boomers' 'Millennials' 'Silent Generation']\n"
     ]
    }
   ],
   "source": [
    "for col in X_train_cat.columns:\n",
    "    print(col)\n",
    "    print(X_train_cat[col].unique())"
   ]
  },
  {
   "cell_type": "code",
   "execution_count": 67,
   "metadata": {},
   "outputs": [],
   "source": [
    "def encoder(df):\n",
    "    # Define the mappings for each variable\n",
    "    education_mapping = {'PhD': 0, 'Basic': 1, 'Graduation': 2, 'Master': 3, '2n Cycle': 4}\n",
    "    marital_status_mapping = {'Together': 0, 'Married': 1, 'Single': 2, 'Divorced': 3, 'Widow': 4, 'Alone': 5, 'YOLO': 6, 'Absurd': 7}\n",
    "    accepted_cmp_mapping = {0: 0, 1: 1}\n",
    "    generation_mapping = {'Silent Generation':0, 'Baby Boomers': 1, 'Millennials': 2, 'Generation X': 3}\n",
    "\n",
    "    # Apply the mappings to the DataFrame\n",
    "    df['education'] = df['education'].map(education_mapping)\n",
    "    df['marital_status'] = df['marital_status'].map(marital_status_mapping)\n",
    "    df['accepted_cmp1'] = df['accepted_cmp1'].map(accepted_cmp_mapping)\n",
    "    df['accepted_cmp2'] = df['accepted_cmp2'].map(accepted_cmp_mapping)\n",
    "    df['accepted_cmp3'] = df['accepted_cmp3'].map(accepted_cmp_mapping)\n",
    "    df['accepted_cmp4'] = df['accepted_cmp4'].map(accepted_cmp_mapping)\n",
    "    df['accepted_cmp5'] = df['accepted_cmp5'].map(accepted_cmp_mapping)\n",
    "    df['generation'] = df['generation'].map(generation_mapping)\n",
    "\n",
    "    return df\n",
    "\n",
    "# Apply the function to the training and test data\n",
    "X_train_cat = encoder(X_train_cat)\n",
    "X_test_cat = encoder(X_test_cat)"
   ]
  },
  {
   "cell_type": "markdown",
   "metadata": {},
   "source": [
    "## 7. Concat Data"
   ]
  },
  {
   "cell_type": "code",
   "execution_count": 68,
   "metadata": {},
   "outputs": [],
   "source": [
    "X_train_final = np.concatenate([X_train_num_scaled, X_train_cat],axis=1)\n",
    "X_test_final = np.concatenate([X_test_num_scaled, X_test_cat],axis=1)"
   ]
  },
  {
   "cell_type": "markdown",
   "metadata": {},
   "source": [
    "## 8. Oversampling"
   ]
  },
  {
   "cell_type": "code",
   "execution_count": 69,
   "metadata": {},
   "outputs": [
    {
     "data": {
      "text/plain": [
       "response\n",
       "0    626\n",
       "1    626\n",
       "2    626\n",
       "4    626\n",
       "Name: count, dtype: int64"
      ]
     },
     "execution_count": 69,
     "metadata": {},
     "output_type": "execute_result"
    }
   ],
   "source": [
    "from imblearn.over_sampling import SVMSMOTE\n",
    "\n",
    "svmsmote = SVMSMOTE(sampling_strategy='auto', random_state=42)\n",
    "X_train_balanced, y_train_balanced = svmsmote.fit_resample(X_train_final, y_train)\n",
    "y_train_balanced.value_counts()"
   ]
  },
  {
   "cell_type": "code",
   "execution_count": 70,
   "metadata": {},
   "outputs": [],
   "source": [
    "X_train_final = X_train_balanced\n",
    "y_train = y_train_balanced"
   ]
  },
  {
   "cell_type": "markdown",
   "metadata": {},
   "source": [
    "# V. Model Definiton and Training"
   ]
  },
  {
   "cell_type": "code",
   "execution_count": 73,
   "metadata": {},
   "outputs": [],
   "source": [
    "def evaluate_model(model, X_train, y_train, X_test, y_test):\n",
    "    y_train_pred = model.predict(X_train)\n",
    "\n",
    "    print(\"Classification Report for Training Data:\")\n",
    "    print(classification_report(y_train, y_train_pred))\n",
    "\n",
    "    y_test_pred = model.predict(X_test)\n",
    "\n",
    "    print(\"Classification Report for Test Data:\")\n",
    "    print(classification_report(y_test, y_test_pred))\n",
    "\n",
    "    print(\"Confusion Matrix for Test Data:\")\n",
    "    print(confusion_matrix(y_test, y_test_pred))\n",
    "\n",
    "    # Create a confusion matrix\n",
    "    cm = confusion_matrix(y_test, y_test_pred)\n",
    "\n",
    "    # Visualize the confusion matrix\n",
    "    plt.figure(figsize=(10,7))\n",
    "    sns.heatmap(cm, annot=True, fmt='d')\n",
    "    plt.xlabel('Predicted')\n",
    "    plt.ylabel('Truth')\n",
    "    plt.show()"
   ]
  },
  {
   "cell_type": "code",
   "execution_count": 76,
   "metadata": {},
   "outputs": [
    {
     "data": {
      "text/html": [
       "<style>#sk-container-id-4 {color: black;background-color: white;}#sk-container-id-4 pre{padding: 0;}#sk-container-id-4 div.sk-toggleable {background-color: white;}#sk-container-id-4 label.sk-toggleable__label {cursor: pointer;display: block;width: 100%;margin-bottom: 0;padding: 0.3em;box-sizing: border-box;text-align: center;}#sk-container-id-4 label.sk-toggleable__label-arrow:before {content: \"▸\";float: left;margin-right: 0.25em;color: #696969;}#sk-container-id-4 label.sk-toggleable__label-arrow:hover:before {color: black;}#sk-container-id-4 div.sk-estimator:hover label.sk-toggleable__label-arrow:before {color: black;}#sk-container-id-4 div.sk-toggleable__content {max-height: 0;max-width: 0;overflow: hidden;text-align: left;background-color: #f0f8ff;}#sk-container-id-4 div.sk-toggleable__content pre {margin: 0.2em;color: black;border-radius: 0.25em;background-color: #f0f8ff;}#sk-container-id-4 input.sk-toggleable__control:checked~div.sk-toggleable__content {max-height: 200px;max-width: 100%;overflow: auto;}#sk-container-id-4 input.sk-toggleable__control:checked~label.sk-toggleable__label-arrow:before {content: \"▾\";}#sk-container-id-4 div.sk-estimator input.sk-toggleable__control:checked~label.sk-toggleable__label {background-color: #d4ebff;}#sk-container-id-4 div.sk-label input.sk-toggleable__control:checked~label.sk-toggleable__label {background-color: #d4ebff;}#sk-container-id-4 input.sk-hidden--visually {border: 0;clip: rect(1px 1px 1px 1px);clip: rect(1px, 1px, 1px, 1px);height: 1px;margin: -1px;overflow: hidden;padding: 0;position: absolute;width: 1px;}#sk-container-id-4 div.sk-estimator {font-family: monospace;background-color: #f0f8ff;border: 1px dotted black;border-radius: 0.25em;box-sizing: border-box;margin-bottom: 0.5em;}#sk-container-id-4 div.sk-estimator:hover {background-color: #d4ebff;}#sk-container-id-4 div.sk-parallel-item::after {content: \"\";width: 100%;border-bottom: 1px solid gray;flex-grow: 1;}#sk-container-id-4 div.sk-label:hover label.sk-toggleable__label {background-color: #d4ebff;}#sk-container-id-4 div.sk-serial::before {content: \"\";position: absolute;border-left: 1px solid gray;box-sizing: border-box;top: 0;bottom: 0;left: 50%;z-index: 0;}#sk-container-id-4 div.sk-serial {display: flex;flex-direction: column;align-items: center;background-color: white;padding-right: 0.2em;padding-left: 0.2em;position: relative;}#sk-container-id-4 div.sk-item {position: relative;z-index: 1;}#sk-container-id-4 div.sk-parallel {display: flex;align-items: stretch;justify-content: center;background-color: white;position: relative;}#sk-container-id-4 div.sk-item::before, #sk-container-id-4 div.sk-parallel-item::before {content: \"\";position: absolute;border-left: 1px solid gray;box-sizing: border-box;top: 0;bottom: 0;left: 50%;z-index: -1;}#sk-container-id-4 div.sk-parallel-item {display: flex;flex-direction: column;z-index: 1;position: relative;background-color: white;}#sk-container-id-4 div.sk-parallel-item:first-child::after {align-self: flex-end;width: 50%;}#sk-container-id-4 div.sk-parallel-item:last-child::after {align-self: flex-start;width: 50%;}#sk-container-id-4 div.sk-parallel-item:only-child::after {width: 0;}#sk-container-id-4 div.sk-dashed-wrapped {border: 1px dashed gray;margin: 0 0.4em 0.5em 0.4em;box-sizing: border-box;padding-bottom: 0.4em;background-color: white;}#sk-container-id-4 div.sk-label label {font-family: monospace;font-weight: bold;display: inline-block;line-height: 1.2em;}#sk-container-id-4 div.sk-label-container {text-align: center;}#sk-container-id-4 div.sk-container {/* jupyter's `normalize.less` sets `[hidden] { display: none; }` but bootstrap.min.css set `[hidden] { display: none !important; }` so we also need the `!important` here to be able to override the default hidden behavior on the sphinx rendered scikit-learn.org. See: https://github.com/scikit-learn/scikit-learn/issues/21755 */display: inline-block !important;position: relative;}#sk-container-id-4 div.sk-text-repr-fallback {display: none;}</style><div id=\"sk-container-id-4\" class=\"sk-top-container\"><div class=\"sk-text-repr-fallback\"><pre>OneVsRestClassifier(estimator=ExtraTreesClassifier())</pre><b>In a Jupyter environment, please rerun this cell to show the HTML representation or trust the notebook. <br />On GitHub, the HTML representation is unable to render, please try loading this page with nbviewer.org.</b></div><div class=\"sk-container\" hidden><div class=\"sk-item sk-dashed-wrapped\"><div class=\"sk-label-container\"><div class=\"sk-label sk-toggleable\"><input class=\"sk-toggleable__control sk-hidden--visually\" id=\"sk-estimator-id-6\" type=\"checkbox\" ><label for=\"sk-estimator-id-6\" class=\"sk-toggleable__label sk-toggleable__label-arrow\">OneVsRestClassifier</label><div class=\"sk-toggleable__content\"><pre>OneVsRestClassifier(estimator=ExtraTreesClassifier())</pre></div></div></div><div class=\"sk-parallel\"><div class=\"sk-parallel-item\"><div class=\"sk-item\"><div class=\"sk-label-container\"><div class=\"sk-label sk-toggleable\"><input class=\"sk-toggleable__control sk-hidden--visually\" id=\"sk-estimator-id-7\" type=\"checkbox\" ><label for=\"sk-estimator-id-7\" class=\"sk-toggleable__label sk-toggleable__label-arrow\">estimator: ExtraTreesClassifier</label><div class=\"sk-toggleable__content\"><pre>ExtraTreesClassifier()</pre></div></div></div><div class=\"sk-serial\"><div class=\"sk-item\"><div class=\"sk-estimator sk-toggleable\"><input class=\"sk-toggleable__control sk-hidden--visually\" id=\"sk-estimator-id-8\" type=\"checkbox\" ><label for=\"sk-estimator-id-8\" class=\"sk-toggleable__label sk-toggleable__label-arrow\">ExtraTreesClassifier</label><div class=\"sk-toggleable__content\"><pre>ExtraTreesClassifier()</pre></div></div></div></div></div></div></div></div></div></div>"
      ],
      "text/plain": [
       "OneVsRestClassifier(estimator=ExtraTreesClassifier())"
      ]
     },
     "execution_count": 76,
     "metadata": {},
     "output_type": "execute_result"
    }
   ],
   "source": [
    "from sklearn.linear_model import LogisticRegression\n",
    "from sklearn.multiclass import OneVsRestClassifier\n",
    "\n",
    "model = OneVsRestClassifier(ExtraTreesClassifier())\n",
    "\n",
    "# Train the model\n",
    "model.fit(X_train_final, y_train)"
   ]
  },
  {
   "cell_type": "code",
   "execution_count": 77,
   "metadata": {},
   "outputs": [
    {
     "name": "stdout",
     "output_type": "stream",
     "text": [
      "Classification Report for Training Data:\n",
      "              precision    recall  f1-score   support\n",
      "\n",
      "           0       1.00      1.00      1.00       626\n",
      "           1       1.00      0.99      1.00       626\n",
      "           2       1.00      1.00      1.00       626\n",
      "           4       0.99      1.00      0.99       626\n",
      "\n",
      "    accuracy                           1.00      2504\n",
      "   macro avg       1.00      1.00      1.00      2504\n",
      "weighted avg       1.00      1.00      1.00      2504\n",
      "\n",
      "Classification Report for Test Data:\n",
      "              precision    recall  f1-score   support\n",
      "\n",
      "           0       0.91      0.96      0.93       309\n",
      "           1       0.84      0.91      0.87       172\n",
      "           2       0.83      0.93      0.88       137\n",
      "           4       0.70      0.38      0.49       110\n",
      "\n",
      "    accuracy                           0.86       728\n",
      "   macro avg       0.82      0.80      0.79       728\n",
      "weighted avg       0.84      0.86      0.84       728\n",
      "\n",
      "Confusion Matrix for Test Data:\n",
      "[[297   9   0   3]\n",
      " [  3 157   3   9]\n",
      " [  0   4 127   6]\n",
      " [ 28  17  23  42]]\n"
     ]
    },
    {
     "data": {
      "image/png": "[encoded data removed]",
      "text/plain": [
       "<Figure size 1000x700 with 2 Axes>"
      ]
     },
     "metadata": {},
     "output_type": "display_data"
    }
   ],
   "source": [
    "evaluate_model(model, X_train_final, y_train, X_test_final, y_test)"
   ]
  }
 ],
 "metadata": {
  "kernelspec": {
   "display_name": "base",
   "language": "python",
   "name": "python3"
  },
  "language_info": {
   "codemirror_mode": {
    "name": "ipython",
    "version": 3
   },
   "file_extension": ".py",
   "mimetype": "text/x-python",
   "name": "python",
   "nbconvert_exporter": "python",
   "pygments_lexer": "ipython3",
   "version": "3.11.5"
  }
 },
 "nbformat": 4,
 "nbformat_minor": 2
}
