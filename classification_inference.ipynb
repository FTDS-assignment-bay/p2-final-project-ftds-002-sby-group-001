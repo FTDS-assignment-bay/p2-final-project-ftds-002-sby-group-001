{
 "cells": [
  {
   "cell_type": "markdown",
   "metadata": {},
   "source": [
    "# I. Import"
   ]
  },
  {
   "cell_type": "code",
   "execution_count": 1,
   "metadata": {},
   "outputs": [],
   "source": [
    "# Data manipulation and analysis\n",
    "import pandas as pd\n",
    "import numpy as np"
   ]
  },
  {
   "cell_type": "code",
   "execution_count": 2,
   "metadata": {},
   "outputs": [],
   "source": [
    "# Machine learning\n",
    "from sklearn.model_selection import train_test_split, RandomizedSearchCV\n",
    "from sklearn.svm import SVC\n",
    "from sklearn.neighbors import KNeighborsClassifier\n",
    "from sklearn.tree import DecisionTreeClassifier\n",
    "from sklearn.ensemble import RandomForestClassifier, BaggingClassifier, GradientBoostingClassifier\n",
    "from sklearn.model_selection import cross_val_score, StratifiedKFold\n",
    "from sklearn.metrics import classification_report, precision_score, accuracy_score, recall_score, f1_score, confusion_matrix\n",
    "import optuna"
   ]
  },
  {
   "cell_type": "code",
   "execution_count": 3,
   "metadata": {},
   "outputs": [],
   "source": [
    "# Preprocessing\n",
    "from imblearn.over_sampling import SMOTENC, SMOTE\n",
    "from sklearn.decomposition import PCA\n",
    "from sklearn.preprocessing import MinMaxScaler, StandardScaler, OneHotEncoder, OrdinalEncoder"
   ]
  },
  {
   "cell_type": "code",
   "execution_count": 4,
   "metadata": {},
   "outputs": [],
   "source": [
    "# Serialization\n",
    "import pickle\n",
    "import json"
   ]
  },
  {
   "cell_type": "code",
   "execution_count": 5,
   "metadata": {},
   "outputs": [],
   "source": [
    "# disable warnings\n",
    "import warnings\n",
    "warnings.filterwarnings('ignore') #turn off warning"
   ]
  },
  {
   "cell_type": "markdown",
   "metadata": {},
   "source": [
    "# II. Load"
   ]
  },
  {
   "cell_type": "code",
   "execution_count": 7,
   "metadata": {},
   "outputs": [],
   "source": [
    "# Load the trained model\n",
    "with open('Streamlit\\\\best_model.pkl', 'rb') as f:\n",
    "    best_model = pickle.load(f)\n",
    "\n",
    "# Load the fitted StandardScaler\n",
    "with open('Streamlit\\\\scaler.pkl', 'rb') as f:\n",
    "    scaler_n = pickle.load(f)\n",
    "\n",
    "\n",
    "# Load the data from the text file\n",
    "with open('Streamlit\\\\columns.txt', 'r') as infile:\n",
    "    data = json.load(infile)\n",
    "\n",
    "# Extract the lists from the dictionary\n",
    "num_col = data['num_col']\n",
    "cat_col = data['cat_col']"
   ]
  },
  {
   "cell_type": "code",
   "execution_count": null,
   "metadata": {},
   "outputs": [],
   "source": [
    "data_inf = {'Unnamed: 0': 0,\n",
    "        'id': 5524,\n",
    "        'year_birth': 1957,\n",
    "        'education': 'Graduation',\n",
    "        'marital_status': 'Single',\n",
    "        'income': 58138.0,\n",
    "        'kidhome': 0,\n",
    "        'teenhome': 0,\n",
    "        'dt_customer': '04-09-2012',\n",
    "        'recency': 58,\n",
    "        'mnt_wines': 635,\n",
    "        'mnt_fruits': 88,\n",
    "        'mnt_meat_products': 546,\n",
    "        'mnt_fish_products': 172,\n",
    "        'mnt_sweet_products': 88,\n",
    "        'mnt_gold_prods': 88,\n",
    "        'num_deals_purchases': 3,\n",
    "        'num_web_purchases': 8,\n",
    "        'num_catalog_purchases': 10,\n",
    "        'num_store_purchases': 4,\n",
    "        'num_web_visits_month': 7,\n",
    "        'accepted_cmp3': 0,\n",
    "        'accepted_cmp4': 0,\n",
    "        'accepted_cmp5': 0,\n",
    "        'accepted_cmp1': 0,\n",
    "        'accepted_cmp2': 0,\n",
    "        'complain': 0,\n",
    "        'response': 1}"
   ]
  },
  {
   "cell_type": "markdown",
   "metadata": {},
   "source": [
    "# III. Feature Engineering"
   ]
  },
  {
   "cell_type": "markdown",
   "metadata": {},
   "source": [
    "# IV. Encode and Decode"
   ]
  },
  {
   "cell_type": "markdown",
   "metadata": {},
   "source": [
    "# V. Inference"
   ]
  }
 ],
 "metadata": {
  "kernelspec": {
   "display_name": "base",
   "language": "python",
   "name": "python3"
  },
  "language_info": {
   "codemirror_mode": {
    "name": "ipython",
    "version": 3
   },
   "file_extension": ".py",
   "mimetype": "text/x-python",
   "name": "python",
   "nbconvert_exporter": "python",
   "pygments_lexer": "ipython3",
   "version": "3.11.5"
  }
 },
 "nbformat": 4,
 "nbformat_minor": 2
}
