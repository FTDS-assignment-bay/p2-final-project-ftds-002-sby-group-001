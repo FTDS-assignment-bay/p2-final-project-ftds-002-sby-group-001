{
 "cells": [
  {
   "cell_type": "markdown",
   "metadata": {},
   "source": [
    "# I. Import"
   ]
  },
  {
   "cell_type": "code",
   "execution_count": 26,
   "metadata": {},
   "outputs": [],
   "source": [
    "# Data manipulation and analysis\n",
    "import pandas as pd\n",
    "import numpy as np"
   ]
  },
  {
   "cell_type": "code",
   "execution_count": 27,
   "metadata": {},
   "outputs": [],
   "source": [
    "# Serialization\n",
    "import pickle\n",
    "import json"
   ]
  },
  {
   "cell_type": "code",
   "execution_count": 28,
   "metadata": {},
   "outputs": [],
   "source": [
    "import datetime as dt"
   ]
  },
  {
   "cell_type": "code",
   "execution_count": 29,
   "metadata": {},
   "outputs": [],
   "source": [
    "# disable warnings\n",
    "import warnings\n",
    "warnings.filterwarnings('ignore') #turn off warning"
   ]
  },
  {
   "cell_type": "markdown",
   "metadata": {},
   "source": [
    "---"
   ]
  },
  {
   "cell_type": "markdown",
   "metadata": {},
   "source": [
    "# II. Load"
   ]
  },
  {
   "cell_type": "code",
   "execution_count": 30,
   "metadata": {},
   "outputs": [],
   "source": [
    "# Load the trained model\n",
    "with open('Streamlit\\\\best_model.pkl', 'rb') as f:\n",
    "    best_model = pickle.load(f)\n",
    "\n",
    "# Load the fitted StandardScaler\n",
    "with open('Streamlit\\\\scaler.pkl', 'rb') as f:\n",
    "    scaler = pickle.load(f)\n",
    "\n",
    "\n",
    "# Load the data from the text file\n",
    "with open('Streamlit\\\\columns.txt', 'r') as infile:\n",
    "    data = json.load(infile)\n",
    "\n",
    "# Extract the lists from the dictionary\n",
    "num_col = data['num_col']\n",
    "cat_col = data['cat_col']"
   ]
  },
  {
   "cell_type": "code",
   "execution_count": 31,
   "metadata": {},
   "outputs": [],
   "source": [
    "data_inf = {'Unnamed: 0': 0,\n",
    "        'id': 5524,\n",
    "        'year_birth': 1957,\n",
    "        'education': 'Graduation',\n",
    "        'marital_status': 'Single',\n",
    "        'income': 58138.0,\n",
    "        'kidhome': 0,\n",
    "        'teenhome': 0,\n",
    "        'dt_customer': '04-09-2012',\n",
    "        'recency': 58,\n",
    "        'mnt_wines': 635,\n",
    "        'mnt_fruits': 88,\n",
    "        'mnt_meat_products': 546,\n",
    "        'mnt_fish_products': 172,\n",
    "        'mnt_sweet_products': 88,\n",
    "        'mnt_gold_prods': 88,\n",
    "        'num_deals_purchases': 3,\n",
    "        'num_web_purchases': 8,\n",
    "        'num_catalog_purchases': 10,\n",
    "        'num_store_purchases': 4,\n",
    "        'num_web_visits_month': 7,\n",
    "        'accepted_cmp3': 0,\n",
    "        'accepted_cmp4': 0,\n",
    "        'accepted_cmp5': 0,\n",
    "        'accepted_cmp1': 0,\n",
    "        'accepted_cmp2': 0,\n",
    "        'complain': 0,\n",
    "        'response': 1}\n",
    "\n",
    "data_inf = pd.DataFrame([data_inf])"
   ]
  },
  {
   "cell_type": "markdown",
   "metadata": {},
   "source": [
    "---"
   ]
  },
  {
   "cell_type": "markdown",
   "metadata": {},
   "source": [
    "# III. Feature Engineering"
   ]
  },
  {
   "cell_type": "markdown",
   "metadata": {},
   "source": [
    "## 1. Feature Creation"
   ]
  },
  {
   "cell_type": "code",
   "execution_count": 32,
   "metadata": {},
   "outputs": [],
   "source": [
    "# Create new features from amount features\n",
    "data_inf[\"total_mnt\"] = data_inf[\"mnt_wines\"] + data_inf[\"mnt_fruits\"] + data_inf[\"mnt_meat_products\"] + data_inf[\"mnt_fish_products\"] + data_inf[\"mnt_sweet_products\"] + data_inf[\"mnt_gold_prods\"]"
   ]
  },
  {
   "cell_type": "code",
   "execution_count": 33,
   "metadata": {},
   "outputs": [],
   "source": [
    "# Filter out rows where year_birth is less than 1928\n",
    "data_inf = data_inf[data_inf[\"year_birth\"] >= 1928]\n",
    "\n",
    "# Define generation labels and ranges\n",
    "generations = {\n",
    "    \"Silent Generation\": (1928, 1945),\n",
    "    \"Baby Boomers\": (1946, 1964),\n",
    "    \"Generation X\": (1965, 1980),\n",
    "    \"Millennials\": (1981, 1996)\n",
    "}\n",
    "\n",
    "# Create a function to assign generation label\n",
    "def assign_generation(year):\n",
    "    for gen, (start, end) in generations.items():\n",
    "        if start <= year <= end:\n",
    "            return gen\n",
    "\n",
    "# Apply the function to the year_birth feature\n",
    "data_inf[\"generation\"] = data_inf[\"year_birth\"].apply(assign_generation)"
   ]
  },
  {
   "cell_type": "code",
   "execution_count": 34,
   "metadata": {},
   "outputs": [],
   "source": [
    "data_inf[\"dt_customer\"] = pd.to_datetime(data_inf[\"dt_customer\"], format=\"%d-%m-%Y\")\n",
    "\n",
    "# Create new features from date features\n",
    "data_inf[\"customer_since\"] = (dt.datetime(2015, 1, 1) - data_inf[\"dt_customer\"]).dt.days"
   ]
  },
  {
   "cell_type": "code",
   "execution_count": 35,
   "metadata": {},
   "outputs": [],
   "source": [
    "# Drop unnecessary columns\n",
    "data_inf = data_inf.drop([\"Unnamed: 0\", \"id\", \"dt_customer\"], axis=1) ## these columns won't help the model"
   ]
  },
  {
   "cell_type": "markdown",
   "metadata": {},
   "source": [
    "## 2. Split Data"
   ]
  },
  {
   "cell_type": "code",
   "execution_count": 36,
   "metadata": {},
   "outputs": [],
   "source": [
    "data_num = data_inf[num_col]\n",
    "data_cat = data_inf[cat_col]"
   ]
  },
  {
   "cell_type": "markdown",
   "metadata": {},
   "source": [
    "---"
   ]
  },
  {
   "cell_type": "markdown",
   "metadata": {},
   "source": [
    "# IV. Encode and Scale"
   ]
  },
  {
   "cell_type": "code",
   "execution_count": 37,
   "metadata": {},
   "outputs": [],
   "source": [
    "def encoder(df):\n",
    "    # Define the mappings for each variable\n",
    "    education_mapping = {'PhD': 0, 'Basic': 1, 'Graduation': 2, 'Master': 3, '2n Cycle': 4}\n",
    "    marital_status_mapping = {'Together': 0, 'Married': 1, 'Single': 2, 'Divorced': 3, 'Widow': 4, 'Alone': 5, 'YOLO': 6, 'Absurd': 7}\n",
    "    accepted_cmp_mapping = {0: 0, 1: 1}\n",
    "    generation_mapping = {'Silent Generation':0, 'Baby Boomers': 1, 'Millennials': 2, 'Generation X': 3}\n",
    "\n",
    "    # Apply the mappings to the DataFrame\n",
    "    df['education'] = df['education'].map(education_mapping)\n",
    "    df['marital_status'] = df['marital_status'].map(marital_status_mapping)\n",
    "    df['accepted_cmp1'] = df['accepted_cmp1'].map(accepted_cmp_mapping)\n",
    "    df['accepted_cmp2'] = df['accepted_cmp2'].map(accepted_cmp_mapping)\n",
    "    df['accepted_cmp3'] = df['accepted_cmp3'].map(accepted_cmp_mapping)\n",
    "    df['accepted_cmp4'] = df['accepted_cmp4'].map(accepted_cmp_mapping)\n",
    "    df['accepted_cmp5'] = df['accepted_cmp5'].map(accepted_cmp_mapping)\n",
    "    df['generation'] = df['generation'].map(generation_mapping)\n",
    "\n",
    "    return df\n",
    "\n",
    "# Apply the function to the training and test data\n",
    "data_cat_encoded = encoder(data_cat)"
   ]
  },
  {
   "cell_type": "code",
   "execution_count": 38,
   "metadata": {},
   "outputs": [],
   "source": [
    "data_num_scaled = scaler.transform(data_num)"
   ]
  },
  {
   "cell_type": "code",
   "execution_count": 39,
   "metadata": {},
   "outputs": [],
   "source": [
    "data_final = np.concatenate([data_num_scaled, data_cat_encoded], axis=1)"
   ]
  },
  {
   "cell_type": "markdown",
   "metadata": {},
   "source": [
    "---"
   ]
  },
  {
   "cell_type": "markdown",
   "metadata": {},
   "source": [
    "# V. Inference"
   ]
  },
  {
   "cell_type": "code",
   "execution_count": 40,
   "metadata": {},
   "outputs": [
    {
     "data": {
      "text/plain": [
       "array([1], dtype=int64)"
      ]
     },
     "execution_count": 40,
     "metadata": {},
     "output_type": "execute_result"
    }
   ],
   "source": [
    "data_final_pred = best_model.predict(data_final)\n",
    "data_final_pred"
   ]
  }
 ],
 "metadata": {
  "kernelspec": {
   "display_name": "base",
   "language": "python",
   "name": "python3"
  },
  "language_info": {
   "codemirror_mode": {
    "name": "ipython",
    "version": 3
   },
   "file_extension": ".py",
   "mimetype": "text/x-python",
   "name": "python",
   "nbconvert_exporter": "python",
   "pygments_lexer": "ipython3",
   "version": "3.11.5"
  }
 },
 "nbformat": 4,
 "nbformat_minor": 2
}
