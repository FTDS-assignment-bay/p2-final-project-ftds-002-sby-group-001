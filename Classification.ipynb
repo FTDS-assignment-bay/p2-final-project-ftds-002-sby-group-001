{
 "cells": [
  {
   "cell_type": "markdown",
   "metadata": {},
   "source": [
    "# I. Preface"
   ]
  },
  {
   "cell_type": "markdown",
   "metadata": {},
   "source": [
    "Objective: This document was made to build a classification model that predict the response of a customer.\n",
    "\n",
    "---"
   ]
  },
  {
   "cell_type": "markdown",
   "metadata": {},
   "source": [
    "# II. Libraries"
   ]
  },
  {
   "cell_type": "code",
   "execution_count": 75,
   "metadata": {},
   "outputs": [],
   "source": [
    "# Data manipulation and analysis\n",
    "import pandas as pd\n",
    "import numpy as np"
   ]
  },
  {
   "cell_type": "code",
   "execution_count": 76,
   "metadata": {},
   "outputs": [],
   "source": [
    "# Data visualization\n",
    "import matplotlib.pyplot as plt\n",
    "import seaborn as sns"
   ]
  },
  {
   "cell_type": "code",
   "execution_count": 77,
   "metadata": {},
   "outputs": [],
   "source": [
    "# Statistical analysis\n",
    "import scipy.stats as st\n",
    "from statsmodels.stats.outliers_influence import variance_inflation_factor\n",
    "import statsmodels.api as sm\n",
    "from statsmodels.stats.stattools import durbin_watson"
   ]
  },
  {
   "cell_type": "code",
   "execution_count": 78,
   "metadata": {},
   "outputs": [],
   "source": [
    "# Machine learning\n",
    "from sklearn.model_selection import train_test_split, RandomizedSearchCV, cross_val_score, StratifiedKFold\n",
    "from sklearn.svm import SVC\n",
    "from sklearn.neighbors import KNeighborsClassifier\n",
    "from sklearn.tree import DecisionTreeClassifier\n",
    "from sklearn.ensemble import RandomForestClassifier, BaggingClassifier, GradientBoostingClassifier, AdaBoostClassifier, ExtraTreesClassifier\n",
    "from sklearn.metrics import classification_report, precision_score, accuracy_score, recall_score, f1_score, confusion_matrix, make_scorer\n",
    "from sklearn.linear_model import LogisticRegression\n",
    "from sklearn.model_selection import GridSearchCV"
   ]
  },
  {
   "cell_type": "code",
   "execution_count": 79,
   "metadata": {},
   "outputs": [],
   "source": [
    "# Preprocessing\n",
    "from imblearn.over_sampling import SMOTENC, SMOTE\n",
    "from sklearn.decomposition import PCA\n",
    "from sklearn.preprocessing import MinMaxScaler, StandardScaler, OneHotEncoder, OrdinalEncoder"
   ]
  },
  {
   "cell_type": "code",
   "execution_count": 80,
   "metadata": {},
   "outputs": [],
   "source": [
    "# Pipeline\n",
    "from sklearn.compose import ColumnTransformer\n",
    "from sklearn.pipeline import Pipeline\n",
    "from imblearn.pipeline import Pipeline as imbPipeline"
   ]
  },
  {
   "cell_type": "code",
   "execution_count": 81,
   "metadata": {},
   "outputs": [],
   "source": [
    "# Timing\n",
    "import time\n",
    "import datetime as dt"
   ]
  },
  {
   "cell_type": "code",
   "execution_count": 82,
   "metadata": {},
   "outputs": [],
   "source": [
    "# Serialization\n",
    "import pickle\n",
    "import json"
   ]
  },
  {
   "cell_type": "code",
   "execution_count": 83,
   "metadata": {},
   "outputs": [],
   "source": [
    "# disable warnings\n",
    "import warnings\n",
    "warnings.filterwarnings('ignore') #turn off warning"
   ]
  },
  {
   "cell_type": "code",
   "execution_count": 84,
   "metadata": {},
   "outputs": [],
   "source": [
    "# Deep learning libraries\n",
    "import tensorflow as tf\n",
    "import tensorflow_hub as tf_hub\n",
    "from tensorflow.keras.models import Sequential, Model # architecture\n",
    "from tensorflow.keras.layers import Dense, Dropout, Input, concatenate # layer\n",
    "from tensorflow.keras.regularizers import l2\n",
    "from tensorflow.keras.callbacks import EarlyStopping\n",
    "from tensorflow.keras.utils import to_categorical"
   ]
  },
  {
   "cell_type": "markdown",
   "metadata": {},
   "source": [
    "---"
   ]
  },
  {
   "cell_type": "markdown",
   "metadata": {},
   "source": [
    "# III. Data Loading"
   ]
  },
  {
   "cell_type": "code",
   "execution_count": 85,
   "metadata": {},
   "outputs": [],
   "source": [
    "# Loading the cleaned csv dataset\n",
    "\n",
    "df = pd.read_csv(\"data_cleaned.csv\", index_col=False)"
   ]
  },
  {
   "cell_type": "code",
   "execution_count": 86,
   "metadata": {},
   "outputs": [
    {
     "data": {
      "text/html": [
       "<div>\n",
       "<style scoped>\n",
       "    .dataframe tbody tr th:only-of-type {\n",
       "        vertical-align: middle;\n",
       "    }\n",
       "\n",
       "    .dataframe tbody tr th {\n",
       "        vertical-align: top;\n",
       "    }\n",
       "\n",
       "    .dataframe thead th {\n",
       "        text-align: right;\n",
       "    }\n",
       "</style>\n",
       "<table border=\"1\" class=\"dataframe\">\n",
       "  <thead>\n",
       "    <tr style=\"text-align: right;\">\n",
       "      <th></th>\n",
       "      <th>Unnamed: 0</th>\n",
       "      <th>id</th>\n",
       "      <th>year_birth</th>\n",
       "      <th>education</th>\n",
       "      <th>marital_status</th>\n",
       "      <th>income</th>\n",
       "      <th>kidhome</th>\n",
       "      <th>teenhome</th>\n",
       "      <th>dt_customer</th>\n",
       "      <th>recency</th>\n",
       "      <th>...</th>\n",
       "      <th>num_catalog_purchases</th>\n",
       "      <th>num_store_purchases</th>\n",
       "      <th>num_web_visits_month</th>\n",
       "      <th>accepted_cmp3</th>\n",
       "      <th>accepted_cmp4</th>\n",
       "      <th>accepted_cmp5</th>\n",
       "      <th>accepted_cmp1</th>\n",
       "      <th>accepted_cmp2</th>\n",
       "      <th>complain</th>\n",
       "      <th>response</th>\n",
       "    </tr>\n",
       "  </thead>\n",
       "  <tbody>\n",
       "    <tr>\n",
       "      <th>0</th>\n",
       "      <td>0</td>\n",
       "      <td>5524</td>\n",
       "      <td>1957</td>\n",
       "      <td>Graduation</td>\n",
       "      <td>Single</td>\n",
       "      <td>58138.0</td>\n",
       "      <td>0</td>\n",
       "      <td>0</td>\n",
       "      <td>04-09-2012</td>\n",
       "      <td>58</td>\n",
       "      <td>...</td>\n",
       "      <td>10</td>\n",
       "      <td>4</td>\n",
       "      <td>7</td>\n",
       "      <td>0</td>\n",
       "      <td>0</td>\n",
       "      <td>0</td>\n",
       "      <td>0</td>\n",
       "      <td>0</td>\n",
       "      <td>0</td>\n",
       "      <td>1</td>\n",
       "    </tr>\n",
       "    <tr>\n",
       "      <th>1</th>\n",
       "      <td>1</td>\n",
       "      <td>2174</td>\n",
       "      <td>1954</td>\n",
       "      <td>Graduation</td>\n",
       "      <td>Single</td>\n",
       "      <td>46344.0</td>\n",
       "      <td>1</td>\n",
       "      <td>1</td>\n",
       "      <td>08-03-2014</td>\n",
       "      <td>38</td>\n",
       "      <td>...</td>\n",
       "      <td>1</td>\n",
       "      <td>2</td>\n",
       "      <td>5</td>\n",
       "      <td>0</td>\n",
       "      <td>0</td>\n",
       "      <td>0</td>\n",
       "      <td>0</td>\n",
       "      <td>0</td>\n",
       "      <td>0</td>\n",
       "      <td>0</td>\n",
       "    </tr>\n",
       "    <tr>\n",
       "      <th>2</th>\n",
       "      <td>2</td>\n",
       "      <td>4141</td>\n",
       "      <td>1965</td>\n",
       "      <td>Graduation</td>\n",
       "      <td>Together</td>\n",
       "      <td>71613.0</td>\n",
       "      <td>0</td>\n",
       "      <td>0</td>\n",
       "      <td>21-08-2013</td>\n",
       "      <td>26</td>\n",
       "      <td>...</td>\n",
       "      <td>2</td>\n",
       "      <td>10</td>\n",
       "      <td>4</td>\n",
       "      <td>0</td>\n",
       "      <td>0</td>\n",
       "      <td>0</td>\n",
       "      <td>0</td>\n",
       "      <td>0</td>\n",
       "      <td>0</td>\n",
       "      <td>0</td>\n",
       "    </tr>\n",
       "    <tr>\n",
       "      <th>3</th>\n",
       "      <td>3</td>\n",
       "      <td>6182</td>\n",
       "      <td>1984</td>\n",
       "      <td>Graduation</td>\n",
       "      <td>Together</td>\n",
       "      <td>26646.0</td>\n",
       "      <td>1</td>\n",
       "      <td>0</td>\n",
       "      <td>10-02-2014</td>\n",
       "      <td>26</td>\n",
       "      <td>...</td>\n",
       "      <td>0</td>\n",
       "      <td>4</td>\n",
       "      <td>6</td>\n",
       "      <td>0</td>\n",
       "      <td>0</td>\n",
       "      <td>0</td>\n",
       "      <td>0</td>\n",
       "      <td>0</td>\n",
       "      <td>0</td>\n",
       "      <td>0</td>\n",
       "    </tr>\n",
       "    <tr>\n",
       "      <th>4</th>\n",
       "      <td>4</td>\n",
       "      <td>5324</td>\n",
       "      <td>1981</td>\n",
       "      <td>PhD</td>\n",
       "      <td>Married</td>\n",
       "      <td>58293.0</td>\n",
       "      <td>1</td>\n",
       "      <td>0</td>\n",
       "      <td>19-01-2014</td>\n",
       "      <td>94</td>\n",
       "      <td>...</td>\n",
       "      <td>3</td>\n",
       "      <td>6</td>\n",
       "      <td>5</td>\n",
       "      <td>0</td>\n",
       "      <td>0</td>\n",
       "      <td>0</td>\n",
       "      <td>0</td>\n",
       "      <td>0</td>\n",
       "      <td>0</td>\n",
       "      <td>0</td>\n",
       "    </tr>\n",
       "  </tbody>\n",
       "</table>\n",
       "<p>5 rows × 28 columns</p>\n",
       "</div>"
      ],
      "text/plain": [
       "   Unnamed: 0    id  year_birth   education marital_status   income  kidhome  \\\n",
       "0           0  5524        1957  Graduation         Single  58138.0        0   \n",
       "1           1  2174        1954  Graduation         Single  46344.0        1   \n",
       "2           2  4141        1965  Graduation       Together  71613.0        0   \n",
       "3           3  6182        1984  Graduation       Together  26646.0        1   \n",
       "4           4  5324        1981         PhD        Married  58293.0        1   \n",
       "\n",
       "   teenhome dt_customer  recency  ...  num_catalog_purchases  \\\n",
       "0         0  04-09-2012       58  ...                     10   \n",
       "1         1  08-03-2014       38  ...                      1   \n",
       "2         0  21-08-2013       26  ...                      2   \n",
       "3         0  10-02-2014       26  ...                      0   \n",
       "4         0  19-01-2014       94  ...                      3   \n",
       "\n",
       "   num_store_purchases  num_web_visits_month  accepted_cmp3  accepted_cmp4  \\\n",
       "0                    4                     7              0              0   \n",
       "1                    2                     5              0              0   \n",
       "2                   10                     4              0              0   \n",
       "3                    4                     6              0              0   \n",
       "4                    6                     5              0              0   \n",
       "\n",
       "   accepted_cmp5  accepted_cmp1  accepted_cmp2  complain  response  \n",
       "0              0              0              0         0         1  \n",
       "1              0              0              0         0         0  \n",
       "2              0              0              0         0         0  \n",
       "3              0              0              0         0         0  \n",
       "4              0              0              0         0         0  \n",
       "\n",
       "[5 rows x 28 columns]"
      ]
     },
     "execution_count": 86,
     "metadata": {},
     "output_type": "execute_result"
    }
   ],
   "source": [
    "df.head()"
   ]
  },
  {
   "cell_type": "markdown",
   "metadata": {},
   "source": [
    "dataset successfully loaded."
   ]
  },
  {
   "cell_type": "markdown",
   "metadata": {},
   "source": [
    "---"
   ]
  },
  {
   "cell_type": "markdown",
   "metadata": {},
   "source": [
    "# IV. Feature Engineering"
   ]
  },
  {
   "cell_type": "markdown",
   "metadata": {},
   "source": [
    "## 1. Feature Creation"
   ]
  },
  {
   "cell_type": "code",
   "execution_count": 87,
   "metadata": {},
   "outputs": [],
   "source": [
    "# Create new features from amount features\n",
    "df[\"total_mnt\"] = df[\"mnt_wines\"] + df[\"mnt_fruits\"] + df[\"mnt_meat_products\"] + df[\"mnt_fish_products\"] + df[\"mnt_sweet_products\"] + df[\"mnt_gold_prods\"]"
   ]
  },
  {
   "cell_type": "code",
   "execution_count": 88,
   "metadata": {},
   "outputs": [],
   "source": [
    "# Filter out rows where year_birth is less than 1928\n",
    "df = df[df[\"year_birth\"] >= 1928]\n",
    "\n",
    "# Define generation labels and ranges\n",
    "generations = {\n",
    "    \"Silent Generation\": (1928, 1945),\n",
    "    \"Baby Boomers\": (1946, 1964),\n",
    "    \"Generation X\": (1965, 1980),\n",
    "    \"Millennials\": (1981, 1996),\n",
    "    \"Generation Z\": (1997, 2012),\n",
    "    \"Generation Alpha\": (2013, 2025)\n",
    "}\n",
    "\n",
    "# Create a function to assign generation label\n",
    "def assign_generation(year):\n",
    "    for gen, (start, end) in generations.items():\n",
    "        if start <= year <= end:\n",
    "            return gen\n",
    "    return \"Unknown\"\n",
    "\n",
    "# Apply the function to the year_birth feature\n",
    "df[\"generation\"] = df[\"year_birth\"].apply(assign_generation)"
   ]
  },
  {
   "cell_type": "code",
   "execution_count": 89,
   "metadata": {},
   "outputs": [],
   "source": [
    "df[\"dt_customer\"] = pd.to_datetime(df[\"dt_customer\"], format=\"%d-%m-%Y\")\n",
    "\n",
    "# Create new features from date features\n",
    "df[\"customer_since\"] = (dt.datetime(2015, 1, 1) - df[\"dt_customer\"]).dt.days"
   ]
  },
  {
   "cell_type": "code",
   "execution_count": 90,
   "metadata": {},
   "outputs": [],
   "source": [
    "# Drop unnecessary columns\n",
    "df = df.drop([\"Unnamed: 0\", \"id\", \"dt_customer\"], axis=1) ## these columns won't help the model"
   ]
  },
  {
   "cell_type": "code",
   "execution_count": 91,
   "metadata": {},
   "outputs": [
    {
     "data": {
      "text/html": [
       "<div>\n",
       "<style scoped>\n",
       "    .dataframe tbody tr th:only-of-type {\n",
       "        vertical-align: middle;\n",
       "    }\n",
       "\n",
       "    .dataframe tbody tr th {\n",
       "        vertical-align: top;\n",
       "    }\n",
       "\n",
       "    .dataframe thead th {\n",
       "        text-align: right;\n",
       "    }\n",
       "</style>\n",
       "<table border=\"1\" class=\"dataframe\">\n",
       "  <thead>\n",
       "    <tr style=\"text-align: right;\">\n",
       "      <th></th>\n",
       "      <th>year_birth</th>\n",
       "      <th>education</th>\n",
       "      <th>marital_status</th>\n",
       "      <th>income</th>\n",
       "      <th>kidhome</th>\n",
       "      <th>teenhome</th>\n",
       "      <th>recency</th>\n",
       "      <th>mnt_wines</th>\n",
       "      <th>mnt_fruits</th>\n",
       "      <th>mnt_meat_products</th>\n",
       "      <th>...</th>\n",
       "      <th>accepted_cmp3</th>\n",
       "      <th>accepted_cmp4</th>\n",
       "      <th>accepted_cmp5</th>\n",
       "      <th>accepted_cmp1</th>\n",
       "      <th>accepted_cmp2</th>\n",
       "      <th>complain</th>\n",
       "      <th>response</th>\n",
       "      <th>total_mnt</th>\n",
       "      <th>generation</th>\n",
       "      <th>customer_since</th>\n",
       "    </tr>\n",
       "  </thead>\n",
       "  <tbody>\n",
       "    <tr>\n",
       "      <th>0</th>\n",
       "      <td>1957</td>\n",
       "      <td>Graduation</td>\n",
       "      <td>Single</td>\n",
       "      <td>58138.0</td>\n",
       "      <td>0</td>\n",
       "      <td>0</td>\n",
       "      <td>58</td>\n",
       "      <td>635</td>\n",
       "      <td>88</td>\n",
       "      <td>546</td>\n",
       "      <td>...</td>\n",
       "      <td>0</td>\n",
       "      <td>0</td>\n",
       "      <td>0</td>\n",
       "      <td>0</td>\n",
       "      <td>0</td>\n",
       "      <td>0</td>\n",
       "      <td>1</td>\n",
       "      <td>1617</td>\n",
       "      <td>Baby Boomers</td>\n",
       "      <td>849</td>\n",
       "    </tr>\n",
       "    <tr>\n",
       "      <th>1</th>\n",
       "      <td>1954</td>\n",
       "      <td>Graduation</td>\n",
       "      <td>Single</td>\n",
       "      <td>46344.0</td>\n",
       "      <td>1</td>\n",
       "      <td>1</td>\n",
       "      <td>38</td>\n",
       "      <td>11</td>\n",
       "      <td>1</td>\n",
       "      <td>6</td>\n",
       "      <td>...</td>\n",
       "      <td>0</td>\n",
       "      <td>0</td>\n",
       "      <td>0</td>\n",
       "      <td>0</td>\n",
       "      <td>0</td>\n",
       "      <td>0</td>\n",
       "      <td>0</td>\n",
       "      <td>27</td>\n",
       "      <td>Baby Boomers</td>\n",
       "      <td>299</td>\n",
       "    </tr>\n",
       "    <tr>\n",
       "      <th>2</th>\n",
       "      <td>1965</td>\n",
       "      <td>Graduation</td>\n",
       "      <td>Together</td>\n",
       "      <td>71613.0</td>\n",
       "      <td>0</td>\n",
       "      <td>0</td>\n",
       "      <td>26</td>\n",
       "      <td>426</td>\n",
       "      <td>49</td>\n",
       "      <td>127</td>\n",
       "      <td>...</td>\n",
       "      <td>0</td>\n",
       "      <td>0</td>\n",
       "      <td>0</td>\n",
       "      <td>0</td>\n",
       "      <td>0</td>\n",
       "      <td>0</td>\n",
       "      <td>0</td>\n",
       "      <td>776</td>\n",
       "      <td>Generation X</td>\n",
       "      <td>498</td>\n",
       "    </tr>\n",
       "    <tr>\n",
       "      <th>3</th>\n",
       "      <td>1984</td>\n",
       "      <td>Graduation</td>\n",
       "      <td>Together</td>\n",
       "      <td>26646.0</td>\n",
       "      <td>1</td>\n",
       "      <td>0</td>\n",
       "      <td>26</td>\n",
       "      <td>11</td>\n",
       "      <td>4</td>\n",
       "      <td>20</td>\n",
       "      <td>...</td>\n",
       "      <td>0</td>\n",
       "      <td>0</td>\n",
       "      <td>0</td>\n",
       "      <td>0</td>\n",
       "      <td>0</td>\n",
       "      <td>0</td>\n",
       "      <td>0</td>\n",
       "      <td>53</td>\n",
       "      <td>Millennials</td>\n",
       "      <td>325</td>\n",
       "    </tr>\n",
       "    <tr>\n",
       "      <th>4</th>\n",
       "      <td>1981</td>\n",
       "      <td>PhD</td>\n",
       "      <td>Married</td>\n",
       "      <td>58293.0</td>\n",
       "      <td>1</td>\n",
       "      <td>0</td>\n",
       "      <td>94</td>\n",
       "      <td>173</td>\n",
       "      <td>43</td>\n",
       "      <td>118</td>\n",
       "      <td>...</td>\n",
       "      <td>0</td>\n",
       "      <td>0</td>\n",
       "      <td>0</td>\n",
       "      <td>0</td>\n",
       "      <td>0</td>\n",
       "      <td>0</td>\n",
       "      <td>0</td>\n",
       "      <td>422</td>\n",
       "      <td>Millennials</td>\n",
       "      <td>347</td>\n",
       "    </tr>\n",
       "  </tbody>\n",
       "</table>\n",
       "<p>5 rows × 28 columns</p>\n",
       "</div>"
      ],
      "text/plain": [
       "   year_birth   education marital_status   income  kidhome  teenhome  recency  \\\n",
       "0        1957  Graduation         Single  58138.0        0         0       58   \n",
       "1        1954  Graduation         Single  46344.0        1         1       38   \n",
       "2        1965  Graduation       Together  71613.0        0         0       26   \n",
       "3        1984  Graduation       Together  26646.0        1         0       26   \n",
       "4        1981         PhD        Married  58293.0        1         0       94   \n",
       "\n",
       "   mnt_wines  mnt_fruits  mnt_meat_products  ...  accepted_cmp3  \\\n",
       "0        635          88                546  ...              0   \n",
       "1         11           1                  6  ...              0   \n",
       "2        426          49                127  ...              0   \n",
       "3         11           4                 20  ...              0   \n",
       "4        173          43                118  ...              0   \n",
       "\n",
       "   accepted_cmp4  accepted_cmp5  accepted_cmp1  accepted_cmp2  complain  \\\n",
       "0              0              0              0              0         0   \n",
       "1              0              0              0              0         0   \n",
       "2              0              0              0              0         0   \n",
       "3              0              0              0              0         0   \n",
       "4              0              0              0              0         0   \n",
       "\n",
       "   response  total_mnt    generation  customer_since  \n",
       "0         1       1617  Baby Boomers             849  \n",
       "1         0         27  Baby Boomers             299  \n",
       "2         0        776  Generation X             498  \n",
       "3         0         53   Millennials             325  \n",
       "4         0        422   Millennials             347  \n",
       "\n",
       "[5 rows x 28 columns]"
      ]
     },
     "execution_count": 91,
     "metadata": {},
     "output_type": "execute_result"
    }
   ],
   "source": [
    "df.head()"
   ]
  },
  {
   "cell_type": "markdown",
   "metadata": {},
   "source": [
    "## 2. Feature Selection"
   ]
  },
  {
   "cell_type": "code",
   "execution_count": 92,
   "metadata": {},
   "outputs": [],
   "source": [
    "# Define the list of numerical columns\n",
    "num_col = ['year_birth', 'income', 'kidhome', 'teenhome','recency','mnt_wines','mnt_fruits',\n",
    "        'mnt_meat_products','mnt_fish_products','mnt_sweet_products','mnt_gold_prods',\n",
    "        'num_deals_purchases','num_web_purchases','num_catalog_purchases',\n",
    "        'num_store_purchases','num_web_visits_month', \"total_mnt\", \"customer_since\"]\n",
    "\n",
    "# Create a new DataFrame\n",
    "cor_num = pd.DataFrame(index=num_col, columns=[\"corr\", \"pval\", \"has_relation\"])\n",
    "\n",
    "# Loop through the numerical columns\n",
    "for col in num_col:\n",
    "    # Calculate the Kendall's tau correlation\n",
    "    corr_tau, pval_k = st.kendalltau(df[col], df['response'])\n",
    "    # Set the values in the DataFrame\n",
    "    cor_num.loc[col, \"corr\"] = corr_tau\n",
    "    cor_num.loc[col, \"pval\"] = pval_k\n",
    "    cor_num.loc[col, \"has_relation\"] = pval_k < 0.05\n"
   ]
  },
  {
   "cell_type": "code",
   "execution_count": 93,
   "metadata": {},
   "outputs": [
    {
     "data": {
      "text/html": [
       "<div>\n",
       "<style scoped>\n",
       "    .dataframe tbody tr th:only-of-type {\n",
       "        vertical-align: middle;\n",
       "    }\n",
       "\n",
       "    .dataframe tbody tr th {\n",
       "        vertical-align: top;\n",
       "    }\n",
       "\n",
       "    .dataframe thead th {\n",
       "        text-align: right;\n",
       "    }\n",
       "</style>\n",
       "<table border=\"1\" class=\"dataframe\">\n",
       "  <thead>\n",
       "    <tr style=\"text-align: right;\">\n",
       "      <th></th>\n",
       "      <th>corr</th>\n",
       "      <th>pval</th>\n",
       "      <th>has_relation</th>\n",
       "    </tr>\n",
       "  </thead>\n",
       "  <tbody>\n",
       "    <tr>\n",
       "      <th>year_birth</th>\n",
       "      <td>0.017844</td>\n",
       "      <td>0.30981</td>\n",
       "      <td>False</td>\n",
       "    </tr>\n",
       "    <tr>\n",
       "      <th>income</th>\n",
       "      <td>0.131849</td>\n",
       "      <td>0.0</td>\n",
       "      <td>True</td>\n",
       "    </tr>\n",
       "    <tr>\n",
       "      <th>kidhome</th>\n",
       "      <td>-0.07483</td>\n",
       "      <td>0.00038</td>\n",
       "      <td>True</td>\n",
       "    </tr>\n",
       "    <tr>\n",
       "      <th>teenhome</th>\n",
       "      <td>-0.157378</td>\n",
       "      <td>0.0</td>\n",
       "      <td>True</td>\n",
       "    </tr>\n",
       "    <tr>\n",
       "      <th>recency</th>\n",
       "      <td>-0.163863</td>\n",
       "      <td>0.0</td>\n",
       "      <td>True</td>\n",
       "    </tr>\n",
       "    <tr>\n",
       "      <th>mnt_wines</th>\n",
       "      <td>0.162214</td>\n",
       "      <td>0.0</td>\n",
       "      <td>True</td>\n",
       "    </tr>\n",
       "    <tr>\n",
       "      <th>mnt_fruits</th>\n",
       "      <td>0.12301</td>\n",
       "      <td>0.0</td>\n",
       "      <td>True</td>\n",
       "    </tr>\n",
       "    <tr>\n",
       "      <th>mnt_meat_products</th>\n",
       "      <td>0.182119</td>\n",
       "      <td>0.0</td>\n",
       "      <td>True</td>\n",
       "    </tr>\n",
       "    <tr>\n",
       "      <th>mnt_fish_products</th>\n",
       "      <td>0.094777</td>\n",
       "      <td>0.0</td>\n",
       "      <td>True</td>\n",
       "    </tr>\n",
       "    <tr>\n",
       "      <th>mnt_sweet_products</th>\n",
       "      <td>0.113119</td>\n",
       "      <td>0.0</td>\n",
       "      <td>True</td>\n",
       "    </tr>\n",
       "    <tr>\n",
       "      <th>mnt_gold_prods</th>\n",
       "      <td>0.150198</td>\n",
       "      <td>0.0</td>\n",
       "      <td>True</td>\n",
       "    </tr>\n",
       "    <tr>\n",
       "      <th>num_deals_purchases</th>\n",
       "      <td>-0.03255</td>\n",
       "      <td>0.091027</td>\n",
       "      <td>False</td>\n",
       "    </tr>\n",
       "    <tr>\n",
       "      <th>num_web_purchases</th>\n",
       "      <td>0.148173</td>\n",
       "      <td>0.0</td>\n",
       "      <td>True</td>\n",
       "    </tr>\n",
       "    <tr>\n",
       "      <th>num_catalog_purchases</th>\n",
       "      <td>0.203037</td>\n",
       "      <td>0.0</td>\n",
       "      <td>True</td>\n",
       "    </tr>\n",
       "    <tr>\n",
       "      <th>num_store_purchases</th>\n",
       "      <td>0.042955</td>\n",
       "      <td>0.018736</td>\n",
       "      <td>True</td>\n",
       "    </tr>\n",
       "    <tr>\n",
       "      <th>num_web_visits_month</th>\n",
       "      <td>0.010448</td>\n",
       "      <td>0.570107</td>\n",
       "      <td>False</td>\n",
       "    </tr>\n",
       "    <tr>\n",
       "      <th>total_mnt</th>\n",
       "      <td>0.19459</td>\n",
       "      <td>0.0</td>\n",
       "      <td>True</td>\n",
       "    </tr>\n",
       "    <tr>\n",
       "      <th>customer_since</th>\n",
       "      <td>0.160634</td>\n",
       "      <td>0.0</td>\n",
       "      <td>True</td>\n",
       "    </tr>\n",
       "  </tbody>\n",
       "</table>\n",
       "</div>"
      ],
      "text/plain": [
       "                           corr      pval has_relation\n",
       "year_birth             0.017844   0.30981        False\n",
       "income                 0.131849       0.0         True\n",
       "kidhome                -0.07483   0.00038         True\n",
       "teenhome              -0.157378       0.0         True\n",
       "recency               -0.163863       0.0         True\n",
       "mnt_wines              0.162214       0.0         True\n",
       "mnt_fruits              0.12301       0.0         True\n",
       "mnt_meat_products      0.182119       0.0         True\n",
       "mnt_fish_products      0.094777       0.0         True\n",
       "mnt_sweet_products     0.113119       0.0         True\n",
       "mnt_gold_prods         0.150198       0.0         True\n",
       "num_deals_purchases    -0.03255  0.091027        False\n",
       "num_web_purchases      0.148173       0.0         True\n",
       "num_catalog_purchases  0.203037       0.0         True\n",
       "num_store_purchases    0.042955  0.018736         True\n",
       "num_web_visits_month   0.010448  0.570107        False\n",
       "total_mnt               0.19459       0.0         True\n",
       "customer_since         0.160634       0.0         True"
      ]
     },
     "execution_count": 93,
     "metadata": {},
     "output_type": "execute_result"
    }
   ],
   "source": [
    "cor_num"
   ]
  },
  {
   "cell_type": "code",
   "execution_count": 94,
   "metadata": {},
   "outputs": [],
   "source": [
    "# Define the list of categorical columns\n",
    "cat_col = ['education','marital_status',\n",
    "        'accepted_cmp1','accepted_cmp2','accepted_cmp3',\n",
    "        'accepted_cmp4','accepted_cmp5','complain', 'generation']\n",
    "\n",
    "# Create a new DataFrame for categorical correlations\n",
    "cor_cat = pd.DataFrame(index=cat_col, columns=[\"pval\", \"has_relation\"])\n",
    "\n",
    "# Loop through the categorical columns\n",
    "for col in cat_col:\n",
    "    # Create a contingency table\n",
    "    contingency_table = pd.crosstab(df[col], df['response'])\n",
    "    \n",
    "    # Calculate the chi-square test\n",
    "    chi2, pval, _, _ = st.chi2_contingency(contingency_table)\n",
    "    \n",
    "    # Set the values in the DataFrame\n",
    "    cor_cat.loc[col, \"pval\"] = pval\n",
    "    cor_cat.loc[col, \"has_relation\"] = pval < 0.05"
   ]
  },
  {
   "cell_type": "code",
   "execution_count": 95,
   "metadata": {},
   "outputs": [
    {
     "data": {
      "text/html": [
       "<div>\n",
       "<style scoped>\n",
       "    .dataframe tbody tr th:only-of-type {\n",
       "        vertical-align: middle;\n",
       "    }\n",
       "\n",
       "    .dataframe tbody tr th {\n",
       "        vertical-align: top;\n",
       "    }\n",
       "\n",
       "    .dataframe thead th {\n",
       "        text-align: right;\n",
       "    }\n",
       "</style>\n",
       "<table border=\"1\" class=\"dataframe\">\n",
       "  <thead>\n",
       "    <tr style=\"text-align: right;\">\n",
       "      <th></th>\n",
       "      <th>pval</th>\n",
       "      <th>has_relation</th>\n",
       "    </tr>\n",
       "  </thead>\n",
       "  <tbody>\n",
       "    <tr>\n",
       "      <th>education</th>\n",
       "      <td>0.000119</td>\n",
       "      <td>True</td>\n",
       "    </tr>\n",
       "    <tr>\n",
       "      <th>marital_status</th>\n",
       "      <td>0.0</td>\n",
       "      <td>True</td>\n",
       "    </tr>\n",
       "    <tr>\n",
       "      <th>accepted_cmp1</th>\n",
       "      <td>0.0</td>\n",
       "      <td>True</td>\n",
       "    </tr>\n",
       "    <tr>\n",
       "      <th>accepted_cmp2</th>\n",
       "      <td>0.0</td>\n",
       "      <td>True</td>\n",
       "    </tr>\n",
       "    <tr>\n",
       "      <th>accepted_cmp3</th>\n",
       "      <td>0.0</td>\n",
       "      <td>True</td>\n",
       "    </tr>\n",
       "    <tr>\n",
       "      <th>accepted_cmp4</th>\n",
       "      <td>0.0</td>\n",
       "      <td>True</td>\n",
       "    </tr>\n",
       "    <tr>\n",
       "      <th>accepted_cmp5</th>\n",
       "      <td>0.0</td>\n",
       "      <td>True</td>\n",
       "    </tr>\n",
       "    <tr>\n",
       "      <th>complain</th>\n",
       "      <td>1.0</td>\n",
       "      <td>False</td>\n",
       "    </tr>\n",
       "    <tr>\n",
       "      <th>generation</th>\n",
       "      <td>0.018396</td>\n",
       "      <td>True</td>\n",
       "    </tr>\n",
       "  </tbody>\n",
       "</table>\n",
       "</div>"
      ],
      "text/plain": [
       "                    pval has_relation\n",
       "education       0.000119         True\n",
       "marital_status       0.0         True\n",
       "accepted_cmp1        0.0         True\n",
       "accepted_cmp2        0.0         True\n",
       "accepted_cmp3        0.0         True\n",
       "accepted_cmp4        0.0         True\n",
       "accepted_cmp5        0.0         True\n",
       "complain             1.0        False\n",
       "generation      0.018396         True"
      ]
     },
     "execution_count": 95,
     "metadata": {},
     "output_type": "execute_result"
    }
   ],
   "source": [
    "cor_cat"
   ]
  },
  {
   "cell_type": "markdown",
   "metadata": {},
   "source": [
    "Here are the columns that have significant relation with response, based on the correlation analysis done in EDA step:"
   ]
  },
  {
   "cell_type": "code",
   "execution_count": 96,
   "metadata": {},
   "outputs": [
    {
     "data": {
      "text/plain": [
       "['income',\n",
       " 'teenhome',\n",
       " 'recency',\n",
       " 'mnt_wines',\n",
       " 'mnt_fruits',\n",
       " 'mnt_meat_products',\n",
       " 'mnt_sweet_products',\n",
       " 'mnt_gold_prods',\n",
       " 'num_web_purchases',\n",
       " 'num_catalog_purchases',\n",
       " 'total_mnt',\n",
       " 'customer_since',\n",
       " 'education',\n",
       " 'marital_status',\n",
       " 'accepted_cmp1',\n",
       " 'accepted_cmp2',\n",
       " 'accepted_cmp3',\n",
       " 'accepted_cmp4',\n",
       " 'accepted_cmp5',\n",
       " 'generation']"
      ]
     },
     "execution_count": 96,
     "metadata": {},
     "output_type": "execute_result"
    }
   ],
   "source": [
    "# Numerical columns\n",
    "num_col = cor_num[(cor_num['has_relation'] == True) & ((cor_num['corr'] >= 0.1) | (cor_num['corr'] <= -0.1))].index.tolist()\n",
    "\n",
    "\n",
    "# Categorical columns\n",
    "cat_col = cor_cat[cor_cat['has_relation'] == True].index.tolist()\n",
    "\n",
    "# Combine the lists\n",
    "col_to_keep = num_col + cat_col\n",
    "col_to_keep"
   ]
  },
  {
   "cell_type": "code",
   "execution_count": 97,
   "metadata": {},
   "outputs": [
    {
     "data": {
      "text/html": [
       "<div>\n",
       "<style scoped>\n",
       "    .dataframe tbody tr th:only-of-type {\n",
       "        vertical-align: middle;\n",
       "    }\n",
       "\n",
       "    .dataframe tbody tr th {\n",
       "        vertical-align: top;\n",
       "    }\n",
       "\n",
       "    .dataframe thead th {\n",
       "        text-align: right;\n",
       "    }\n",
       "</style>\n",
       "<table border=\"1\" class=\"dataframe\">\n",
       "  <thead>\n",
       "    <tr style=\"text-align: right;\">\n",
       "      <th></th>\n",
       "      <th>income</th>\n",
       "      <th>teenhome</th>\n",
       "      <th>recency</th>\n",
       "      <th>mnt_wines</th>\n",
       "      <th>mnt_fruits</th>\n",
       "      <th>mnt_meat_products</th>\n",
       "      <th>mnt_sweet_products</th>\n",
       "      <th>mnt_gold_prods</th>\n",
       "      <th>num_web_purchases</th>\n",
       "      <th>num_catalog_purchases</th>\n",
       "      <th>total_mnt</th>\n",
       "      <th>customer_since</th>\n",
       "      <th>education</th>\n",
       "      <th>marital_status</th>\n",
       "      <th>accepted_cmp1</th>\n",
       "      <th>accepted_cmp2</th>\n",
       "      <th>accepted_cmp3</th>\n",
       "      <th>accepted_cmp4</th>\n",
       "      <th>accepted_cmp5</th>\n",
       "      <th>generation</th>\n",
       "    </tr>\n",
       "  </thead>\n",
       "  <tbody>\n",
       "    <tr>\n",
       "      <th>0</th>\n",
       "      <td>58138.0</td>\n",
       "      <td>0</td>\n",
       "      <td>58</td>\n",
       "      <td>635</td>\n",
       "      <td>88</td>\n",
       "      <td>546</td>\n",
       "      <td>88</td>\n",
       "      <td>88</td>\n",
       "      <td>8</td>\n",
       "      <td>10</td>\n",
       "      <td>1617</td>\n",
       "      <td>849</td>\n",
       "      <td>Graduation</td>\n",
       "      <td>Single</td>\n",
       "      <td>0</td>\n",
       "      <td>0</td>\n",
       "      <td>0</td>\n",
       "      <td>0</td>\n",
       "      <td>0</td>\n",
       "      <td>Baby Boomers</td>\n",
       "    </tr>\n",
       "    <tr>\n",
       "      <th>1</th>\n",
       "      <td>46344.0</td>\n",
       "      <td>1</td>\n",
       "      <td>38</td>\n",
       "      <td>11</td>\n",
       "      <td>1</td>\n",
       "      <td>6</td>\n",
       "      <td>1</td>\n",
       "      <td>6</td>\n",
       "      <td>1</td>\n",
       "      <td>1</td>\n",
       "      <td>27</td>\n",
       "      <td>299</td>\n",
       "      <td>Graduation</td>\n",
       "      <td>Single</td>\n",
       "      <td>0</td>\n",
       "      <td>0</td>\n",
       "      <td>0</td>\n",
       "      <td>0</td>\n",
       "      <td>0</td>\n",
       "      <td>Baby Boomers</td>\n",
       "    </tr>\n",
       "    <tr>\n",
       "      <th>2</th>\n",
       "      <td>71613.0</td>\n",
       "      <td>0</td>\n",
       "      <td>26</td>\n",
       "      <td>426</td>\n",
       "      <td>49</td>\n",
       "      <td>127</td>\n",
       "      <td>21</td>\n",
       "      <td>42</td>\n",
       "      <td>8</td>\n",
       "      <td>2</td>\n",
       "      <td>776</td>\n",
       "      <td>498</td>\n",
       "      <td>Graduation</td>\n",
       "      <td>Together</td>\n",
       "      <td>0</td>\n",
       "      <td>0</td>\n",
       "      <td>0</td>\n",
       "      <td>0</td>\n",
       "      <td>0</td>\n",
       "      <td>Generation X</td>\n",
       "    </tr>\n",
       "    <tr>\n",
       "      <th>3</th>\n",
       "      <td>26646.0</td>\n",
       "      <td>0</td>\n",
       "      <td>26</td>\n",
       "      <td>11</td>\n",
       "      <td>4</td>\n",
       "      <td>20</td>\n",
       "      <td>3</td>\n",
       "      <td>5</td>\n",
       "      <td>2</td>\n",
       "      <td>0</td>\n",
       "      <td>53</td>\n",
       "      <td>325</td>\n",
       "      <td>Graduation</td>\n",
       "      <td>Together</td>\n",
       "      <td>0</td>\n",
       "      <td>0</td>\n",
       "      <td>0</td>\n",
       "      <td>0</td>\n",
       "      <td>0</td>\n",
       "      <td>Millennials</td>\n",
       "    </tr>\n",
       "    <tr>\n",
       "      <th>4</th>\n",
       "      <td>58293.0</td>\n",
       "      <td>0</td>\n",
       "      <td>94</td>\n",
       "      <td>173</td>\n",
       "      <td>43</td>\n",
       "      <td>118</td>\n",
       "      <td>27</td>\n",
       "      <td>15</td>\n",
       "      <td>5</td>\n",
       "      <td>3</td>\n",
       "      <td>422</td>\n",
       "      <td>347</td>\n",
       "      <td>PhD</td>\n",
       "      <td>Married</td>\n",
       "      <td>0</td>\n",
       "      <td>0</td>\n",
       "      <td>0</td>\n",
       "      <td>0</td>\n",
       "      <td>0</td>\n",
       "      <td>Millennials</td>\n",
       "    </tr>\n",
       "  </tbody>\n",
       "</table>\n",
       "</div>"
      ],
      "text/plain": [
       "    income  teenhome  recency  mnt_wines  mnt_fruits  mnt_meat_products  \\\n",
       "0  58138.0         0       58        635          88                546   \n",
       "1  46344.0         1       38         11           1                  6   \n",
       "2  71613.0         0       26        426          49                127   \n",
       "3  26646.0         0       26         11           4                 20   \n",
       "4  58293.0         0       94        173          43                118   \n",
       "\n",
       "   mnt_sweet_products  mnt_gold_prods  num_web_purchases  \\\n",
       "0                  88              88                  8   \n",
       "1                   1               6                  1   \n",
       "2                  21              42                  8   \n",
       "3                   3               5                  2   \n",
       "4                  27              15                  5   \n",
       "\n",
       "   num_catalog_purchases  total_mnt  customer_since   education  \\\n",
       "0                     10       1617             849  Graduation   \n",
       "1                      1         27             299  Graduation   \n",
       "2                      2        776             498  Graduation   \n",
       "3                      0         53             325  Graduation   \n",
       "4                      3        422             347         PhD   \n",
       "\n",
       "  marital_status  accepted_cmp1  accepted_cmp2  accepted_cmp3  accepted_cmp4  \\\n",
       "0         Single              0              0              0              0   \n",
       "1         Single              0              0              0              0   \n",
       "2       Together              0              0              0              0   \n",
       "3       Together              0              0              0              0   \n",
       "4        Married              0              0              0              0   \n",
       "\n",
       "   accepted_cmp5    generation  \n",
       "0              0  Baby Boomers  \n",
       "1              0  Baby Boomers  \n",
       "2              0  Generation X  \n",
       "3              0   Millennials  \n",
       "4              0   Millennials  "
      ]
     },
     "execution_count": 97,
     "metadata": {},
     "output_type": "execute_result"
    }
   ],
   "source": [
    "df_selected = df[col_to_keep]\n",
    "df_selected.head()"
   ]
  },
  {
   "cell_type": "markdown",
   "metadata": {},
   "source": [
    "## 3. Split Data"
   ]
  },
  {
   "cell_type": "code",
   "execution_count": 98,
   "metadata": {},
   "outputs": [],
   "source": [
    "# separate X and y\n",
    "X = df_selected\n",
    "y = df['response']"
   ]
  },
  {
   "cell_type": "code",
   "execution_count": 99,
   "metadata": {},
   "outputs": [
    {
     "data": {
      "text/plain": [
       "response\n",
       "0    1880\n",
       "1     333\n",
       "Name: count, dtype: int64"
      ]
     },
     "execution_count": 99,
     "metadata": {},
     "output_type": "execute_result"
    }
   ],
   "source": [
    "y.value_counts()"
   ]
  },
  {
   "cell_type": "markdown",
   "metadata": {},
   "source": [
    "very imbalanced."
   ]
  },
  {
   "cell_type": "code",
   "execution_count": 100,
   "metadata": {},
   "outputs": [
    {
     "name": "stdout",
     "output_type": "stream",
     "text": [
      "Train Size : (1482, 20)\n",
      "Test Size : (731, 20)\n",
      "Train Size : (1482,)\n",
      "Test Size : (731,)\n"
     ]
    }
   ],
   "source": [
    "# split data train and test\n",
    "X_train, X_test, y_train, y_test = train_test_split(X, y, test_size = 0.33, stratify=y, random_state=77)\n",
    "\n",
    "print('Train Size :', X_train.shape)\n",
    "print('Test Size :', X_test.shape)\n",
    "print('Train Size :', y_train.shape)\n",
    "print('Test Size :', y_test.shape) "
   ]
  },
  {
   "cell_type": "code",
   "execution_count": 101,
   "metadata": {},
   "outputs": [],
   "source": [
    "# split based on data type\n",
    "X_train_cat = X_train[cat_col]\n",
    "X_train_num = X_train[num_col]\n",
    "X_test_cat = X_test[cat_col]\n",
    "X_test_num = X_test[num_col]"
   ]
  },
  {
   "cell_type": "markdown",
   "metadata": {},
   "source": [
    "## 4. Outlier Handling"
   ]
  },
  {
   "cell_type": "markdown",
   "metadata": {},
   "source": [
    "Outliers or extreme values can affect the mean of the data by very significantly, as some models are not robust towards outliers. Before detecting the outliers, we need to know the skewness of each columns to decide the method to use to identify outliers, as each type have very different distributions."
   ]
  },
  {
   "cell_type": "code",
   "execution_count": 102,
   "metadata": {},
   "outputs": [
    {
     "name": "stdout",
     "output_type": "stream",
     "text": [
      "Skewed Columns: ['income', 'mnt_wines', 'mnt_fruits', 'mnt_meat_products', 'mnt_sweet_products', 'mnt_gold_prods', 'num_web_purchases', 'num_catalog_purchases', 'total_mnt']\n",
      "Normal Columns: ['teenhome', 'recency', 'customer_since']\n"
     ]
    }
   ],
   "source": [
    "# menggunakan lambda, calculate skewness for each column\n",
    "skewness = X_train_num.apply(lambda x: st.skew(x))\n",
    "\n",
    "# Separate columns into skewed and normal based on the threshold (0.5)\n",
    "col_s = skewness[abs(skewness) > 0.5].index.tolist()\n",
    "col_n = skewness[abs(skewness) <= 0.5].index.tolist()\n",
    "\n",
    "# print separated columns\n",
    "print(\"Skewed Columns:\", col_s)\n",
    "print(\"Normal Columns:\", col_n)"
   ]
  },
  {
   "cell_type": "markdown",
   "metadata": {},
   "source": [
    "### 4.1. Normal Columns"
   ]
  },
  {
   "cell_type": "code",
   "execution_count": 103,
   "metadata": {},
   "outputs": [],
   "source": [
    "def calculate_zscores(data_frame, column_name):\n",
    "    \"\"\"\n",
    "    Calculate z-scores for a specific column in a DataFrame.\n",
    "    \"\"\"\n",
    "    # Calculate mean and standard deviation\n",
    "    mean_value = data_frame[column_name].mean()\n",
    "    std_dev = data_frame[column_name].std()\n",
    "\n",
    "    # Calculate z-scores\n",
    "    z_scores = (data_frame[column_name] - mean_value) / std_dev\n",
    "\n",
    "    return z_scores"
   ]
  },
  {
   "cell_type": "code",
   "execution_count": 104,
   "metadata": {},
   "outputs": [],
   "source": [
    "def outliers_percentage_zscore(data_frame, column_name):\n",
    "    \"\"\"\n",
    "    Identify outliers in a specified column of a DataFrame using z-scores,\n",
    "    calculate the percentage, and print the result.\n",
    "    \"\"\"\n",
    "    # Calculate z-scores\n",
    "    z_scores = calculate_zscores(data_frame, column_name)\n",
    "\n",
    "    # Identify outliers based on z-scores\n",
    "    outliers = data_frame[abs(z_scores) > 3]\n",
    "\n",
    "    # Calculate percentage of outliers\n",
    "    percentage_outliers = (len(outliers) / len(data_frame)) * 100\n",
    "\n",
    "    # Print the result\n",
    "    print(f'Column: {column_name}')\n",
    "    print(f'Percentage of outliers: {percentage_outliers:.2f}%')"
   ]
  },
  {
   "cell_type": "code",
   "execution_count": 105,
   "metadata": {},
   "outputs": [
    {
     "name": "stdout",
     "output_type": "stream",
     "text": [
      "Column: teenhome\n",
      "Percentage of outliers: 0.00%\n",
      "Column: recency\n",
      "Percentage of outliers: 0.00%\n",
      "Column: customer_since\n",
      "Percentage of outliers: 0.00%\n"
     ]
    }
   ],
   "source": [
    "# Loop through each feature\n",
    "for feature in col_n:\n",
    "    # Call the function\n",
    "    outliers_percentage_zscore(X_train_num, feature)"
   ]
  },
  {
   "cell_type": "code",
   "execution_count": 106,
   "metadata": {},
   "outputs": [
    {
     "data": {
      "image/png": "[encoded data removed]",
      "text/plain": [
       "<Figure size 800x500 with 3 Axes>"
      ]
     },
     "metadata": {},
     "output_type": "display_data"
    }
   ],
   "source": [
    "# Get the number of columns\n",
    "n_cols = len(col_n)\n",
    "\n",
    "# Create a figure and axes object\n",
    "fig, axes = plt.subplots(nrows=n_cols, ncols=1, figsize=(8, 5))\n",
    "\n",
    "# Loop over the columns and plot a histogram for each column\n",
    "for i, col in enumerate(col_n):\n",
    "    # Plot the histogram using seaborn\n",
    "    sns.histplot(data=X_train_num, x=col, ax=axes[i])\n",
    "    # Set the title and labels\n",
    "    axes[i].set_title(col + \" Histogram\")\n",
    "    axes[i].set_xlabel(col)\n",
    "    axes[i].set_ylabel(\"Frequency\")\n",
    "\n",
    "# Adjust the layout and show the plot\n",
    "plt.tight_layout()\n",
    "plt.show()"
   ]
  },
  {
   "cell_type": "markdown",
   "metadata": {},
   "source": [
    "I'm removing outliers in income."
   ]
  },
  {
   "cell_type": "code",
   "execution_count": 107,
   "metadata": {},
   "outputs": [],
   "source": [
    "def remove_outliers_zscore(data_frame, column_name, z_threshold=3):\n",
    "    \"\"\"\n",
    "    Remove outliers from a specified column of a DataFrame using z-scores.\n",
    "    \"\"\"\n",
    "    # Calculate z-scores\n",
    "    z_scores = calculate_zscores(data_frame, column_name)\n",
    "\n",
    "    # Identify outliers based on z-scores\n",
    "    outliers = data_frame[abs(z_scores) > z_threshold]\n",
    "\n",
    "    # Remove outliers from the DataFrame\n",
    "    data_frame_no_outliers = data_frame[abs(z_scores) <= z_threshold]\n",
    "\n",
    "    return data_frame_no_outliers\n",
    "\n",
    "X_train_num = remove_outliers_zscore(X_train_num, 'income')\n",
    "y_train = y_train.loc[X_train_num.index]\n",
    "X_train_cat = X_train_cat.loc[X_train_num.index]"
   ]
  },
  {
   "cell_type": "markdown",
   "metadata": {},
   "source": [
    "### 4.2. Skewed Columns"
   ]
  },
  {
   "cell_type": "code",
   "execution_count": 108,
   "metadata": {},
   "outputs": [],
   "source": [
    "def calculate_iqr(data_frame, column_name):\n",
    "    \"\"\"\n",
    "    Calculate the Interquartile Range (IQR) for a specific column in a DataFrame.\n",
    "    \"\"\"\n",
    "\n",
    "    # Calculate quartiles\n",
    "    Q1 = data_frame[column_name].quantile(0.25)\n",
    "    Q3 = data_frame[column_name].quantile(0.75)\n",
    "\n",
    "    # Calculate IQR\n",
    "    IQR = Q3 - Q1\n",
    "\n",
    "    # Define lower and upper bounds for outliers\n",
    "    lower_bound = Q1 - 1.5 * IQR\n",
    "    upper_bound = Q3 + 1.5 * IQR\n",
    "\n",
    "    return lower_bound, upper_bound"
   ]
  },
  {
   "cell_type": "code",
   "execution_count": 109,
   "metadata": {},
   "outputs": [],
   "source": [
    "def outliers_percentage(data_frame, column_name):\n",
    "    \"\"\"\n",
    "    Identify outliers in a specified column of a DataFrame, calculate the percentage,\n",
    "    and print the result along with upper and lower boundaries.\n",
    "    \"\"\"\n",
    "    # Calculate IQR\n",
    "    lower_bound, upper_bound = calculate_iqr(data_frame, column_name)\n",
    "\n",
    "    # Identify outliers\n",
    "    outliers = data_frame[(data_frame[column_name] < lower_bound) | (data_frame[column_name] > upper_bound)]\n",
    "\n",
    "    # Calculate percentage of outliers\n",
    "    percentage_outliers = (len(outliers) / len(data_frame)) * 100\n",
    "\n",
    "    # Print the result\n",
    "    print(f'Column: {column_name}')\n",
    "    print(f'Lower Boundary: {lower_bound:.2f}')\n",
    "    print(f'Upper Boundary: {upper_bound:.2f}')\n",
    "    print(f'Percentage of outliers: {percentage_outliers:.2f}%')"
   ]
  },
  {
   "cell_type": "code",
   "execution_count": 110,
   "metadata": {},
   "outputs": [
    {
     "name": "stdout",
     "output_type": "stream",
     "text": [
      "Column: income\n",
      "Lower Boundary: -16190.75\n",
      "Upper Boundary: 118031.25\n",
      "Percentage of outliers: 0.00%\n",
      "Column: mnt_wines\n",
      "Lower Boundary: -701.75\n",
      "Upper Boundary: 1228.25\n",
      "Percentage of outliers: 1.56%\n",
      "Column: mnt_fruits\n",
      "Lower Boundary: -44.50\n",
      "Upper Boundary: 79.50\n",
      "Percentage of outliers: 11.12%\n",
      "Column: mnt_meat_products\n",
      "Lower Boundary: -307.50\n",
      "Upper Boundary: 552.50\n",
      "Percentage of outliers: 7.93%\n",
      "Column: mnt_sweet_products\n",
      "Lower Boundary: -45.50\n",
      "Upper Boundary: 78.50\n",
      "Percentage of outliers: 11.53%\n",
      "Column: mnt_gold_prods\n",
      "Lower Boundary: -63.00\n",
      "Upper Boundary: 129.00\n",
      "Percentage of outliers: 8.68%\n",
      "Column: num_web_purchases\n",
      "Lower Boundary: -4.00\n",
      "Upper Boundary: 12.00\n",
      "Percentage of outliers: 0.07%\n",
      "Column: num_catalog_purchases\n",
      "Lower Boundary: -6.00\n",
      "Upper Boundary: 10.00\n",
      "Percentage of outliers: 0.95%\n",
      "Column: total_mnt\n",
      "Lower Boundary: -1378.50\n",
      "Upper Boundary: 2473.50\n",
      "Percentage of outliers: 0.14%\n"
     ]
    }
   ],
   "source": [
    "# Loop through each feature\n",
    "for feature in col_s:\n",
    "    # Call the function\n",
    "    outliers_percentage(X_train_num, feature)"
   ]
  },
  {
   "cell_type": "markdown",
   "metadata": {},
   "source": [
    "## 5. Feature Scaling"
   ]
  },
  {
   "cell_type": "code",
   "execution_count": 111,
   "metadata": {},
   "outputs": [
    {
     "data": {
      "text/html": [
       "<style>#sk-container-id-7 {color: black;background-color: white;}#sk-container-id-7 pre{padding: 0;}#sk-container-id-7 div.sk-toggleable {background-color: white;}#sk-container-id-7 label.sk-toggleable__label {cursor: pointer;display: block;width: 100%;margin-bottom: 0;padding: 0.3em;box-sizing: border-box;text-align: center;}#sk-container-id-7 label.sk-toggleable__label-arrow:before {content: \"▸\";float: left;margin-right: 0.25em;color: #696969;}#sk-container-id-7 label.sk-toggleable__label-arrow:hover:before {color: black;}#sk-container-id-7 div.sk-estimator:hover label.sk-toggleable__label-arrow:before {color: black;}#sk-container-id-7 div.sk-toggleable__content {max-height: 0;max-width: 0;overflow: hidden;text-align: left;background-color: #f0f8ff;}#sk-container-id-7 div.sk-toggleable__content pre {margin: 0.2em;color: black;border-radius: 0.25em;background-color: #f0f8ff;}#sk-container-id-7 input.sk-toggleable__control:checked~div.sk-toggleable__content {max-height: 200px;max-width: 100%;overflow: auto;}#sk-container-id-7 input.sk-toggleable__control:checked~label.sk-toggleable__label-arrow:before {content: \"▾\";}#sk-container-id-7 div.sk-estimator input.sk-toggleable__control:checked~label.sk-toggleable__label {background-color: #d4ebff;}#sk-container-id-7 div.sk-label input.sk-toggleable__control:checked~label.sk-toggleable__label {background-color: #d4ebff;}#sk-container-id-7 input.sk-hidden--visually {border: 0;clip: rect(1px 1px 1px 1px);clip: rect(1px, 1px, 1px, 1px);height: 1px;margin: -1px;overflow: hidden;padding: 0;position: absolute;width: 1px;}#sk-container-id-7 div.sk-estimator {font-family: monospace;background-color: #f0f8ff;border: 1px dotted black;border-radius: 0.25em;box-sizing: border-box;margin-bottom: 0.5em;}#sk-container-id-7 div.sk-estimator:hover {background-color: #d4ebff;}#sk-container-id-7 div.sk-parallel-item::after {content: \"\";width: 100%;border-bottom: 1px solid gray;flex-grow: 1;}#sk-container-id-7 div.sk-label:hover label.sk-toggleable__label {background-color: #d4ebff;}#sk-container-id-7 div.sk-serial::before {content: \"\";position: absolute;border-left: 1px solid gray;box-sizing: border-box;top: 0;bottom: 0;left: 50%;z-index: 0;}#sk-container-id-7 div.sk-serial {display: flex;flex-direction: column;align-items: center;background-color: white;padding-right: 0.2em;padding-left: 0.2em;position: relative;}#sk-container-id-7 div.sk-item {position: relative;z-index: 1;}#sk-container-id-7 div.sk-parallel {display: flex;align-items: stretch;justify-content: center;background-color: white;position: relative;}#sk-container-id-7 div.sk-item::before, #sk-container-id-7 div.sk-parallel-item::before {content: \"\";position: absolute;border-left: 1px solid gray;box-sizing: border-box;top: 0;bottom: 0;left: 50%;z-index: -1;}#sk-container-id-7 div.sk-parallel-item {display: flex;flex-direction: column;z-index: 1;position: relative;background-color: white;}#sk-container-id-7 div.sk-parallel-item:first-child::after {align-self: flex-end;width: 50%;}#sk-container-id-7 div.sk-parallel-item:last-child::after {align-self: flex-start;width: 50%;}#sk-container-id-7 div.sk-parallel-item:only-child::after {width: 0;}#sk-container-id-7 div.sk-dashed-wrapped {border: 1px dashed gray;margin: 0 0.4em 0.5em 0.4em;box-sizing: border-box;padding-bottom: 0.4em;background-color: white;}#sk-container-id-7 div.sk-label label {font-family: monospace;font-weight: bold;display: inline-block;line-height: 1.2em;}#sk-container-id-7 div.sk-label-container {text-align: center;}#sk-container-id-7 div.sk-container {/* jupyter's `normalize.less` sets `[hidden] { display: none; }` but bootstrap.min.css set `[hidden] { display: none !important; }` so we also need the `!important` here to be able to override the default hidden behavior on the sphinx rendered scikit-learn.org. See: https://github.com/scikit-learn/scikit-learn/issues/21755 */display: inline-block !important;position: relative;}#sk-container-id-7 div.sk-text-repr-fallback {display: none;}</style><div id=\"sk-container-id-7\" class=\"sk-top-container\"><div class=\"sk-text-repr-fallback\"><pre>StandardScaler()</pre><b>In a Jupyter environment, please rerun this cell to show the HTML representation or trust the notebook. <br />On GitHub, the HTML representation is unable to render, please try loading this page with nbviewer.org.</b></div><div class=\"sk-container\" hidden><div class=\"sk-item\"><div class=\"sk-estimator sk-toggleable\"><input class=\"sk-toggleable__control sk-hidden--visually\" id=\"sk-estimator-id-7\" type=\"checkbox\" checked><label for=\"sk-estimator-id-7\" class=\"sk-toggleable__label sk-toggleable__label-arrow\">StandardScaler</label><div class=\"sk-toggleable__content\"><pre>StandardScaler()</pre></div></div></div></div></div>"
      ],
      "text/plain": [
       "StandardScaler()"
      ]
     },
     "execution_count": 111,
     "metadata": {},
     "output_type": "execute_result"
    }
   ],
   "source": [
    "scaler_n = StandardScaler()\n",
    "scaler_n.fit(X_train_num)"
   ]
  },
  {
   "cell_type": "code",
   "execution_count": 112,
   "metadata": {},
   "outputs": [],
   "source": [
    "X_train_num_scaled = scaler_n.transform(X_train_num)\n",
    "X_test_num_scaled = scaler_n.transform(X_test_num)"
   ]
  },
  {
   "cell_type": "markdown",
   "metadata": {},
   "source": [
    "## 6. Feature Encoding"
   ]
  },
  {
   "cell_type": "code",
   "execution_count": 113,
   "metadata": {},
   "outputs": [
    {
     "name": "stdout",
     "output_type": "stream",
     "text": [
      "education\n",
      "['Master' 'PhD' 'Graduation' '2n Cycle' 'Basic']\n",
      "marital_status\n",
      "['Single' 'Together' 'Divorced' 'Married' 'Widow' 'Absurd' 'YOLO' 'Alone']\n",
      "accepted_cmp1\n",
      "[1 0]\n",
      "accepted_cmp2\n",
      "[0 1]\n",
      "accepted_cmp3\n",
      "[0 1]\n",
      "accepted_cmp4\n",
      "[1 0]\n",
      "accepted_cmp5\n",
      "[1 0]\n",
      "generation\n",
      "['Millennials' 'Baby Boomers' 'Generation X' 'Silent Generation']\n"
     ]
    }
   ],
   "source": [
    "for col in X_train_cat.columns:\n",
    "    print(col)\n",
    "    print(X_train_cat[col].unique())"
   ]
  },
  {
   "cell_type": "code",
   "execution_count": 114,
   "metadata": {},
   "outputs": [],
   "source": [
    "def encoder(df):\n",
    "    # Define the mappings for each variable\n",
    "    education_mapping = {'PhD': 0, 'Basic': 1, 'Graduation': 2, 'Master': 3, '2n Cycle': 4}\n",
    "    marital_status_mapping = {'Together': 0, 'Married': 1, 'Single': 2, 'Divorced': 3, 'Widow': 4, 'Alone': 5, 'YOLO': 6, 'Absurd': 7}\n",
    "    accepted_cmp_mapping = {0: 0, 1: 1}\n",
    "    generation_mapping = {'Silent Generation':0, 'Baby Boomers': 1, 'Millennials': 2, 'Generation X': 3}\n",
    "\n",
    "    # Apply the mappings to the DataFrame\n",
    "    df['education'] = df['education'].map(education_mapping)\n",
    "    df['marital_status'] = df['marital_status'].map(marital_status_mapping)\n",
    "    df['accepted_cmp1'] = df['accepted_cmp1'].map(accepted_cmp_mapping)\n",
    "    df['accepted_cmp2'] = df['accepted_cmp2'].map(accepted_cmp_mapping)\n",
    "    df['accepted_cmp3'] = df['accepted_cmp3'].map(accepted_cmp_mapping)\n",
    "    df['accepted_cmp4'] = df['accepted_cmp4'].map(accepted_cmp_mapping)\n",
    "    df['accepted_cmp5'] = df['accepted_cmp5'].map(accepted_cmp_mapping)\n",
    "    df['generation'] = df['generation'].map(generation_mapping)\n",
    "\n",
    "    return df\n",
    "\n",
    "# Apply the function to the training and test data\n",
    "X_train_cat = encoder(X_train_cat)\n",
    "X_test_cat = encoder(X_test_cat)"
   ]
  },
  {
   "cell_type": "markdown",
   "metadata": {},
   "source": [
    "## 7. Concat Data"
   ]
  },
  {
   "cell_type": "code",
   "execution_count": 115,
   "metadata": {},
   "outputs": [],
   "source": [
    "X_train_final = np.concatenate([X_train_num_scaled, X_train_cat],axis=1)\n",
    "X_test_final = np.concatenate([X_test_num_scaled, X_test_cat],axis=1)"
   ]
  },
  {
   "cell_type": "markdown",
   "metadata": {},
   "source": [
    "## 8. Oversampling"
   ]
  },
  {
   "cell_type": "code",
   "execution_count": 116,
   "metadata": {},
   "outputs": [
    {
     "data": {
      "text/plain": [
       "response\n",
       "1    1252\n",
       "0    1252\n",
       "Name: count, dtype: int64"
      ]
     },
     "execution_count": 116,
     "metadata": {},
     "output_type": "execute_result"
    }
   ],
   "source": [
    "from imblearn.over_sampling import SVMSMOTE\n",
    "\n",
    "svmsmote = SVMSMOTE(sampling_strategy='auto', random_state=42)\n",
    "X_train_balanced, y_train_balanced = svmsmote.fit_resample(X_train_final, y_train)\n",
    "y_train_balanced.value_counts()"
   ]
  },
  {
   "cell_type": "code",
   "execution_count": 117,
   "metadata": {},
   "outputs": [],
   "source": [
    "X_train_final = X_train_balanced\n",
    "y_train = y_train_balanced"
   ]
  },
  {
   "cell_type": "markdown",
   "metadata": {},
   "source": [
    "---"
   ]
  },
  {
   "cell_type": "markdown",
   "metadata": {},
   "source": [
    "# V. Model Definiton and Training"
   ]
  },
  {
   "cell_type": "code",
   "execution_count": 118,
   "metadata": {},
   "outputs": [],
   "source": [
    "def evaluate_model(model, X_train, y_train, X_test, y_test):\n",
    "    y_train_pred = model.predict(X_train)\n",
    "\n",
    "    print(\"Classification Report for Training Data:\")\n",
    "    print(classification_report(y_train, y_train_pred))\n",
    "\n",
    "    y_test_pred = model.predict(X_test)\n",
    "\n",
    "    print(\"Classification Report for Test Data:\")\n",
    "    print(classification_report(y_test, y_test_pred))\n",
    "\n",
    "    print(\"Confusion Matrix for Test Data:\")\n",
    "    print(confusion_matrix(y_test, y_test_pred))\n",
    "\n",
    "    # Create a confusion matrix\n",
    "    cm = confusion_matrix(y_test, y_test_pred)\n",
    "\n",
    "    # Visualize the confusion matrix\n",
    "    plt.figure(figsize=(10,7))\n",
    "    sns.heatmap(cm, annot=True, fmt='d')\n",
    "    plt.xlabel('Predicted')\n",
    "    plt.ylabel('Truth')\n",
    "    plt.show()"
   ]
  },
  {
   "cell_type": "markdown",
   "metadata": {},
   "source": [
    "## 1. Logistic Regression"
   ]
  },
  {
   "cell_type": "code",
   "execution_count": 119,
   "metadata": {},
   "outputs": [
    {
     "data": {
      "text/html": [
       "<style>#sk-container-id-8 {color: black;background-color: white;}#sk-container-id-8 pre{padding: 0;}#sk-container-id-8 div.sk-toggleable {background-color: white;}#sk-container-id-8 label.sk-toggleable__label {cursor: pointer;display: block;width: 100%;margin-bottom: 0;padding: 0.3em;box-sizing: border-box;text-align: center;}#sk-container-id-8 label.sk-toggleable__label-arrow:before {content: \"▸\";float: left;margin-right: 0.25em;color: #696969;}#sk-container-id-8 label.sk-toggleable__label-arrow:hover:before {color: black;}#sk-container-id-8 div.sk-estimator:hover label.sk-toggleable__label-arrow:before {color: black;}#sk-container-id-8 div.sk-toggleable__content {max-height: 0;max-width: 0;overflow: hidden;text-align: left;background-color: #f0f8ff;}#sk-container-id-8 div.sk-toggleable__content pre {margin: 0.2em;color: black;border-radius: 0.25em;background-color: #f0f8ff;}#sk-container-id-8 input.sk-toggleable__control:checked~div.sk-toggleable__content {max-height: 200px;max-width: 100%;overflow: auto;}#sk-container-id-8 input.sk-toggleable__control:checked~label.sk-toggleable__label-arrow:before {content: \"▾\";}#sk-container-id-8 div.sk-estimator input.sk-toggleable__control:checked~label.sk-toggleable__label {background-color: #d4ebff;}#sk-container-id-8 div.sk-label input.sk-toggleable__control:checked~label.sk-toggleable__label {background-color: #d4ebff;}#sk-container-id-8 input.sk-hidden--visually {border: 0;clip: rect(1px 1px 1px 1px);clip: rect(1px, 1px, 1px, 1px);height: 1px;margin: -1px;overflow: hidden;padding: 0;position: absolute;width: 1px;}#sk-container-id-8 div.sk-estimator {font-family: monospace;background-color: #f0f8ff;border: 1px dotted black;border-radius: 0.25em;box-sizing: border-box;margin-bottom: 0.5em;}#sk-container-id-8 div.sk-estimator:hover {background-color: #d4ebff;}#sk-container-id-8 div.sk-parallel-item::after {content: \"\";width: 100%;border-bottom: 1px solid gray;flex-grow: 1;}#sk-container-id-8 div.sk-label:hover label.sk-toggleable__label {background-color: #d4ebff;}#sk-container-id-8 div.sk-serial::before {content: \"\";position: absolute;border-left: 1px solid gray;box-sizing: border-box;top: 0;bottom: 0;left: 50%;z-index: 0;}#sk-container-id-8 div.sk-serial {display: flex;flex-direction: column;align-items: center;background-color: white;padding-right: 0.2em;padding-left: 0.2em;position: relative;}#sk-container-id-8 div.sk-item {position: relative;z-index: 1;}#sk-container-id-8 div.sk-parallel {display: flex;align-items: stretch;justify-content: center;background-color: white;position: relative;}#sk-container-id-8 div.sk-item::before, #sk-container-id-8 div.sk-parallel-item::before {content: \"\";position: absolute;border-left: 1px solid gray;box-sizing: border-box;top: 0;bottom: 0;left: 50%;z-index: -1;}#sk-container-id-8 div.sk-parallel-item {display: flex;flex-direction: column;z-index: 1;position: relative;background-color: white;}#sk-container-id-8 div.sk-parallel-item:first-child::after {align-self: flex-end;width: 50%;}#sk-container-id-8 div.sk-parallel-item:last-child::after {align-self: flex-start;width: 50%;}#sk-container-id-8 div.sk-parallel-item:only-child::after {width: 0;}#sk-container-id-8 div.sk-dashed-wrapped {border: 1px dashed gray;margin: 0 0.4em 0.5em 0.4em;box-sizing: border-box;padding-bottom: 0.4em;background-color: white;}#sk-container-id-8 div.sk-label label {font-family: monospace;font-weight: bold;display: inline-block;line-height: 1.2em;}#sk-container-id-8 div.sk-label-container {text-align: center;}#sk-container-id-8 div.sk-container {/* jupyter's `normalize.less` sets `[hidden] { display: none; }` but bootstrap.min.css set `[hidden] { display: none !important; }` so we also need the `!important` here to be able to override the default hidden behavior on the sphinx rendered scikit-learn.org. See: https://github.com/scikit-learn/scikit-learn/issues/21755 */display: inline-block !important;position: relative;}#sk-container-id-8 div.sk-text-repr-fallback {display: none;}</style><div id=\"sk-container-id-8\" class=\"sk-top-container\"><div class=\"sk-text-repr-fallback\"><pre>LogisticRegression()</pre><b>In a Jupyter environment, please rerun this cell to show the HTML representation or trust the notebook. <br />On GitHub, the HTML representation is unable to render, please try loading this page with nbviewer.org.</b></div><div class=\"sk-container\" hidden><div class=\"sk-item\"><div class=\"sk-estimator sk-toggleable\"><input class=\"sk-toggleable__control sk-hidden--visually\" id=\"sk-estimator-id-8\" type=\"checkbox\" checked><label for=\"sk-estimator-id-8\" class=\"sk-toggleable__label sk-toggleable__label-arrow\">LogisticRegression</label><div class=\"sk-toggleable__content\"><pre>LogisticRegression()</pre></div></div></div></div></div>"
      ],
      "text/plain": [
       "LogisticRegression()"
      ]
     },
     "execution_count": 119,
     "metadata": {},
     "output_type": "execute_result"
    }
   ],
   "source": [
    "log_reg = LogisticRegression()\n",
    "\n",
    "# Fit on the data\n",
    "log_reg.fit(X_train_final, y_train)"
   ]
  },
  {
   "cell_type": "code",
   "execution_count": 120,
   "metadata": {},
   "outputs": [
    {
     "name": "stdout",
     "output_type": "stream",
     "text": [
      "Classification Report for Training Data:\n",
      "              precision    recall  f1-score   support\n",
      "\n",
      "           0       0.85      0.85      0.85      1252\n",
      "           1       0.85      0.85      0.85      1252\n",
      "\n",
      "    accuracy                           0.85      2504\n",
      "   macro avg       0.85      0.85      0.85      2504\n",
      "weighted avg       0.85      0.85      0.85      2504\n",
      "\n",
      "Classification Report for Test Data:\n",
      "              precision    recall  f1-score   support\n",
      "\n",
      "           0       0.93      0.84      0.88       621\n",
      "           1       0.42      0.66      0.51       110\n",
      "\n",
      "    accuracy                           0.81       731\n",
      "   macro avg       0.68      0.75      0.70       731\n",
      "weighted avg       0.86      0.81      0.83       731\n",
      "\n",
      "Confusion Matrix for Test Data:\n",
      "[[520 101]\n",
      " [ 37  73]]\n"
     ]
    },
    {
     "data": {
      "image/png": "[encoded data removed]",
      "text/plain": [
       "<Figure size 1000x700 with 2 Axes>"
      ]
     },
     "metadata": {},
     "output_type": "display_data"
    }
   ],
   "source": [
    "evaluate_model(log_reg, X_train_final, y_train, X_test_final, y_test)"
   ]
  },
  {
   "cell_type": "markdown",
   "metadata": {},
   "source": [
    "## 2. Support Vector Machine (SVM)"
   ]
  },
  {
   "cell_type": "code",
   "execution_count": 121,
   "metadata": {},
   "outputs": [
    {
     "data": {
      "text/html": [
       "<style>#sk-container-id-9 {color: black;background-color: white;}#sk-container-id-9 pre{padding: 0;}#sk-container-id-9 div.sk-toggleable {background-color: white;}#sk-container-id-9 label.sk-toggleable__label {cursor: pointer;display: block;width: 100%;margin-bottom: 0;padding: 0.3em;box-sizing: border-box;text-align: center;}#sk-container-id-9 label.sk-toggleable__label-arrow:before {content: \"▸\";float: left;margin-right: 0.25em;color: #696969;}#sk-container-id-9 label.sk-toggleable__label-arrow:hover:before {color: black;}#sk-container-id-9 div.sk-estimator:hover label.sk-toggleable__label-arrow:before {color: black;}#sk-container-id-9 div.sk-toggleable__content {max-height: 0;max-width: 0;overflow: hidden;text-align: left;background-color: #f0f8ff;}#sk-container-id-9 div.sk-toggleable__content pre {margin: 0.2em;color: black;border-radius: 0.25em;background-color: #f0f8ff;}#sk-container-id-9 input.sk-toggleable__control:checked~div.sk-toggleable__content {max-height: 200px;max-width: 100%;overflow: auto;}#sk-container-id-9 input.sk-toggleable__control:checked~label.sk-toggleable__label-arrow:before {content: \"▾\";}#sk-container-id-9 div.sk-estimator input.sk-toggleable__control:checked~label.sk-toggleable__label {background-color: #d4ebff;}#sk-container-id-9 div.sk-label input.sk-toggleable__control:checked~label.sk-toggleable__label {background-color: #d4ebff;}#sk-container-id-9 input.sk-hidden--visually {border: 0;clip: rect(1px 1px 1px 1px);clip: rect(1px, 1px, 1px, 1px);height: 1px;margin: -1px;overflow: hidden;padding: 0;position: absolute;width: 1px;}#sk-container-id-9 div.sk-estimator {font-family: monospace;background-color: #f0f8ff;border: 1px dotted black;border-radius: 0.25em;box-sizing: border-box;margin-bottom: 0.5em;}#sk-container-id-9 div.sk-estimator:hover {background-color: #d4ebff;}#sk-container-id-9 div.sk-parallel-item::after {content: \"\";width: 100%;border-bottom: 1px solid gray;flex-grow: 1;}#sk-container-id-9 div.sk-label:hover label.sk-toggleable__label {background-color: #d4ebff;}#sk-container-id-9 div.sk-serial::before {content: \"\";position: absolute;border-left: 1px solid gray;box-sizing: border-box;top: 0;bottom: 0;left: 50%;z-index: 0;}#sk-container-id-9 div.sk-serial {display: flex;flex-direction: column;align-items: center;background-color: white;padding-right: 0.2em;padding-left: 0.2em;position: relative;}#sk-container-id-9 div.sk-item {position: relative;z-index: 1;}#sk-container-id-9 div.sk-parallel {display: flex;align-items: stretch;justify-content: center;background-color: white;position: relative;}#sk-container-id-9 div.sk-item::before, #sk-container-id-9 div.sk-parallel-item::before {content: \"\";position: absolute;border-left: 1px solid gray;box-sizing: border-box;top: 0;bottom: 0;left: 50%;z-index: -1;}#sk-container-id-9 div.sk-parallel-item {display: flex;flex-direction: column;z-index: 1;position: relative;background-color: white;}#sk-container-id-9 div.sk-parallel-item:first-child::after {align-self: flex-end;width: 50%;}#sk-container-id-9 div.sk-parallel-item:last-child::after {align-self: flex-start;width: 50%;}#sk-container-id-9 div.sk-parallel-item:only-child::after {width: 0;}#sk-container-id-9 div.sk-dashed-wrapped {border: 1px dashed gray;margin: 0 0.4em 0.5em 0.4em;box-sizing: border-box;padding-bottom: 0.4em;background-color: white;}#sk-container-id-9 div.sk-label label {font-family: monospace;font-weight: bold;display: inline-block;line-height: 1.2em;}#sk-container-id-9 div.sk-label-container {text-align: center;}#sk-container-id-9 div.sk-container {/* jupyter's `normalize.less` sets `[hidden] { display: none; }` but bootstrap.min.css set `[hidden] { display: none !important; }` so we also need the `!important` here to be able to override the default hidden behavior on the sphinx rendered scikit-learn.org. See: https://github.com/scikit-learn/scikit-learn/issues/21755 */display: inline-block !important;position: relative;}#sk-container-id-9 div.sk-text-repr-fallback {display: none;}</style><div id=\"sk-container-id-9\" class=\"sk-top-container\"><div class=\"sk-text-repr-fallback\"><pre>SVC()</pre><b>In a Jupyter environment, please rerun this cell to show the HTML representation or trust the notebook. <br />On GitHub, the HTML representation is unable to render, please try loading this page with nbviewer.org.</b></div><div class=\"sk-container\" hidden><div class=\"sk-item\"><div class=\"sk-estimator sk-toggleable\"><input class=\"sk-toggleable__control sk-hidden--visually\" id=\"sk-estimator-id-9\" type=\"checkbox\" checked><label for=\"sk-estimator-id-9\" class=\"sk-toggleable__label sk-toggleable__label-arrow\">SVC</label><div class=\"sk-toggleable__content\"><pre>SVC()</pre></div></div></div></div></div>"
      ],
      "text/plain": [
       "SVC()"
      ]
     },
     "execution_count": 121,
     "metadata": {},
     "output_type": "execute_result"
    }
   ],
   "source": [
    "svm = SVC()\n",
    "\n",
    "# Fit on the data\n",
    "svm.fit(X_train_final, y_train)"
   ]
  },
  {
   "cell_type": "code",
   "execution_count": 122,
   "metadata": {},
   "outputs": [
    {
     "name": "stdout",
     "output_type": "stream",
     "text": [
      "Classification Report for Training Data:\n",
      "              precision    recall  f1-score   support\n",
      "\n",
      "           0       0.92      0.92      0.92      1252\n",
      "           1       0.92      0.91      0.92      1252\n",
      "\n",
      "    accuracy                           0.92      2504\n",
      "   macro avg       0.92      0.92      0.92      2504\n",
      "weighted avg       0.92      0.92      0.92      2504\n",
      "\n",
      "Classification Report for Test Data:\n",
      "              precision    recall  f1-score   support\n",
      "\n",
      "           0       0.92      0.89      0.90       621\n",
      "           1       0.48      0.58      0.52       110\n",
      "\n",
      "    accuracy                           0.84       731\n",
      "   macro avg       0.70      0.73      0.71       731\n",
      "weighted avg       0.86      0.84      0.85       731\n",
      "\n",
      "Confusion Matrix for Test Data:\n",
      "[[551  70]\n",
      " [ 46  64]]\n"
     ]
    },
    {
     "data": {
      "image/png": "[encoded data removed]",
      "text/plain": [
       "<Figure size 1000x700 with 2 Axes>"
      ]
     },
     "metadata": {},
     "output_type": "display_data"
    }
   ],
   "source": [
    "evaluate_model(svm, X_train_final, y_train, X_test_final, y_test)"
   ]
  },
  {
   "cell_type": "markdown",
   "metadata": {},
   "source": [
    "## 3. Decision Tree"
   ]
  },
  {
   "cell_type": "code",
   "execution_count": 123,
   "metadata": {},
   "outputs": [
    {
     "data": {
      "text/html": [
       "<style>#sk-container-id-10 {color: black;background-color: white;}#sk-container-id-10 pre{padding: 0;}#sk-container-id-10 div.sk-toggleable {background-color: white;}#sk-container-id-10 label.sk-toggleable__label {cursor: pointer;display: block;width: 100%;margin-bottom: 0;padding: 0.3em;box-sizing: border-box;text-align: center;}#sk-container-id-10 label.sk-toggleable__label-arrow:before {content: \"▸\";float: left;margin-right: 0.25em;color: #696969;}#sk-container-id-10 label.sk-toggleable__label-arrow:hover:before {color: black;}#sk-container-id-10 div.sk-estimator:hover label.sk-toggleable__label-arrow:before {color: black;}#sk-container-id-10 div.sk-toggleable__content {max-height: 0;max-width: 0;overflow: hidden;text-align: left;background-color: #f0f8ff;}#sk-container-id-10 div.sk-toggleable__content pre {margin: 0.2em;color: black;border-radius: 0.25em;background-color: #f0f8ff;}#sk-container-id-10 input.sk-toggleable__control:checked~div.sk-toggleable__content {max-height: 200px;max-width: 100%;overflow: auto;}#sk-container-id-10 input.sk-toggleable__control:checked~label.sk-toggleable__label-arrow:before {content: \"▾\";}#sk-container-id-10 div.sk-estimator input.sk-toggleable__control:checked~label.sk-toggleable__label {background-color: #d4ebff;}#sk-container-id-10 div.sk-label input.sk-toggleable__control:checked~label.sk-toggleable__label {background-color: #d4ebff;}#sk-container-id-10 input.sk-hidden--visually {border: 0;clip: rect(1px 1px 1px 1px);clip: rect(1px, 1px, 1px, 1px);height: 1px;margin: -1px;overflow: hidden;padding: 0;position: absolute;width: 1px;}#sk-container-id-10 div.sk-estimator {font-family: monospace;background-color: #f0f8ff;border: 1px dotted black;border-radius: 0.25em;box-sizing: border-box;margin-bottom: 0.5em;}#sk-container-id-10 div.sk-estimator:hover {background-color: #d4ebff;}#sk-container-id-10 div.sk-parallel-item::after {content: \"\";width: 100%;border-bottom: 1px solid gray;flex-grow: 1;}#sk-container-id-10 div.sk-label:hover label.sk-toggleable__label {background-color: #d4ebff;}#sk-container-id-10 div.sk-serial::before {content: \"\";position: absolute;border-left: 1px solid gray;box-sizing: border-box;top: 0;bottom: 0;left: 50%;z-index: 0;}#sk-container-id-10 div.sk-serial {display: flex;flex-direction: column;align-items: center;background-color: white;padding-right: 0.2em;padding-left: 0.2em;position: relative;}#sk-container-id-10 div.sk-item {position: relative;z-index: 1;}#sk-container-id-10 div.sk-parallel {display: flex;align-items: stretch;justify-content: center;background-color: white;position: relative;}#sk-container-id-10 div.sk-item::before, #sk-container-id-10 div.sk-parallel-item::before {content: \"\";position: absolute;border-left: 1px solid gray;box-sizing: border-box;top: 0;bottom: 0;left: 50%;z-index: -1;}#sk-container-id-10 div.sk-parallel-item {display: flex;flex-direction: column;z-index: 1;position: relative;background-color: white;}#sk-container-id-10 div.sk-parallel-item:first-child::after {align-self: flex-end;width: 50%;}#sk-container-id-10 div.sk-parallel-item:last-child::after {align-self: flex-start;width: 50%;}#sk-container-id-10 div.sk-parallel-item:only-child::after {width: 0;}#sk-container-id-10 div.sk-dashed-wrapped {border: 1px dashed gray;margin: 0 0.4em 0.5em 0.4em;box-sizing: border-box;padding-bottom: 0.4em;background-color: white;}#sk-container-id-10 div.sk-label label {font-family: monospace;font-weight: bold;display: inline-block;line-height: 1.2em;}#sk-container-id-10 div.sk-label-container {text-align: center;}#sk-container-id-10 div.sk-container {/* jupyter's `normalize.less` sets `[hidden] { display: none; }` but bootstrap.min.css set `[hidden] { display: none !important; }` so we also need the `!important` here to be able to override the default hidden behavior on the sphinx rendered scikit-learn.org. See: https://github.com/scikit-learn/scikit-learn/issues/21755 */display: inline-block !important;position: relative;}#sk-container-id-10 div.sk-text-repr-fallback {display: none;}</style><div id=\"sk-container-id-10\" class=\"sk-top-container\"><div class=\"sk-text-repr-fallback\"><pre>DecisionTreeClassifier()</pre><b>In a Jupyter environment, please rerun this cell to show the HTML representation or trust the notebook. <br />On GitHub, the HTML representation is unable to render, please try loading this page with nbviewer.org.</b></div><div class=\"sk-container\" hidden><div class=\"sk-item\"><div class=\"sk-estimator sk-toggleable\"><input class=\"sk-toggleable__control sk-hidden--visually\" id=\"sk-estimator-id-10\" type=\"checkbox\" checked><label for=\"sk-estimator-id-10\" class=\"sk-toggleable__label sk-toggleable__label-arrow\">DecisionTreeClassifier</label><div class=\"sk-toggleable__content\"><pre>DecisionTreeClassifier()</pre></div></div></div></div></div>"
      ],
      "text/plain": [
       "DecisionTreeClassifier()"
      ]
     },
     "execution_count": 123,
     "metadata": {},
     "output_type": "execute_result"
    }
   ],
   "source": [
    "tree = DecisionTreeClassifier()\n",
    "\n",
    "# Fit on the data\n",
    "tree.fit(X_train_final, y_train)"
   ]
  },
  {
   "cell_type": "code",
   "execution_count": 124,
   "metadata": {},
   "outputs": [
    {
     "name": "stdout",
     "output_type": "stream",
     "text": [
      "Classification Report for Training Data:\n",
      "              precision    recall  f1-score   support\n",
      "\n",
      "           0       0.99      1.00      1.00      1252\n",
      "           1       1.00      0.99      1.00      1252\n",
      "\n",
      "    accuracy                           1.00      2504\n",
      "   macro avg       1.00      1.00      1.00      2504\n",
      "weighted avg       1.00      1.00      1.00      2504\n",
      "\n",
      "Classification Report for Test Data:\n",
      "              precision    recall  f1-score   support\n",
      "\n",
      "           0       0.90      0.86      0.88       621\n",
      "           1       0.38      0.46      0.41       110\n",
      "\n",
      "    accuracy                           0.80       731\n",
      "   macro avg       0.64      0.66      0.65       731\n",
      "weighted avg       0.82      0.80      0.81       731\n",
      "\n",
      "Confusion Matrix for Test Data:\n",
      "[[536  85]\n",
      " [ 59  51]]\n"
     ]
    },
    {
     "data": {
      "image/png": "[encoded data removed]",
      "text/plain": [
       "<Figure size 1000x700 with 2 Axes>"
      ]
     },
     "metadata": {},
     "output_type": "display_data"
    }
   ],
   "source": [
    "evaluate_model(tree, X_train_final, y_train, X_test_final, y_test)"
   ]
  },
  {
   "cell_type": "markdown",
   "metadata": {},
   "source": [
    "## 4. Random Forest"
   ]
  },
  {
   "cell_type": "code",
   "execution_count": 125,
   "metadata": {},
   "outputs": [
    {
     "data": {
      "text/html": [
       "<style>#sk-container-id-11 {color: black;background-color: white;}#sk-container-id-11 pre{padding: 0;}#sk-container-id-11 div.sk-toggleable {background-color: white;}#sk-container-id-11 label.sk-toggleable__label {cursor: pointer;display: block;width: 100%;margin-bottom: 0;padding: 0.3em;box-sizing: border-box;text-align: center;}#sk-container-id-11 label.sk-toggleable__label-arrow:before {content: \"▸\";float: left;margin-right: 0.25em;color: #696969;}#sk-container-id-11 label.sk-toggleable__label-arrow:hover:before {color: black;}#sk-container-id-11 div.sk-estimator:hover label.sk-toggleable__label-arrow:before {color: black;}#sk-container-id-11 div.sk-toggleable__content {max-height: 0;max-width: 0;overflow: hidden;text-align: left;background-color: #f0f8ff;}#sk-container-id-11 div.sk-toggleable__content pre {margin: 0.2em;color: black;border-radius: 0.25em;background-color: #f0f8ff;}#sk-container-id-11 input.sk-toggleable__control:checked~div.sk-toggleable__content {max-height: 200px;max-width: 100%;overflow: auto;}#sk-container-id-11 input.sk-toggleable__control:checked~label.sk-toggleable__label-arrow:before {content: \"▾\";}#sk-container-id-11 div.sk-estimator input.sk-toggleable__control:checked~label.sk-toggleable__label {background-color: #d4ebff;}#sk-container-id-11 div.sk-label input.sk-toggleable__control:checked~label.sk-toggleable__label {background-color: #d4ebff;}#sk-container-id-11 input.sk-hidden--visually {border: 0;clip: rect(1px 1px 1px 1px);clip: rect(1px, 1px, 1px, 1px);height: 1px;margin: -1px;overflow: hidden;padding: 0;position: absolute;width: 1px;}#sk-container-id-11 div.sk-estimator {font-family: monospace;background-color: #f0f8ff;border: 1px dotted black;border-radius: 0.25em;box-sizing: border-box;margin-bottom: 0.5em;}#sk-container-id-11 div.sk-estimator:hover {background-color: #d4ebff;}#sk-container-id-11 div.sk-parallel-item::after {content: \"\";width: 100%;border-bottom: 1px solid gray;flex-grow: 1;}#sk-container-id-11 div.sk-label:hover label.sk-toggleable__label {background-color: #d4ebff;}#sk-container-id-11 div.sk-serial::before {content: \"\";position: absolute;border-left: 1px solid gray;box-sizing: border-box;top: 0;bottom: 0;left: 50%;z-index: 0;}#sk-container-id-11 div.sk-serial {display: flex;flex-direction: column;align-items: center;background-color: white;padding-right: 0.2em;padding-left: 0.2em;position: relative;}#sk-container-id-11 div.sk-item {position: relative;z-index: 1;}#sk-container-id-11 div.sk-parallel {display: flex;align-items: stretch;justify-content: center;background-color: white;position: relative;}#sk-container-id-11 div.sk-item::before, #sk-container-id-11 div.sk-parallel-item::before {content: \"\";position: absolute;border-left: 1px solid gray;box-sizing: border-box;top: 0;bottom: 0;left: 50%;z-index: -1;}#sk-container-id-11 div.sk-parallel-item {display: flex;flex-direction: column;z-index: 1;position: relative;background-color: white;}#sk-container-id-11 div.sk-parallel-item:first-child::after {align-self: flex-end;width: 50%;}#sk-container-id-11 div.sk-parallel-item:last-child::after {align-self: flex-start;width: 50%;}#sk-container-id-11 div.sk-parallel-item:only-child::after {width: 0;}#sk-container-id-11 div.sk-dashed-wrapped {border: 1px dashed gray;margin: 0 0.4em 0.5em 0.4em;box-sizing: border-box;padding-bottom: 0.4em;background-color: white;}#sk-container-id-11 div.sk-label label {font-family: monospace;font-weight: bold;display: inline-block;line-height: 1.2em;}#sk-container-id-11 div.sk-label-container {text-align: center;}#sk-container-id-11 div.sk-container {/* jupyter's `normalize.less` sets `[hidden] { display: none; }` but bootstrap.min.css set `[hidden] { display: none !important; }` so we also need the `!important` here to be able to override the default hidden behavior on the sphinx rendered scikit-learn.org. See: https://github.com/scikit-learn/scikit-learn/issues/21755 */display: inline-block !important;position: relative;}#sk-container-id-11 div.sk-text-repr-fallback {display: none;}</style><div id=\"sk-container-id-11\" class=\"sk-top-container\"><div class=\"sk-text-repr-fallback\"><pre>RandomForestClassifier()</pre><b>In a Jupyter environment, please rerun this cell to show the HTML representation or trust the notebook. <br />On GitHub, the HTML representation is unable to render, please try loading this page with nbviewer.org.</b></div><div class=\"sk-container\" hidden><div class=\"sk-item\"><div class=\"sk-estimator sk-toggleable\"><input class=\"sk-toggleable__control sk-hidden--visually\" id=\"sk-estimator-id-11\" type=\"checkbox\" checked><label for=\"sk-estimator-id-11\" class=\"sk-toggleable__label sk-toggleable__label-arrow\">RandomForestClassifier</label><div class=\"sk-toggleable__content\"><pre>RandomForestClassifier()</pre></div></div></div></div></div>"
      ],
      "text/plain": [
       "RandomForestClassifier()"
      ]
     },
     "execution_count": 125,
     "metadata": {},
     "output_type": "execute_result"
    }
   ],
   "source": [
    "forest = RandomForestClassifier()\n",
    "\n",
    "# Fit on the data\n",
    "forest.fit(X_train_final, y_train)"
   ]
  },
  {
   "cell_type": "code",
   "execution_count": 126,
   "metadata": {},
   "outputs": [
    {
     "name": "stdout",
     "output_type": "stream",
     "text": [
      "Classification Report for Training Data:\n",
      "              precision    recall  f1-score   support\n",
      "\n",
      "           0       1.00      1.00      1.00      1252\n",
      "           1       1.00      1.00      1.00      1252\n",
      "\n",
      "    accuracy                           1.00      2504\n",
      "   macro avg       1.00      1.00      1.00      2504\n",
      "weighted avg       1.00      1.00      1.00      2504\n",
      "\n",
      "Classification Report for Test Data:\n",
      "              precision    recall  f1-score   support\n",
      "\n",
      "           0       0.90      0.95      0.93       621\n",
      "           1       0.59      0.43      0.50       110\n",
      "\n",
      "    accuracy                           0.87       731\n",
      "   macro avg       0.75      0.69      0.71       731\n",
      "weighted avg       0.86      0.87      0.86       731\n",
      "\n",
      "Confusion Matrix for Test Data:\n",
      "[[589  32]\n",
      " [ 63  47]]\n"
     ]
    },
    {
     "data": {
      "image/png": "[encoded data removed]",
      "text/plain": [
       "<Figure size 1000x700 with 2 Axes>"
      ]
     },
     "metadata": {},
     "output_type": "display_data"
    }
   ],
   "source": [
    "evaluate_model(forest, X_train_final, y_train, X_test_final, y_test)"
   ]
  },
  {
   "cell_type": "markdown",
   "metadata": {},
   "source": [
    "## 5. Extra Trees (Extremely Randomized Trees)"
   ]
  },
  {
   "cell_type": "code",
   "execution_count": 127,
   "metadata": {},
   "outputs": [
    {
     "data": {
      "text/html": [
       "<style>#sk-container-id-12 {color: black;background-color: white;}#sk-container-id-12 pre{padding: 0;}#sk-container-id-12 div.sk-toggleable {background-color: white;}#sk-container-id-12 label.sk-toggleable__label {cursor: pointer;display: block;width: 100%;margin-bottom: 0;padding: 0.3em;box-sizing: border-box;text-align: center;}#sk-container-id-12 label.sk-toggleable__label-arrow:before {content: \"▸\";float: left;margin-right: 0.25em;color: #696969;}#sk-container-id-12 label.sk-toggleable__label-arrow:hover:before {color: black;}#sk-container-id-12 div.sk-estimator:hover label.sk-toggleable__label-arrow:before {color: black;}#sk-container-id-12 div.sk-toggleable__content {max-height: 0;max-width: 0;overflow: hidden;text-align: left;background-color: #f0f8ff;}#sk-container-id-12 div.sk-toggleable__content pre {margin: 0.2em;color: black;border-radius: 0.25em;background-color: #f0f8ff;}#sk-container-id-12 input.sk-toggleable__control:checked~div.sk-toggleable__content {max-height: 200px;max-width: 100%;overflow: auto;}#sk-container-id-12 input.sk-toggleable__control:checked~label.sk-toggleable__label-arrow:before {content: \"▾\";}#sk-container-id-12 div.sk-estimator input.sk-toggleable__control:checked~label.sk-toggleable__label {background-color: #d4ebff;}#sk-container-id-12 div.sk-label input.sk-toggleable__control:checked~label.sk-toggleable__label {background-color: #d4ebff;}#sk-container-id-12 input.sk-hidden--visually {border: 0;clip: rect(1px 1px 1px 1px);clip: rect(1px, 1px, 1px, 1px);height: 1px;margin: -1px;overflow: hidden;padding: 0;position: absolute;width: 1px;}#sk-container-id-12 div.sk-estimator {font-family: monospace;background-color: #f0f8ff;border: 1px dotted black;border-radius: 0.25em;box-sizing: border-box;margin-bottom: 0.5em;}#sk-container-id-12 div.sk-estimator:hover {background-color: #d4ebff;}#sk-container-id-12 div.sk-parallel-item::after {content: \"\";width: 100%;border-bottom: 1px solid gray;flex-grow: 1;}#sk-container-id-12 div.sk-label:hover label.sk-toggleable__label {background-color: #d4ebff;}#sk-container-id-12 div.sk-serial::before {content: \"\";position: absolute;border-left: 1px solid gray;box-sizing: border-box;top: 0;bottom: 0;left: 50%;z-index: 0;}#sk-container-id-12 div.sk-serial {display: flex;flex-direction: column;align-items: center;background-color: white;padding-right: 0.2em;padding-left: 0.2em;position: relative;}#sk-container-id-12 div.sk-item {position: relative;z-index: 1;}#sk-container-id-12 div.sk-parallel {display: flex;align-items: stretch;justify-content: center;background-color: white;position: relative;}#sk-container-id-12 div.sk-item::before, #sk-container-id-12 div.sk-parallel-item::before {content: \"\";position: absolute;border-left: 1px solid gray;box-sizing: border-box;top: 0;bottom: 0;left: 50%;z-index: -1;}#sk-container-id-12 div.sk-parallel-item {display: flex;flex-direction: column;z-index: 1;position: relative;background-color: white;}#sk-container-id-12 div.sk-parallel-item:first-child::after {align-self: flex-end;width: 50%;}#sk-container-id-12 div.sk-parallel-item:last-child::after {align-self: flex-start;width: 50%;}#sk-container-id-12 div.sk-parallel-item:only-child::after {width: 0;}#sk-container-id-12 div.sk-dashed-wrapped {border: 1px dashed gray;margin: 0 0.4em 0.5em 0.4em;box-sizing: border-box;padding-bottom: 0.4em;background-color: white;}#sk-container-id-12 div.sk-label label {font-family: monospace;font-weight: bold;display: inline-block;line-height: 1.2em;}#sk-container-id-12 div.sk-label-container {text-align: center;}#sk-container-id-12 div.sk-container {/* jupyter's `normalize.less` sets `[hidden] { display: none; }` but bootstrap.min.css set `[hidden] { display: none !important; }` so we also need the `!important` here to be able to override the default hidden behavior on the sphinx rendered scikit-learn.org. See: https://github.com/scikit-learn/scikit-learn/issues/21755 */display: inline-block !important;position: relative;}#sk-container-id-12 div.sk-text-repr-fallback {display: none;}</style><div id=\"sk-container-id-12\" class=\"sk-top-container\"><div class=\"sk-text-repr-fallback\"><pre>ExtraTreesClassifier()</pre><b>In a Jupyter environment, please rerun this cell to show the HTML representation or trust the notebook. <br />On GitHub, the HTML representation is unable to render, please try loading this page with nbviewer.org.</b></div><div class=\"sk-container\" hidden><div class=\"sk-item\"><div class=\"sk-estimator sk-toggleable\"><input class=\"sk-toggleable__control sk-hidden--visually\" id=\"sk-estimator-id-12\" type=\"checkbox\" checked><label for=\"sk-estimator-id-12\" class=\"sk-toggleable__label sk-toggleable__label-arrow\">ExtraTreesClassifier</label><div class=\"sk-toggleable__content\"><pre>ExtraTreesClassifier()</pre></div></div></div></div></div>"
      ],
      "text/plain": [
       "ExtraTreesClassifier()"
      ]
     },
     "execution_count": 127,
     "metadata": {},
     "output_type": "execute_result"
    }
   ],
   "source": [
    "extra_trees = ExtraTreesClassifier()\n",
    "\n",
    "# Fit on the data\n",
    "extra_trees.fit(X_train_final, y_train)"
   ]
  },
  {
   "cell_type": "code",
   "execution_count": 128,
   "metadata": {},
   "outputs": [
    {
     "name": "stdout",
     "output_type": "stream",
     "text": [
      "Classification Report for Training Data:\n",
      "              precision    recall  f1-score   support\n",
      "\n",
      "           0       0.99      1.00      1.00      1252\n",
      "           1       1.00      0.99      1.00      1252\n",
      "\n",
      "    accuracy                           1.00      2504\n",
      "   macro avg       1.00      1.00      1.00      2504\n",
      "weighted avg       1.00      1.00      1.00      2504\n",
      "\n",
      "Classification Report for Test Data:\n",
      "              precision    recall  f1-score   support\n",
      "\n",
      "           0       0.90      0.95      0.93       621\n",
      "           1       0.60      0.43      0.50       110\n",
      "\n",
      "    accuracy                           0.87       731\n",
      "   macro avg       0.75      0.69      0.71       731\n",
      "weighted avg       0.86      0.87      0.86       731\n",
      "\n",
      "Confusion Matrix for Test Data:\n",
      "[[590  31]\n",
      " [ 63  47]]\n"
     ]
    },
    {
     "data": {
      "image/png": "[encoded data removed]",
      "text/plain": [
       "<Figure size 1000x700 with 2 Axes>"
      ]
     },
     "metadata": {},
     "output_type": "display_data"
    }
   ],
   "source": [
    "evaluate_model(extra_trees, X_train_final, y_train, X_test_final, y_test)"
   ]
  },
  {
   "cell_type": "markdown",
   "metadata": {},
   "source": [
    "# 6. ANN"
   ]
  },
  {
   "cell_type": "markdown",
   "metadata": {},
   "source": [
    "## 6.6. Sequential"
   ]
  },
  {
   "cell_type": "code",
   "execution_count": 129,
   "metadata": {},
   "outputs": [],
   "source": [
    "# Clear session\n",
    "\n",
    "seed = 18\n",
    "tf.keras.backend.clear_session()\n",
    "np.random.seed(seed)\n",
    "tf.random.set_seed(seed)"
   ]
  },
  {
   "cell_type": "code",
   "execution_count": 130,
   "metadata": {},
   "outputs": [],
   "source": [
    "model_sequential = Sequential()\n",
    "model_sequential.add(Dense(32,\n",
    "                           activation='relu',\n",
    "                           kernel_initializer=tf.keras.initializers.HeNormal(seed),\n",
    "                           input_shape=(20,)))\n",
    "model_sequential.add(Dense(16,\n",
    "                           activation='relu',\n",
    "                           kernel_initializer=tf.keras.initializers.HeNormal(seed+1)))\n",
    "model_sequential.add(Dense(8,\n",
    "                           activation='relu',\n",
    "                           kernel_initializer=tf.keras.initializers.HeNormal(seed+2)))\n",
    "model_sequential.add(Dense(4,\n",
    "                           activation='relu',\n",
    "                           kernel_initializer=tf.keras.initializers.HeNormal(seed+3)))\n",
    "model_sequential.add(Dense(1,\n",
    "                           activation='sigmoid',\n",
    "                           kernel_initializer=tf.keras.initializers.HeNormal(seed+5)))"
   ]
  },
  {
   "cell_type": "code",
   "execution_count": 131,
   "metadata": {},
   "outputs": [],
   "source": [
    "# Compile\n",
    "model_sequential.compile(loss='binary_crossentropy',\n",
    "                         optimizer='adam',\n",
    "                         metrics=['Precision'])"
   ]
  },
  {
   "cell_type": "code",
   "execution_count": 132,
   "metadata": {},
   "outputs": [
    {
     "name": "stdout",
     "output_type": "stream",
     "text": [
      "Model: \"sequential\"\n",
      "_________________________________________________________________\n",
      " Layer (type)                Output Shape              Param #   \n",
      "=================================================================\n",
      " dense (Dense)               (None, 32)                672       \n",
      "                                                                 \n",
      " dense_1 (Dense)             (None, 16)                528       \n",
      "                                                                 \n",
      " dense_2 (Dense)             (None, 8)                 136       \n",
      "                                                                 \n",
      " dense_3 (Dense)             (None, 4)                 36        \n",
      "                                                                 \n",
      " dense_4 (Dense)             (None, 1)                 5         \n",
      "                                                                 \n",
      "=================================================================\n",
      "Total params: 1377 (5.38 KB)\n",
      "Trainable params: 1377 (5.38 KB)\n",
      "Non-trainable params: 0 (0.00 Byte)\n",
      "_________________________________________________________________\n"
     ]
    }
   ],
   "source": [
    "# Summary\n",
    "model_sequential.summary()"
   ]
  },
  {
   "cell_type": "code",
   "execution_count": 133,
   "metadata": {},
   "outputs": [
    {
     "name": "stdout",
     "output_type": "stream",
     "text": [
      "Train Size :  (2128, 20)\n",
      "Val Size   :  (376, 20)\n",
      "Test Size  :  (731, 20)\n"
     ]
    }
   ],
   "source": [
    "# split into train and val\n",
    "X_train_final, X_val_final, y_train, y_val = train_test_split(X_train_final,\n",
    "                                                y_train,\n",
    "                                                test_size=0.15,\n",
    "                                                random_state=42,\n",
    "                                                stratify=y_train)\n",
    "\n",
    "print('Train Size : ', X_train_final.shape)\n",
    "print('Val Size   : ', X_val_final.shape)\n",
    "print('Test Size  : ', X_test_final.shape)"
   ]
  },
  {
   "cell_type": "code",
   "execution_count": 134,
   "metadata": {},
   "outputs": [
    {
     "name": "stdout",
     "output_type": "stream",
     "text": [
      "Epoch 1/50\n",
      "67/67 [==============================] - 2s 21ms/step - loss: 0.6525 - precision: 0.5750 - val_loss: 0.6071 - val_precision: 0.6778\n",
      "Epoch 2/50\n",
      "67/67 [==============================] - 0s 2ms/step - loss: 0.5466 - precision: 0.7345 - val_loss: 0.4888 - val_precision: 0.7834\n",
      "Epoch 3/50\n",
      "67/67 [==============================] - 0s 2ms/step - loss: 0.4121 - precision: 0.8146 - val_loss: 0.3442 - val_precision: 0.8594\n",
      "Epoch 4/50\n",
      "67/67 [==============================] - 0s 2ms/step - loss: 0.3332 - precision: 0.8602 - val_loss: 0.3117 - val_precision: 0.8301\n",
      "Epoch 5/50\n",
      "67/67 [==============================] - 0s 2ms/step - loss: 0.3021 - precision: 0.8783 - val_loss: 0.2888 - val_precision: 0.9027\n",
      "Epoch 6/50\n",
      "67/67 [==============================] - 0s 2ms/step - loss: 0.2846 - precision: 0.8887 - val_loss: 0.2806 - val_precision: 0.8537\n",
      "Epoch 7/50\n",
      "67/67 [==============================] - 0s 2ms/step - loss: 0.2659 - precision: 0.8949 - val_loss: 0.2847 - val_precision: 0.8510\n",
      "Epoch 8/50\n",
      "67/67 [==============================] - 0s 2ms/step - loss: 0.2472 - precision: 0.9065 - val_loss: 0.2619 - val_precision: 0.8878\n",
      "Epoch 9/50\n",
      "67/67 [==============================] - 0s 2ms/step - loss: 0.2354 - precision: 0.9115 - val_loss: 0.2581 - val_precision: 0.8958\n",
      "Epoch 10/50\n",
      "67/67 [==============================] - 0s 2ms/step - loss: 0.2253 - precision: 0.9125 - val_loss: 0.2719 - val_precision: 0.8696\n",
      "Epoch 11/50\n",
      "67/67 [==============================] - 0s 2ms/step - loss: 0.2202 - precision: 0.9135 - val_loss: 0.2518 - val_precision: 0.8838\n",
      "Epoch 12/50\n",
      "67/67 [==============================] - 0s 2ms/step - loss: 0.2052 - precision: 0.9206 - val_loss: 0.2481 - val_precision: 0.9058\n",
      "Epoch 13/50\n",
      "67/67 [==============================] - 0s 2ms/step - loss: 0.1970 - precision: 0.9248 - val_loss: 0.2546 - val_precision: 0.8856\n",
      "Epoch 14/50\n",
      "67/67 [==============================] - 0s 2ms/step - loss: 0.1871 - precision: 0.9250 - val_loss: 0.2487 - val_precision: 0.9198\n",
      "Epoch 15/50\n",
      "67/67 [==============================] - 0s 2ms/step - loss: 0.1827 - precision: 0.9325 - val_loss: 0.2475 - val_precision: 0.9077\n",
      "Epoch 16/50\n",
      "67/67 [==============================] - 0s 2ms/step - loss: 0.1773 - precision: 0.9333 - val_loss: 0.2524 - val_precision: 0.8939\n",
      "Epoch 17/50\n",
      "67/67 [==============================] - 0s 2ms/step - loss: 0.1679 - precision: 0.9366 - val_loss: 0.2556 - val_precision: 0.9031\n",
      "Epoch 18/50\n",
      "67/67 [==============================] - 0s 2ms/step - loss: 0.1700 - precision: 0.9333 - val_loss: 0.2499 - val_precision: 0.9000\n",
      "Epoch 19/50\n",
      "67/67 [==============================] - 0s 2ms/step - loss: 0.1636 - precision: 0.9325 - val_loss: 0.2533 - val_precision: 0.9067\n",
      "Epoch 20/50\n",
      "67/67 [==============================] - 0s 2ms/step - loss: 0.1573 - precision: 0.9354 - val_loss: 0.2574 - val_precision: 0.9144\n",
      "Epoch 21/50\n",
      "67/67 [==============================] - 0s 2ms/step - loss: 0.1546 - precision: 0.9376 - val_loss: 0.2538 - val_precision: 0.9124\n",
      "Epoch 22/50\n",
      "67/67 [==============================] - 0s 2ms/step - loss: 0.1452 - precision: 0.9397 - val_loss: 0.2552 - val_precision: 0.9000\n",
      "Epoch 23/50\n",
      "67/67 [==============================] - 0s 2ms/step - loss: 0.1445 - precision: 0.9417 - val_loss: 0.2725 - val_precision: 0.9096\n",
      "Epoch 24/50\n",
      "67/67 [==============================] - 0s 2ms/step - loss: 0.1375 - precision: 0.9393 - val_loss: 0.2630 - val_precision: 0.8950\n",
      "Epoch 25/50\n",
      "67/67 [==============================] - 0s 2ms/step - loss: 0.1347 - precision: 0.9391 - val_loss: 0.2601 - val_precision: 0.9036\n",
      "Epoch 26/50\n",
      "67/67 [==============================] - 0s 1ms/step - loss: 0.1345 - precision: 0.9451 - val_loss: 0.2614 - val_precision: 0.9000\n",
      "Epoch 27/50\n",
      "67/67 [==============================] - 0s 2ms/step - loss: 0.1358 - precision: 0.9413 - val_loss: 0.2556 - val_precision: 0.9067\n",
      "Epoch 28/50\n",
      "67/67 [==============================] - 0s 1ms/step - loss: 0.1230 - precision: 0.9575 - val_loss: 0.2793 - val_precision: 0.8835\n",
      "Epoch 29/50\n",
      "67/67 [==============================] - 0s 2ms/step - loss: 0.1263 - precision: 0.9404 - val_loss: 0.2541 - val_precision: 0.8995\n",
      "Epoch 30/50\n",
      "67/67 [==============================] - 0s 2ms/step - loss: 0.1173 - precision: 0.9517 - val_loss: 0.2569 - val_precision: 0.9036\n",
      "Epoch 31/50\n",
      "67/67 [==============================] - 0s 2ms/step - loss: 0.1183 - precision: 0.9506 - val_loss: 0.2547 - val_precision: 0.9077\n",
      "Epoch 32/50\n",
      "67/67 [==============================] - 0s 2ms/step - loss: 0.1128 - precision: 0.9519 - val_loss: 0.2593 - val_precision: 0.8974\n",
      "Epoch 33/50\n",
      "67/67 [==============================] - 0s 1ms/step - loss: 0.1102 - precision: 0.9501 - val_loss: 0.2540 - val_precision: 0.9067\n",
      "Epoch 34/50\n",
      "67/67 [==============================] - 0s 1ms/step - loss: 0.1046 - precision: 0.9545 - val_loss: 0.2611 - val_precision: 0.9082\n",
      "Epoch 35/50\n",
      "67/67 [==============================] - 0s 2ms/step - loss: 0.1038 - precision: 0.9511 - val_loss: 0.2738 - val_precision: 0.9005\n",
      "Epoch 36/50\n",
      "67/67 [==============================] - 0s 2ms/step - loss: 0.1020 - precision: 0.9474 - val_loss: 0.2625 - val_precision: 0.8990\n",
      "Epoch 37/50\n",
      "67/67 [==============================] - 0s 2ms/step - loss: 0.0967 - precision: 0.9564 - val_loss: 0.2637 - val_precision: 0.9189\n",
      "Epoch 38/50\n",
      "67/67 [==============================] - 0s 2ms/step - loss: 0.0962 - precision: 0.9555 - val_loss: 0.2823 - val_precision: 0.9167\n",
      "Epoch 39/50\n",
      "67/67 [==============================] - 0s 2ms/step - loss: 0.0943 - precision: 0.9589 - val_loss: 0.2723 - val_precision: 0.9091\n",
      "Epoch 40/50\n",
      "67/67 [==============================] - 0s 2ms/step - loss: 0.0936 - precision: 0.9600 - val_loss: 0.2796 - val_precision: 0.9040\n",
      "Epoch 41/50\n",
      "67/67 [==============================] - 0s 2ms/step - loss: 0.0901 - precision: 0.9575 - val_loss: 0.2722 - val_precision: 0.9175\n",
      "Epoch 42/50\n",
      "67/67 [==============================] - 0s 2ms/step - loss: 0.0869 - precision: 0.9594 - val_loss: 0.2871 - val_precision: 0.9301\n",
      "Epoch 43/50\n",
      "67/67 [==============================] - 0s 2ms/step - loss: 0.0903 - precision: 0.9618 - val_loss: 0.2931 - val_precision: 0.8927\n",
      "Epoch 44/50\n",
      "67/67 [==============================] - 0s 2ms/step - loss: 0.0864 - precision: 0.9630 - val_loss: 0.2863 - val_precision: 0.9095\n",
      "Epoch 45/50\n",
      "67/67 [==============================] - 0s 2ms/step - loss: 0.0857 - precision: 0.9593 - val_loss: 0.2894 - val_precision: 0.9158\n",
      "Epoch 46/50\n",
      "67/67 [==============================] - 0s 2ms/step - loss: 0.0776 - precision: 0.9664 - val_loss: 0.2804 - val_precision: 0.9137\n",
      "Epoch 47/50\n",
      "67/67 [==============================] - 0s 2ms/step - loss: 0.0815 - precision: 0.9594 - val_loss: 0.3040 - val_precision: 0.9031\n",
      "Epoch 48/50\n",
      "67/67 [==============================] - 0s 2ms/step - loss: 0.0842 - precision: 0.9602 - val_loss: 0.2925 - val_precision: 0.9278\n",
      "Epoch 49/50\n",
      "67/67 [==============================] - 0s 2ms/step - loss: 0.0762 - precision: 0.9683 - val_loss: 0.2830 - val_precision: 0.9095\n",
      "Epoch 50/50\n",
      "67/67 [==============================] - 0s 2ms/step - loss: 0.0738 - precision: 0.9656 - val_loss: 0.3045 - val_precision: 0.9010\n"
     ]
    }
   ],
   "source": [
    "from keras.callbacks import ModelCheckpoint\n",
    "\n",
    "# Define model checkpoint\n",
    "model_checkpoint = ModelCheckpoint('best_model.h5', monitor='val_loss', save_best_only=True)\n",
    "\n",
    "model_seq_hist = model_sequential.fit(X_train_final, y_train, epochs=50, validation_data=(X_val_final, y_val), callbacks=[model_checkpoint])"
   ]
  },
  {
   "cell_type": "markdown",
   "metadata": {},
   "source": [
    "## 6.7. Functional"
   ]
  },
  {
   "cell_type": "code",
   "execution_count": 135,
   "metadata": {},
   "outputs": [],
   "source": [
    "# Clear session\n",
    "\n",
    "seed = 18\n",
    "tf.keras.backend.clear_session()\n",
    "np.random.seed(seed)\n",
    "tf.random.set_seed(seed)"
   ]
  },
  {
   "cell_type": "code",
   "execution_count": 136,
   "metadata": {},
   "outputs": [],
   "source": [
    "from keras.layers import Dropout\n",
    "from keras.regularizers import l2\n",
    "\n",
    "input_layer = Input(shape=(20,))\n",
    "hidden_layer_1 = Dense(32,\n",
    "                       activation='relu',\n",
    "                       kernel_initializer=tf.keras.initializers.HeNormal(seed+1),\n",
    "                       kernel_regularizer=l2(0.01))(input_layer)\n",
    "hidden_layer_1 = Dropout(0.5)(hidden_layer_1)\n",
    "hidden_layer_2 = Dense(16,\n",
    "                       activation='relu',\n",
    "                       kernel_initializer=tf.keras.initializers.HeNormal(seed+2),\n",
    "                       kernel_regularizer=l2(0.01))(hidden_layer_1)\n",
    "hidden_layer_2 = Dropout(0.5)(hidden_layer_2)\n",
    "concat_layer_1 = concatenate([input_layer, hidden_layer_2])\n",
    "hidden_layer_3 = Dense(8,\n",
    "                       activation='relu',\n",
    "                       kernel_initializer=tf.keras.initializers.HeNormal(seed+3),\n",
    "                       kernel_regularizer=l2(0.01))(concat_layer_1)\n",
    "hidden_layer_3 = Dropout(0.5)(hidden_layer_3)\n",
    "hidden_layer_4 = Dense(4,\n",
    "                       activation='relu',\n",
    "                       kernel_initializer=tf.keras.initializers.HeNormal(seed+4),\n",
    "                       kernel_regularizer=l2(0.01))(hidden_layer_3)\n",
    "hidden_layer_4 = Dropout(0.5)(hidden_layer_4)\n",
    "concat_layer_2 = concatenate([concat_layer_1, hidden_layer_4])\n",
    "output_layer = Dense(1,\n",
    "                     activation='sigmoid',\n",
    "                     kernel_initializer=tf.keras.initializers.GlorotNormal(seed+5),\n",
    "                     kernel_regularizer=l2(0.01))(concat_layer_2)\n",
    "\n",
    "model_functional = Model(inputs=input_layer, outputs=output_layer)"
   ]
  },
  {
   "cell_type": "code",
   "execution_count": 137,
   "metadata": {},
   "outputs": [],
   "source": [
    "# Compile\n",
    "model_functional.compile(loss='binary_crossentropy',\n",
    "                         optimizer='adam',\n",
    "                         metrics=['Precision'])"
   ]
  },
  {
   "cell_type": "code",
   "execution_count": 138,
   "metadata": {},
   "outputs": [
    {
     "name": "stdout",
     "output_type": "stream",
     "text": [
      "Model: \"model\"\n",
      "__________________________________________________________________________________________________\n",
      " Layer (type)                Output Shape                 Param #   Connected to                  \n",
      "==================================================================================================\n",
      " input_1 (InputLayer)        [(None, 20)]                 0         []                            \n",
      "                                                                                                  \n",
      " dense (Dense)               (None, 32)                   672       ['input_1[0][0]']             \n",
      "                                                                                                  \n",
      " dropout (Dropout)           (None, 32)                   0         ['dense[0][0]']               \n",
      "                                                                                                  \n",
      " dense_1 (Dense)             (None, 16)                   528       ['dropout[0][0]']             \n",
      "                                                                                                  \n",
      " dropout_1 (Dropout)         (None, 16)                   0         ['dense_1[0][0]']             \n",
      "                                                                                                  \n",
      " concatenate (Concatenate)   (None, 36)                   0         ['input_1[0][0]',             \n",
      "                                                                     'dropout_1[0][0]']           \n",
      "                                                                                                  \n",
      " dense_2 (Dense)             (None, 8)                    296       ['concatenate[0][0]']         \n",
      "                                                                                                  \n",
      " dropout_2 (Dropout)         (None, 8)                    0         ['dense_2[0][0]']             \n",
      "                                                                                                  \n",
      " dense_3 (Dense)             (None, 4)                    36        ['dropout_2[0][0]']           \n",
      "                                                                                                  \n",
      " dropout_3 (Dropout)         (None, 4)                    0         ['dense_3[0][0]']             \n",
      "                                                                                                  \n",
      " concatenate_1 (Concatenate  (None, 40)                   0         ['concatenate[0][0]',         \n",
      " )                                                                   'dropout_3[0][0]']           \n",
      "                                                                                                  \n",
      " dense_4 (Dense)             (None, 1)                    41        ['concatenate_1[0][0]']       \n",
      "                                                                                                  \n",
      "==================================================================================================\n",
      "Total params: 1573 (6.14 KB)\n",
      "Trainable params: 1573 (6.14 KB)\n",
      "Non-trainable params: 0 (0.00 Byte)\n",
      "__________________________________________________________________________________________________\n"
     ]
    }
   ],
   "source": [
    "# Summary\n",
    "model_functional.summary()"
   ]
  },
  {
   "cell_type": "code",
   "execution_count": 139,
   "metadata": {},
   "outputs": [
    {
     "name": "stdout",
     "output_type": "stream",
     "text": [
      "Epoch 1/50\n"
     ]
    },
    {
     "name": "stdout",
     "output_type": "stream",
     "text": [
      "67/67 [==============================] - 1s 4ms/step - loss: 2.1733 - precision: 0.5153 - val_loss: 1.6631 - val_precision: 0.6791\n",
      "Epoch 2/50\n",
      "67/67 [==============================] - 0s 2ms/step - loss: 1.6830 - precision: 0.6159 - val_loss: 1.4704 - val_precision: 0.6636\n",
      "Epoch 3/50\n",
      "67/67 [==============================] - 0s 2ms/step - loss: 1.4469 - precision: 0.6787 - val_loss: 1.3101 - val_precision: 0.6959\n",
      "Epoch 4/50\n",
      "67/67 [==============================] - 0s 2ms/step - loss: 1.2912 - precision: 0.6928 - val_loss: 1.1752 - val_precision: 0.7040\n",
      "Epoch 5/50\n",
      "67/67 [==============================] - 0s 2ms/step - loss: 1.1485 - precision: 0.7252 - val_loss: 1.0540 - val_precision: 0.7397\n",
      "Epoch 6/50\n",
      "67/67 [==============================] - 0s 2ms/step - loss: 1.0303 - precision: 0.7438 - val_loss: 0.9574 - val_precision: 0.7364\n",
      "Epoch 7/50\n",
      "67/67 [==============================] - 0s 2ms/step - loss: 0.9404 - precision: 0.7595 - val_loss: 0.8701 - val_precision: 0.7617\n",
      "Epoch 8/50\n",
      "67/67 [==============================] - 0s 2ms/step - loss: 0.8519 - precision: 0.7684 - val_loss: 0.7985 - val_precision: 0.7725\n",
      "Epoch 9/50\n",
      "67/67 [==============================] - 0s 3ms/step - loss: 0.8006 - precision: 0.7626 - val_loss: 0.7398 - val_precision: 0.7788\n",
      "Epoch 10/50\n",
      "67/67 [==============================] - 0s 2ms/step - loss: 0.7313 - precision: 0.7933 - val_loss: 0.6902 - val_precision: 0.7837\n",
      "Epoch 11/50\n",
      "67/67 [==============================] - 0s 2ms/step - loss: 0.6762 - precision: 0.7946 - val_loss: 0.6435 - val_precision: 0.7921\n",
      "Epoch 12/50\n",
      "67/67 [==============================] - 0s 2ms/step - loss: 0.6328 - precision: 0.8122 - val_loss: 0.6049 - val_precision: 0.8144\n",
      "Epoch 13/50\n",
      "67/67 [==============================] - 0s 3ms/step - loss: 0.6113 - precision: 0.8112 - val_loss: 0.5763 - val_precision: 0.8090\n",
      "Epoch 14/50\n",
      "67/67 [==============================] - 0s 3ms/step - loss: 0.5758 - precision: 0.8236 - val_loss: 0.5503 - val_precision: 0.8141\n",
      "Epoch 15/50\n",
      "67/67 [==============================] - 0s 2ms/step - loss: 0.5545 - precision: 0.8102 - val_loss: 0.5285 - val_precision: 0.8223\n",
      "Epoch 16/50\n",
      "67/67 [==============================] - 0s 2ms/step - loss: 0.5286 - precision: 0.8235 - val_loss: 0.5091 - val_precision: 0.8205\n",
      "Epoch 17/50\n",
      "67/67 [==============================] - 0s 2ms/step - loss: 0.5207 - precision: 0.8174 - val_loss: 0.4951 - val_precision: 0.8274\n",
      "Epoch 18/50\n",
      "67/67 [==============================] - 0s 2ms/step - loss: 0.5010 - precision: 0.8280 - val_loss: 0.4807 - val_precision: 0.8256\n",
      "Epoch 19/50\n",
      "67/67 [==============================] - 0s 2ms/step - loss: 0.4857 - precision: 0.8247 - val_loss: 0.4691 - val_precision: 0.8229\n",
      "Epoch 20/50\n",
      "67/67 [==============================] - 0s 2ms/step - loss: 0.4750 - precision: 0.8353 - val_loss: 0.4597 - val_precision: 0.8238\n",
      "Epoch 21/50\n",
      "67/67 [==============================] - 0s 2ms/step - loss: 0.4719 - precision: 0.8267 - val_loss: 0.4516 - val_precision: 0.8247\n",
      "Epoch 22/50\n",
      "67/67 [==============================] - 0s 2ms/step - loss: 0.4636 - precision: 0.8247 - val_loss: 0.4453 - val_precision: 0.8247\n",
      "Epoch 23/50\n",
      "67/67 [==============================] - 0s 2ms/step - loss: 0.4502 - precision: 0.8407 - val_loss: 0.4390 - val_precision: 0.8272\n",
      "Epoch 24/50\n",
      "67/67 [==============================] - 0s 2ms/step - loss: 0.4499 - precision: 0.8318 - val_loss: 0.4345 - val_precision: 0.8281\n",
      "Epoch 25/50\n",
      "67/67 [==============================] - 0s 2ms/step - loss: 0.4473 - precision: 0.8280 - val_loss: 0.4325 - val_precision: 0.8223\n",
      "Epoch 26/50\n",
      "67/67 [==============================] - 0s 2ms/step - loss: 0.4424 - precision: 0.8359 - val_loss: 0.4273 - val_precision: 0.8281\n",
      "Epoch 27/50\n",
      "67/67 [==============================] - 0s 2ms/step - loss: 0.4364 - precision: 0.8389 - val_loss: 0.4246 - val_precision: 0.8290\n",
      "Epoch 28/50\n",
      "67/67 [==============================] - 0s 2ms/step - loss: 0.4322 - precision: 0.8364 - val_loss: 0.4226 - val_precision: 0.8238\n",
      "Epoch 29/50\n",
      "67/67 [==============================] - 0s 2ms/step - loss: 0.4318 - precision: 0.8309 - val_loss: 0.4178 - val_precision: 0.8316\n",
      "Epoch 30/50\n",
      "67/67 [==============================] - 0s 2ms/step - loss: 0.4288 - precision: 0.8412 - val_loss: 0.4169 - val_precision: 0.8316\n",
      "Epoch 31/50\n",
      "67/67 [==============================] - 0s 2ms/step - loss: 0.4258 - precision: 0.8390 - val_loss: 0.4178 - val_precision: 0.8223\n",
      "Epoch 32/50\n",
      "67/67 [==============================] - 0s 2ms/step - loss: 0.4206 - precision: 0.8353 - val_loss: 0.4131 - val_precision: 0.8298\n",
      "Epoch 33/50\n",
      "67/67 [==============================] - 0s 2ms/step - loss: 0.4262 - precision: 0.8376 - val_loss: 0.4120 - val_precision: 0.8316\n",
      "Epoch 34/50\n",
      "67/67 [==============================] - 0s 2ms/step - loss: 0.4204 - precision: 0.8348 - val_loss: 0.4121 - val_precision: 0.8378\n",
      "Epoch 35/50\n",
      "67/67 [==============================] - 0s 2ms/step - loss: 0.4190 - precision: 0.8491 - val_loss: 0.4108 - val_precision: 0.8281\n",
      "Epoch 36/50\n",
      "67/67 [==============================] - 0s 2ms/step - loss: 0.4164 - precision: 0.8394 - val_loss: 0.4086 - val_precision: 0.8316\n",
      "Epoch 37/50\n",
      "67/67 [==============================] - 0s 2ms/step - loss: 0.4197 - precision: 0.8377 - val_loss: 0.4078 - val_precision: 0.8316\n",
      "Epoch 38/50\n",
      "67/67 [==============================] - 0s 2ms/step - loss: 0.4171 - precision: 0.8408 - val_loss: 0.4059 - val_precision: 0.8316\n",
      "Epoch 39/50\n",
      "67/67 [==============================] - 0s 2ms/step - loss: 0.4137 - precision: 0.8450 - val_loss: 0.4056 - val_precision: 0.8316\n",
      "Epoch 40/50\n",
      "67/67 [==============================] - 0s 2ms/step - loss: 0.4132 - precision: 0.8417 - val_loss: 0.4060 - val_precision: 0.8238\n",
      "Epoch 41/50\n",
      "67/67 [==============================] - 0s 2ms/step - loss: 0.4154 - precision: 0.8406 - val_loss: 0.4052 - val_precision: 0.8325\n",
      "Epoch 42/50\n",
      "67/67 [==============================] - 0s 2ms/step - loss: 0.4162 - precision: 0.8424 - val_loss: 0.4058 - val_precision: 0.8238\n",
      "Epoch 43/50\n",
      "67/67 [==============================] - 0s 2ms/step - loss: 0.4168 - precision: 0.8481 - val_loss: 0.4064 - val_precision: 0.8214\n",
      "Epoch 44/50\n",
      "67/67 [==============================] - 0s 2ms/step - loss: 0.4177 - precision: 0.8365 - val_loss: 0.4044 - val_precision: 0.8316\n",
      "Epoch 45/50\n",
      "67/67 [==============================] - 0s 2ms/step - loss: 0.4141 - precision: 0.8510 - val_loss: 0.4048 - val_precision: 0.8238\n",
      "Epoch 46/50\n",
      "67/67 [==============================] - 0s 2ms/step - loss: 0.4133 - precision: 0.8443 - val_loss: 0.4029 - val_precision: 0.8272\n",
      "Epoch 47/50\n",
      "67/67 [==============================] - 0s 2ms/step - loss: 0.4098 - precision: 0.8522 - val_loss: 0.4023 - val_precision: 0.8316\n",
      "Epoch 48/50\n",
      "67/67 [==============================] - 0s 2ms/step - loss: 0.4100 - precision: 0.8411 - val_loss: 0.4008 - val_precision: 0.8360\n",
      "Epoch 49/50\n",
      "67/67 [==============================] - 0s 2ms/step - loss: 0.4111 - precision: 0.8496 - val_loss: 0.4000 - val_precision: 0.8281\n",
      "Epoch 50/50\n",
      "67/67 [==============================] - 0s 2ms/step - loss: 0.4161 - precision: 0.8474 - val_loss: 0.4017 - val_precision: 0.8272\n"
     ]
    }
   ],
   "source": [
    "# Define model checkpoint\n",
    "model_checkpoint = ModelCheckpoint('deployment\\\\best_model.h5', monitor='val_loss', save_best_only=True)\n",
    "\n",
    "model_func_hist = model_functional.fit(X_train_final, y_train, epochs=50, validation_data=(X_val_final, y_val), callbacks=[model_checkpoint])"
   ]
  },
  {
   "cell_type": "markdown",
   "metadata": {},
   "source": [
    "---"
   ]
  },
  {
   "cell_type": "markdown",
   "metadata": {},
   "source": [
    "# VI. Model Evaluation"
   ]
  },
  {
   "cell_type": "markdown",
   "metadata": {},
   "source": [
    "## 1. Machine Learning"
   ]
  },
  {
   "cell_type": "code",
   "execution_count": 140,
   "metadata": {},
   "outputs": [
    {
     "name": "stdout",
     "output_type": "stream",
     "text": [
      "Best Score: 0.9440662800331401\n",
      "Best Hyperparameters: {'max_features': 'sqrt', 'n_estimators': 100}\n"
     ]
    }
   ],
   "source": [
    "# Define the grid of hyperparameters to search\n",
    "grid = {\n",
    "    'n_estimators': [10, 50, 100, 200],\n",
    "    'max_features': ['sqrt', 'log2'],\n",
    "}\n",
    "\n",
    "# Define the grid search\n",
    "grid_search = GridSearchCV(estimator=extra_trees, param_grid=grid, cv=5)\n",
    "\n",
    "# Execute search\n",
    "result = grid_search.fit(X_train_final, y_train)\n",
    "\n",
    "# Summarize result\n",
    "print(f'Best Score: {result.best_score_}')\n",
    "print(f'Best Hyperparameters: {result.best_params_}')"
   ]
  },
  {
   "cell_type": "code",
   "execution_count": 141,
   "metadata": {},
   "outputs": [
    {
     "name": "stdout",
     "output_type": "stream",
     "text": [
      "Classification Report for Training Data:\n",
      "              precision    recall  f1-score   support\n",
      "\n",
      "           0       0.99      1.00      1.00      1064\n",
      "           1       1.00      0.99      1.00      1064\n",
      "\n",
      "    accuracy                           1.00      2128\n",
      "   macro avg       1.00      1.00      1.00      2128\n",
      "weighted avg       1.00      1.00      1.00      2128\n",
      "\n",
      "Classification Report for Test Data:\n",
      "              precision    recall  f1-score   support\n",
      "\n",
      "           0       0.91      0.95      0.93       621\n",
      "           1       0.64      0.47      0.54       110\n",
      "\n",
      "    accuracy                           0.88       731\n",
      "   macro avg       0.78      0.71      0.74       731\n",
      "weighted avg       0.87      0.88      0.87       731\n",
      "\n",
      "Confusion Matrix for Test Data:\n",
      "[[592  29]\n",
      " [ 58  52]]\n"
     ]
    },
    {
     "data": {
      "image/png": "[encoded data removed]",
      "text/plain": [
       "<Figure size 1000x700 with 2 Axes>"
      ]
     },
     "metadata": {},
     "output_type": "display_data"
    }
   ],
   "source": [
    "best = ExtraTreesClassifier(max_features= 'log2', n_estimators=200)\n",
    "best.fit(X_train_final, y_train)\n",
    "\n",
    "evaluate_model(best, X_train_final, y_train, X_test_final, y_test)"
   ]
  },
  {
   "cell_type": "markdown",
   "metadata": {},
   "source": [
    "## 2. Deep Learning"
   ]
  },
  {
   "cell_type": "code",
   "execution_count": 142,
   "metadata": {},
   "outputs": [
    {
     "data": {
      "image/png": "[encoded data removed]",
      "text/plain": [
       "<Figure size 1500x500 with 2 Axes>"
      ]
     },
     "metadata": {},
     "output_type": "display_data"
    }
   ],
   "source": [
    "# Plot Training Results\n",
    "\n",
    "model_seq_hist_df = pd.DataFrame(model_seq_hist.history)\n",
    "\n",
    "plt.figure(figsize=(15, 5))\n",
    "plt.subplot(1, 2, 1)\n",
    "sns.lineplot(data=model_seq_hist_df[['precision', 'val_precision']])\n",
    "plt.grid()\n",
    "plt.title('Accuracy vs Val-Accuracy')\n",
    "\n",
    "plt.subplot(1, 2, 2)\n",
    "sns.lineplot(data=model_seq_hist_df[['loss', 'val_loss']])\n",
    "plt.grid()\n",
    "plt.title('Loss vs Val-Loss')\n",
    "plt.show()"
   ]
  },
  {
   "cell_type": "code",
   "execution_count": 143,
   "metadata": {},
   "outputs": [
    {
     "name": "stdout",
     "output_type": "stream",
     "text": [
      "23/23 [==============================] - 0s 1ms/step\n",
      "              precision    recall  f1-score   support\n",
      "\n",
      "           0       0.85      1.00      0.92       621\n",
      "           1       0.00      0.00      0.00       110\n",
      "\n",
      "    accuracy                           0.85       731\n",
      "   macro avg       0.42      0.50      0.46       731\n",
      "weighted avg       0.72      0.85      0.78       731\n",
      "\n",
      "[[621   0]\n",
      " [110   0]]\n"
     ]
    }
   ],
   "source": [
    "y_pred = model_sequential.predict(X_test_final)\n",
    "y_pred_classes = np.argmax(y_pred, axis=1)\n",
    "\n",
    "print(classification_report(y_test, y_pred_classes))\n",
    "print(confusion_matrix(y_test, y_pred_classes))"
   ]
  },
  {
   "cell_type": "code",
   "execution_count": 144,
   "metadata": {},
   "outputs": [
    {
     "data": {
      "image/png": "[encoded data removed]",
      "text/plain": [
       "<Figure size 1500x500 with 2 Axes>"
      ]
     },
     "metadata": {},
     "output_type": "display_data"
    }
   ],
   "source": [
    "# Plot Training Results\n",
    "\n",
    "model_fun_hist_df = pd.DataFrame(model_func_hist.history)\n",
    "\n",
    "plt.figure(figsize=(15, 5))\n",
    "plt.subplot(1, 2, 1)\n",
    "sns.lineplot(data=model_fun_hist_df[['precision', 'val_precision']])\n",
    "plt.grid()\n",
    "plt.title('Precision vs Val-Precision')\n",
    "\n",
    "plt.subplot(1, 2, 2)\n",
    "sns.lineplot(data=model_fun_hist_df[['loss', 'val_loss']])\n",
    "plt.grid()\n",
    "plt.title('Loss vs Val-Loss')\n",
    "plt.show()"
   ]
  },
  {
   "cell_type": "markdown",
   "metadata": {},
   "source": [
    "Based on the visualization, I'm choosing the functional architecture as my best model"
   ]
  },
  {
   "cell_type": "code",
   "execution_count": 145,
   "metadata": {},
   "outputs": [
    {
     "name": "stdout",
     "output_type": "stream",
     "text": [
      "23/23 [==============================] - 0s 834us/step\n",
      "              precision    recall  f1-score   support\n",
      "\n",
      "           0       0.85      1.00      0.92       621\n",
      "           1       0.00      0.00      0.00       110\n",
      "\n",
      "    accuracy                           0.85       731\n",
      "   macro avg       0.42      0.50      0.46       731\n",
      "weighted avg       0.72      0.85      0.78       731\n",
      "\n",
      "[[621   0]\n",
      " [110   0]]\n"
     ]
    }
   ],
   "source": [
    "y_pred = model_functional.predict(X_test_final)\n",
    "y_pred_classes = np.argmax(y_pred, axis=1)\n",
    "\n",
    "print(classification_report(y_test, y_pred_classes))\n",
    "print(confusion_matrix(y_test, y_pred_classes))"
   ]
  },
  {
   "cell_type": "markdown",
   "metadata": {},
   "source": [
    "---"
   ]
  },
  {
   "cell_type": "markdown",
   "metadata": {},
   "source": [
    "# VII. Model Saving"
   ]
  },
  {
   "cell_type": "code",
   "execution_count": 146,
   "metadata": {},
   "outputs": [],
   "source": [
    "# Save the trained KNN model\n",
    "with open('Streamlit\\\\best_model.pkl', 'wb') as f:\n",
    "    pickle.dump(extra_trees, f)\n",
    "\n",
    "# Save the fitted StandardScaler\n",
    "with open('Streamlit\\\\scaler.pkl', 'wb') as f:\n",
    "    pickle.dump(scaler_n, f)\n",
    "\n",
    "# Combine the lists into a dictionary\n",
    "columns = {'num_col': num_col, 'cat_col': cat_col}\n",
    "\n",
    "# Write the dictionary to a text file in JSON format\n",
    "with open('Streamlit\\\\columns.txt', 'w') as f:\n",
    "    json.dump(columns, f)"
   ]
  }
 ],
 "metadata": {
  "kernelspec": {
   "display_name": "base",
   "language": "python",
   "name": "python3"
  },
  "language_info": {
   "codemirror_mode": {
    "name": "ipython",
    "version": 3
   },
   "file_extension": ".py",
   "mimetype": "text/x-python",
   "name": "python",
   "nbconvert_exporter": "python",
   "pygments_lexer": "ipython3",
   "version": "3.11.5"
  }
 },
 "nbformat": 4,
 "nbformat_minor": 2
}
